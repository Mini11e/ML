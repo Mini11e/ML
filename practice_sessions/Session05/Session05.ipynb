{
 "cells": [
  {
   "cell_type": "markdown",
   "id": "6740d9be",
   "metadata": {
    "slideshow": {
     "slide_type": "slide"
    }
   },
   "source": [
    "# Machine Learning (Summer 2024)"
   ]
  },
  {
   "cell_type": "markdown",
   "id": "01dd09d3",
   "metadata": {
    "slideshow": {
     "slide_type": "-"
    }
   },
   "source": [
    "## Practice Session 5"
   ]
  },
  {
   "cell_type": "markdown",
   "id": "cab6b55a",
   "metadata": {
    "slideshow": {
     "slide_type": "-"
    }
   },
   "source": [
    "May 21st, 2023"
   ]
  },
  {
   "cell_type": "markdown",
   "id": "e7f6b48c",
   "metadata": {
    "slideshow": {
     "slide_type": "-"
    }
   },
   "source": [
    "Ulf Krumnack & Lukas Niehaus\n",
    "\n",
    "Institute of Cognitive Science,\n",
    "University of Osnabrück"
   ]
  },
  {
   "cell_type": "markdown",
   "id": "6563c2fc",
   "metadata": {
    "slideshow": {
     "slide_type": "slide"
    }
   },
   "source": [
    "## Today's Session"
   ]
  },
  {
   "cell_type": "markdown",
   "id": "a0a1a0d1",
   "metadata": {
    "slideshow": {
     "slide_type": "-"
    }
   },
   "source": [
    "* Discussion Sheet05\n",
    "* LMS Update Rule\n",
    "* Concept Learning"
   ]
  }
 ],
 "metadata": {
  "kernelspec": {
   "display_name": "Python 3 (ipykernel)",
   "language": "python",
   "name": "python3"
  },
  "language_info": {
   "codemirror_mode": {
    "name": "ipython",
    "version": 3
   },
   "file_extension": ".py",
   "mimetype": "text/x-python",
   "name": "python",
   "nbconvert_exporter": "python",
   "pygments_lexer": "ipython3",
   "version": "3.12.2"
  }
 },
 "nbformat": 4,
 "nbformat_minor": 5
}
