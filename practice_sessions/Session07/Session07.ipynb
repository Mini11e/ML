{
 "cells": [
  {
   "cell_type": "markdown",
   "id": "6740d9be",
   "metadata": {
    "slideshow": {
     "slide_type": "slide"
    }
   },
   "source": [
    "# Machine Learning (Summer 2024)"
   ]
  },
  {
   "cell_type": "markdown",
   "id": "df8efa05",
   "metadata": {
    "slideshow": {
     "slide_type": "-"
    }
   },
   "source": [
    "## Practice Session 7"
   ]
  },
  {
   "cell_type": "markdown",
   "id": "6fca3081",
   "metadata": {
    "slideshow": {
     "slide_type": "-"
    }
   },
   "source": [
    "May 23rd, 2022"
   ]
  },
  {
   "cell_type": "markdown",
   "id": "a8ba71a4",
   "metadata": {
    "slideshow": {
     "slide_type": "-"
    }
   },
   "source": [
    "Ulf Krumnack & Lukas Niehaus\n",
    "\n",
    "Institute of Cognitive Science,\n",
    "University of Osnabrück"
   ]
  },
  {
   "cell_type": "markdown",
   "id": "6e6c6188",
   "metadata": {
    "slideshow": {
     "slide_type": "slide"
    }
   },
   "source": [
    "## Today's Session"
   ]
  },
  {
   "cell_type": "markdown",
   "id": "072dbc17",
   "metadata": {
    "slideshow": {
     "slide_type": "-"
    }
   },
   "source": [
    "* Show Sheet06\n",
    "* PCA"
   ]
  },
  {
   "cell_type": "markdown",
   "id": "3dfaceeb",
   "metadata": {},
   "source": [
    "## PCA Introduction\n",
    "* Dimension Reduction\n",
    "* Project Data on orthonormal vectors with highest variance\n",
    "* Minimize the Mean Reconstruction Square Error between original data and projected data:\n",
    "\n",
    "\n",
    "$$\n",
    "E = \\sum_{i=1\\dots|D|}(\\vec{z_i} - \\vec{x_i})^2\n",
    "$$"
   ]
  },
  {
   "cell_type": "markdown",
   "id": "fc593306",
   "metadata": {},
   "source": [
    "## PCA Visualization\n",
    "\n",
    "The following cells provide some visualizations related to PCA."
   ]
  },
  {
   "cell_type": "markdown",
   "id": "f2f910d2",
   "metadata": {},
   "source": [
    "### PCA Visualization 1: Mean squared reconstruction error and variance"
   ]
  },
  {
   "cell_type": "markdown",
   "id": "7366ac74",
   "metadata": {},
   "source": [
    "Preparation: provide some 2D-data (and plot it)."
   ]
  },
  {
   "cell_type": "code",
   "execution_count": null,
   "id": "aa0c8fa6",
   "metadata": {},
   "outputs": [],
   "source": [
    "import numpy as np\n",
    "import matplotlib.pyplot as plt\n",
    "\n",
    "X = np.random.randn(100,2)\n",
    "X = X @ np.linalg.cholesky([[1, 0.6], [0.6, 0.6]])\n",
    "X -= X.mean()\n",
    "\n",
    "eigenval, eigenvec = np.linalg.eig(np.cov(X.T));\n",
    "\n",
    "plt.figure()\n",
    "plt.axis('equal')\n",
    "plt.scatter(X[:,0], X[:,1], c='blue')\n",
    "plt.show()"
   ]
  },
  {
   "cell_type": "markdown",
   "id": "bf5f2145",
   "metadata": {},
   "source": [
    "An interactive plot showing the mean squared reconstruction error and the variance depending on the choosen projection space."
   ]
  },
  {
   "cell_type": "code",
   "execution_count": null,
   "id": "825f57ec",
   "metadata": {},
   "outputs": [],
   "source": [
    "%matplotlib ipympl \n",
    "import ipywidgets as widgets\n",
    "\n",
    "plt.figure(figsize=(8,4))\n",
    "axes = plt.subplot(1,2,1, label='2D Data'); plt.title('2D Data')\n",
    "axes2 = plt.subplot(1,2,2, label='Projection'); plt.title('Projection')\n",
    "\n",
    "\n",
    "def plot(p1):\n",
    "    axes.cla()\n",
    "    axes2.cla()\n",
    "    # rotation angle of projection line\n",
    "    alpha = p1*np.pi/180\n",
    "    \n",
    "    # rotation vector\n",
    "    w = np.array([np.cos(alpha), np.sin(alpha)]).reshape(2,1)\n",
    "    \n",
    "    # plot the axis\n",
    "    m = np.array([-1,1])\n",
    "    axes.plot(w[0]*3.5*m, w[1]*3.5*m, c='seagreen',linewidth=.8)\n",
    "    axes.plot(-w[1]*2*m, w[0]*2*m, c='mediumseagreen',linewidth=.8)\n",
    "\n",
    "    # plot projection lines\n",
    "    z = X @ w @ w.T\n",
    "    for i in range(X.shape[0]):\n",
    "        axes.plot([X[i,0], z[i,0]], [X[i,1], z[i,1]], 'cornflowerblue', linewidth=.8, alpha=.7)\n",
    "    \n",
    "    # plot projection points\n",
    "    axes.scatter(z[:,0], z[:,1], c='orange', s=3, zorder=4)\n",
    "\n",
    "    # plot data points\n",
    "    axes.scatter(X[:,0], X[:,1], c='royalblue', s=3, zorder=3)#, 'b', 'filled')\n",
    "    \n",
    "    # plot the origin\n",
    "    axes.scatter(0, 0, c='springgreen', marker='*', s=50, zorder=5)\n",
    "\n",
    "    # plot direction of eigenvector with largest eigenvalue\n",
    "    b = np.array([3.5, 4.5])\n",
    "    axes.plot(eigenvec[0,0]*-b[::-1], eigenvec[1,0]*-b[::-1], c='darkred',linewidth=.8)\n",
    "    axes.plot(eigenvec[0,0]*b, eigenvec[1,0]*b, c='darkred',linewidth=.8)\n",
    "    axes.set_xlim([-4,4])\n",
    "    axes.axis('equal')\n",
    "\n",
    "    \n",
    "    # projection\n",
    "    z1 = X @ w\n",
    "    zy = np.zeros_like(z1)\n",
    "    axes2.scatter(z1, zy,  c='orange', zorder=2)\n",
    "    axes2.hist(z1, bins=30, range=(-4,4), density=True, zorder=1)\n",
    "\n",
    "    axes2.set_xlim([-4,4])\n",
    "    axes2.set_ylim([-.03,1.1])\n",
    "    axes2.spines['bottom'].set_position('zero')\n",
    "    axes2.spines['bottom'].set_color('seagreen')\n",
    "\n",
    "    # variance\n",
    "    variance = np.var(z)\n",
    "    axes2.set_xlabel('Variance: {:1.3f}'.format(variance))\n",
    "\n",
    "    \n",
    "    # Minimize the mean squared reconstruction error\n",
    "    msre = np.sum((z - X)**2)\n",
    "    \n",
    "    axes.set_xlabel('MSRE: {:1.3f}'.format(msre))\n",
    "    plt.show()\n",
    "\n",
    "\n",
    "p1 = widgets.IntSlider(min=0, max=180, step=1, value=13, continuous_update=False)\n",
    "ui = widgets.HBox([p1])\n",
    "\n",
    "out = widgets.interactive_output(plot, {'p1': p1})\n",
    "\n",
    "display(ui, out)\n"
   ]
  },
  {
   "cell_type": "markdown",
   "id": "60106479",
   "metadata": {},
   "source": [
    "## PCA Visualization 2\n",
    "\n",
    "Allow to vary the data set to see hoe principle components change:"
   ]
  },
  {
   "cell_type": "code",
   "execution_count": null,
   "id": "a7e28d47",
   "metadata": {},
   "outputs": [],
   "source": [
    "%matplotlib ipympl \n",
    "import ipywidgets as widgets\n",
    "from sklearn.datasets import make_blobs\n",
    "from sklearn.decomposition import PCA\n",
    "\n",
    "n_samples = 500\n",
    "plt.figure(figsize=(5,5))\n",
    "axes = plt.subplot(1,1,1, label='pca'); plt.title('pca')\n",
    "pca = PCA()\n",
    "\n",
    "def plot(std1, std2, angle):\n",
    "    axes.cla()\n",
    "    # create data\n",
    "    X, y = make_blobs(n_samples=n_samples, cluster_std=[[std1, std2]],\n",
    "                      centers=[[0,0]],random_state=12) # \n",
    "\n",
    "    rot_mat = np.array([[np.cos(angle), -np.sin(angle)],[np.sin(angle), np.cos(angle)]])\n",
    "    X = X @ rot_mat\n",
    "    \n",
    "    # apply pca\n",
    "    pca.fit(X)\n",
    "    pcs = (pca.components_.T * np.sqrt(pca.explained_variance_)).T\n",
    "    #pcs = (pca.components_.T * pca.explained_variance_).T\n",
    "    \n",
    "    # plot\n",
    "    axes.scatter(X[:, 0], X[:, 1], 4, alpha=.5)\n",
    "    arrow_o = np.zeros_like(pcs)\n",
    "    axes.quiver(*arrow_o.T, *pcs.T, zorder=1, angles='xy', scale_units='xy', scale=1, color=['red','darkred'])\n",
    "    axes.plot(0, 0, '*y', markersize=12, alpha=1)\n",
    "\n",
    "    axes.set_xlim([-4,4])\n",
    "    axes.set_ylim([-4,4])\n",
    "    plt.show()\n",
    "    \n",
    "p1 = widgets.FloatSlider(min=0, max=2, step=.1, value=.5, continuous_update=True)\n",
    "p2 = widgets.FloatSlider(min=0, max=2, step=.1, value=.5, continuous_update=True)\n",
    "p3 = widgets.FloatSlider(min=0, max=np.pi, step=.1, value=.5*np.pi, continuous_update=True)\n",
    "ui = widgets.HBox([p1,p2,p3])\n",
    "\n",
    "out = widgets.interactive_output(plot, {'std1': p1, 'std2': p2, 'angle': p3})  \n",
    "\n",
    "display(ui, out)\n",
    "\n",
    "plot(1, 1, 0)"
   ]
  }
 ],
 "metadata": {
  "kernelspec": {
   "display_name": "Python 3 (ipykernel)",
   "language": "python",
   "name": "python3"
  },
  "language_info": {
   "codemirror_mode": {
    "name": "ipython",
    "version": 3
   },
   "file_extension": ".py",
   "mimetype": "text/x-python",
   "name": "python",
   "nbconvert_exporter": "python",
   "pygments_lexer": "ipython3",
   "version": "3.12.2"
  }
 },
 "nbformat": 4,
 "nbformat_minor": 5
}
