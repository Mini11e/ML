{
 "cells": [
  {
   "cell_type": "markdown",
   "id": "8c621d21",
   "metadata": {
    "slideshow": {
     "slide_type": "slide"
    }
   },
   "source": [
    "# Machine Learning (Summer 2024)"
   ]
  },
  {
   "cell_type": "markdown",
   "id": "a3a43f87",
   "metadata": {},
   "source": [
    "## Practice Session 1: Introduction"
   ]
  },
  {
   "cell_type": "markdown",
   "id": "7f259ad5",
   "metadata": {},
   "source": [
    "April, 16th 2024"
   ]
  },
  {
   "cell_type": "markdown",
   "id": "aee70570",
   "metadata": {},
   "source": [
    "Ulf Krumnack & Lukas Niehaus\n",
    "\n",
    "Institute of Cognitive Science,\n",
    "University of Osnabrück"
   ]
  },
  {
   "cell_type": "markdown",
   "id": "767eac4d",
   "metadata": {
    "slideshow": {
     "slide_type": "subslide"
    }
   },
   "source": [
    "## Today's Session"
   ]
  },
  {
   "cell_type": "markdown",
   "id": "21fc38a3",
   "metadata": {},
   "source": [
    "* Organization\n",
    "* Conda\n",
    "* Jupyter Notebooks\n",
    "* Python "
   ]
  },
  {
   "cell_type": "markdown",
   "id": "bd0f3127",
   "metadata": {
    "slideshow": {
     "slide_type": "slide"
    }
   },
   "source": [
    "## Format of the Machine Learning course"
   ]
  },
  {
   "cell_type": "markdown",
   "id": "338c30f6",
   "metadata": {
    "slideshow": {
     "slide_type": "subslide"
    }
   },
   "source": [
    "### Lecture practice and testate\n",
    "  - lecture: Prof. Gunther Heidemann\n",
    "  - practice: Ulf Krumnack and Lukas Niehaus\n",
    "  - feedback sessions: Tutors\n",
    "  \n",
    "  - exercise sheets: Weekly in group of three"
   ]
  },
  {
   "cell_type": "markdown",
   "id": "83f57692",
   "metadata": {
    "slideshow": {
     "slide_type": "subslide"
    }
   },
   "source": [
    "### Offline only\n",
    " * neither practice nor lecture will be recorded\n",
    " * testate can be online or offline  "
   ]
  },
  {
   "cell_type": "markdown",
   "id": "59c5968b",
   "metadata": {
    "slideshow": {
     "slide_type": "subslide"
    }
   },
   "source": [
    "### Weekly shedule\n",
    "* Tuesday: \n",
    "    * New exercise sheet\n",
    "    * Practice session: Discussion of previous sheet and presentation of new sheet\n",
    "* Wednesday: Lecture\n",
    "* Thursday: Lecture\n",
    "* Sunday 11:59pm: Deadline for exercise sheet\n",
    "* Monday and Tuesday: Tutor meetings to discuss sheet."
   ]
  },
  {
   "cell_type": "markdown",
   "id": "b42eb157",
   "metadata": {
    "slideshow": {
     "slide_type": "subslide"
    }
   },
   "source": [
    "### StudIP\n",
    "\n",
    "* lecture and practice material\n",
    "* upload your solutions to the exercise sheets\n",
    "* forum for questions and discussion"
   ]
  },
  {
   "cell_type": "markdown",
   "id": "cf5c2eb3",
   "metadata": {
    "slideshow": {
     "slide_type": "subslide"
    }
   },
   "source": [
    "## Tutors"
   ]
  },
  {
   "cell_type": "markdown",
   "id": "a1413f03",
   "metadata": {
    "slideshow": {
     "slide_type": "-"
    }
   },
   "source": [
    "There are 7 tutors to assist you:\n",
    "\n",
    "* Manar Ali\n",
    "  - maali@uni-osnabrueck.de\n",
    "* Malin Braatz\n",
    "  - mbraatz@uni-osnabrueck.de\n",
    "* Leonard Frommelt\n",
    "  - lfrommelt@uni-osnabrueck.de\n",
    "* Franziska-Marie Plate\n",
    "  - fplate@uni-osnabrueck.de\n",
    "* Argha Sarker\n",
    "  - asarker@uni-osnabrueck.de\n",
    "* Alice Schirrmeister\n",
    "  - aschirrmeist@uni-osnabrueck.de\n",
    "* Seyed Arman Taghizadeh Motlagh\n",
    "  - staghizadehm@uni-osnabrueck.de\n",
    "\n",
    "They are there to answer your questions. You can also ask you fellow students via the StudIP forum or Ulf and me."
   ]
  },
  {
   "cell_type": "markdown",
   "id": "8a30c0ca",
   "metadata": {
    "slideshow": {
     "slide_type": "subslide"
    }
   },
   "source": [
    "## The lecture\n",
    "\n",
    "* For questions regarding the lecture (slides) ask Prof. Heidemann directly in the lecture or the forum."
   ]
  },
  {
   "cell_type": "markdown",
   "id": "45acb6f9",
   "metadata": {
    "slideshow": {
     "slide_type": "slide"
    }
   },
   "source": [
    "## The practice sessions"
   ]
  },
  {
   "cell_type": "markdown",
   "id": "d9dc5d64",
   "metadata": {},
   "source": [
    "* apply techniques from the lecture\n",
    "  - use functions from libraries\n",
    "  - implementation of algorithms\n",
    "  - experiments with data"
   ]
  },
  {
   "cell_type": "markdown",
   "id": "65d8577c",
   "metadata": {
    "slideshow": {
     "slide_type": "subslide"
    }
   },
   "source": [
    "* deepen your understanding\n",
    "  - discuss selected topics in more detail\n",
    "  - look at the mathematical background\n",
    "  - technical aspects and choices"
   ]
  },
  {
   "cell_type": "markdown",
   "id": "0ce72944",
   "metadata": {
    "slideshow": {
     "slide_type": "subslide"
    }
   },
   "source": [
    "* ask questions\n",
    "    * questions regarding the practice sessions\n",
    "    * questions your fellow students or tutors could not answer\n",
    "    * practical / implementation question. For theoretical questions you may ask Prof. Heidemann in the lecture.\n",
    "    * send us an email before if you think the answer would profit from preparation (small demo, having a look at code etc.)"
   ]
  },
  {
   "cell_type": "markdown",
   "id": "cdf6969a",
   "metadata": {
    "slideshow": {
     "slide_type": "subslide"
    }
   },
   "source": [
    "## The feedback sessions\n",
    "\n",
    "* Monday/Tuesday with tutors\n",
    "* groups of three\n",
    "* offline or online\n",
    "    * online: StudIP BBB room with tutor name\n",
    "    * offline: In the process of finding rooms\n",
    "* prepare for final exam\n",
    "* explain your solution to the tutors\n",
    "* ask questions\n",
    "* you need to pass N-2 testate/sheets to participate in the final exam\n",
    "* this weeks sheet `sheet01` is already relevant to pass the testate."
   ]
  },
  {
   "cell_type": "markdown",
   "id": "e543d775",
   "metadata": {
    "slideshow": {
     "slide_type": "subslide"
    }
   },
   "source": [
    "### Finding groups\n",
    "\n",
    "* StudIP group system\n",
    "* Enrollment is open"
   ]
  },
  {
   "cell_type": "markdown",
   "id": "908a0a4f",
   "metadata": {
    "slideshow": {
     "slide_type": "subslide"
    }
   },
   "source": [
    "## Final Exam"
   ]
  },
  {
   "cell_type": "markdown",
   "id": "6e365b66",
   "metadata": {},
   "source": [
    "* Timeslot of last lecture: 03.07.24, 10:00-12:00\n",
    "* Timeslot of exam: 04.07.24, 10:00-12:00 \n",
    "* Offline exam\n",
    "* Traditional exam, not open book\n",
    "* Mixture of exercises\n",
    "    * Multiple choice\n",
    "    * Pseudocode\n",
    "    * Algorithms by hand\n",
    "    * Small proofs"
   ]
  },
  {
   "cell_type": "markdown",
   "id": "9f29b558",
   "metadata": {
    "slideshow": {
     "slide_type": "fragment"
    }
   },
   "source": [
    "### Requirement to participate in the final exam:\n",
    "* more than 50% in N-2 of the sheets"
   ]
  },
  {
   "cell_type": "markdown",
   "id": "8b9747c4",
   "metadata": {
    "slideshow": {
     "slide_type": "subslide"
    }
   },
   "source": [
    "## Communication\n",
    "\n",
    "* Questions regarding the lecture and theory:\n",
    "    * Ask Prof. Heidemann in the lecture or in the Stud.IP forum\n",
    "* Questions regarding practice sessions:\n",
    "    * Send Ulf or Lukas an email or directly ask during practice session\n",
    "* Smaller questions regarding implementation, assignments etc.:\n",
    "    * Ask your tutors or in the forum\n",
    "* Private matters (e.g. health related):\n",
    "    * Send Prof. Heidemann an email\n",
    "* Use the forum\n",
    "    * Quick responses from other students\n",
    "    * All of you profit from the answer "
   ]
  },
  {
   "cell_type": "markdown",
   "id": "0999c8d5",
   "metadata": {
    "slideshow": {
     "slide_type": "slide"
    }
   },
   "source": [
    "# Programming exercises"
   ]
  },
  {
   "cell_type": "markdown",
   "id": "7452e8b2",
   "metadata": {},
   "source": [
    "Practice and exercises will be based on Python:\n",
    "* no previous knowledge of Python is required\n",
    "  - but: some basic programming experience (in any programming language) is definitively recommended\n",
    "* all skills you need to do the exercises should be covered in the practice sessions\n",
    "  - if you are missing anything, please let us know!  \n",
    "* if you have any questions, ask in the forum, the tutors or us\n",
    "  - we will pick up questions from the forum and discuss them in the practice session\n",
    "* keep in mind: this is a machine learning class, not a programming class!"
   ]
  },
  {
   "cell_type": "markdown",
   "id": "57743e35",
   "metadata": {
    "slideshow": {
     "slide_type": "subslide"
    }
   },
   "source": [
    "Goals:\n",
    "* apply ideas from the lectures\n",
    "* test your understanding\n",
    "* experiment and play"
   ]
  },
  {
   "cell_type": "markdown",
   "id": "5cf7604b",
   "metadata": {
    "slideshow": {
     "slide_type": "subslide"
    }
   },
   "source": [
    "You may do the exercises in another language (e.g. Java, Matlab), but:\n",
    "* speak to the tutors first!\n",
    "* other languages will not be covered in the practice sessions!"
   ]
  },
  {
   "cell_type": "markdown",
   "id": "8a5999cc",
   "metadata": {
    "slideshow": {
     "slide_type": "slide"
    }
   },
   "source": [
    "# Submission of Exercises"
   ]
  },
  {
   "cell_type": "markdown",
   "id": "994eed14",
   "metadata": {},
   "source": [
    "* solutions should be submitted as jupyter notebooks in the StudIP group folder of your exercise group"
   ]
  },
  {
   "cell_type": "markdown",
   "id": "80b67733",
   "metadata": {
    "slideshow": {
     "slide_type": "slide"
    }
   },
   "source": [
    "## Setup your homework environment\n",
    "\n",
    "### Install Python\n",
    "\n",
    "Practice session and assignments will use Jupyter notebooks, which requires Python. Moreover, we need additional Machine Learning packages.                                                                        \n",
    "                                                                                 \n",
    "They are best managed with Conda:                                                \n",
    "                                                                                 \n",
    "We recommend miniconda which you can install from here:                          \n",
    "https://docs.conda.io/en/latest/miniconda.html                                   \n",
    "                                                                                 \n",
    "Alternatively download and install Anaconda which is larger and comes with more  \n",
    "preinstalled packages.                                                           \n",
    "https://www.anaconda.com/distribution/#download-section                          \n",
    "                                                                                 \n",
    "You can find installation instructions here:                                     \n",
    "https://conda.io/projects/conda/en/latest/user-guide/install/index.html"
   ]
  },
  {
   "cell_type": "markdown",
   "id": "8148bdb9",
   "metadata": {
    "slideshow": {
     "slide_type": "subslide"
    }
   },
   "source": [
    "### Setup the `ml` environment\n",
    "Download `ml.yml` from Stud.IP. Then in a terminal navigate to the directory where you saved `ml.yml` and run\n",
    "\n",
    "```sh\n",
    "conda env create -f ml.yml \n",
    "```"
   ]
  },
  {
   "cell_type": "markdown",
   "id": "e68710e5",
   "metadata": {
    "slideshow": {
     "slide_type": "subslide"
    }
   },
   "source": [
    "#### Activate the environment \n",
    "\n",
    "Always activate the enviornment when you work on the homework. \n",
    "\n",
    "```sh\n",
    "conda activate ml\n",
    "\n",
    "```"
   ]
  },
  {
   "cell_type": "markdown",
   "id": "c1359acd",
   "metadata": {
    "slideshow": {
     "slide_type": "subslide"
    }
   },
   "source": [
    "#### Dectivate the environment \n",
    "\n",
    "To deactivate the environment again run\n",
    "\n",
    "```sh\n",
    "conda deactivate\n",
    "```"
   ]
  },
  {
   "cell_type": "markdown",
   "id": "476e908e",
   "metadata": {
    "slideshow": {
     "slide_type": "slide"
    }
   },
   "source": [
    "### Run Jupyter Notebooks\n",
    "\n",
    "The notebook server has to be started from the command line:\n",
    "* navigate to the directory where you downloaded the notebook to (e.g., `introduction.ipynb`), e.g. `~/university/ML2024` or `C:\\Users\\Documents\\University\\ML2024` and run jupyter in that directory.\n",
    "\n",
    "```sh\n",
    "cd ~/university/ML2024\n",
    "jupyter lab\n",
    "```\n",
    "\n",
    "* Usually a browser window should open up. If not, open your favorite webbrowser and navigate to [localhost:8888/lab](localhost:8888/lab).\n",
    "\n",
    "* You will be presented with a list of files, choose `sheet01.ipynb`: You are good to go now can start working on your homework right away!"
   ]
  },
  {
   "cell_type": "markdown",
   "id": "a3f7255b",
   "metadata": {
    "slideshow": {
     "slide_type": "slide"
    }
   },
   "source": [
    "# Short introduction to Notebooks"
   ]
  },
  {
   "cell_type": "markdown",
   "id": "3afefb2c",
   "metadata": {
    "slideshow": {
     "slide_type": "subslide"
    }
   },
   "source": [
    "## Notebook User Interface\n",
    "\n",
    "This is a IPython Notebook cell. There are two (important for you) kinds of cells: *Mardown* and *Code*. You can change the cell type with the drop-down menu in the toolbar above.\n",
    "There are two different modes: *edit mode* and *command mode*. To enter command mode hit <kbd>Esc</kbd> , for edit mode hit <kbd>Enter</kbd>. If you are in command mode hit <kbd>B</kbd> to insert a new cell. To eveluate a cell hit <kbd>Ctrl</kbd>+<kbd>Enter</kbd>. An overview of all shortcuts can be found in Help -> Keybort Shortcuts.\n",
    "\n",
    "For more information go to: Help -> User Interface Tour"
   ]
  },
  {
   "cell_type": "markdown",
   "id": "46e8d4f5",
   "metadata": {
    "slideshow": {
     "slide_type": "subslide"
    }
   },
   "source": [
    "## This is a Markdown cell\n",
    "\n",
    "You can format your text in an intuitive way. Hit Enter or double click to edit the cell.\n",
    "\n",
    "- example\n",
    "- bullet\n",
    "- points.\n",
    "\n",
    "You can write *italic text* or **bold text**\n",
    "\n",
    "or even latex formulars: $$ (x+y)^n = \\sum_{k=0}^{n}\\binom{n}{k} x^{n-k}y^{k} $$\n",
    "\n"
   ]
  },
  {
   "cell_type": "markdown",
   "id": "90547865",
   "metadata": {
    "slideshow": {
     "slide_type": "subslide"
    }
   },
   "source": [
    "| Date        | what          |\n",
    "|-------------|---------------|\n",
    "| April 16    | Practice      |\n",
    "| April 17    | Lecture       |\n",
    "| April 18    | Lecture       |\n"
   ]
  },
  {
   "cell_type": "code",
   "execution_count": null,
   "id": "9ffd290c",
   "metadata": {
    "slideshow": {
     "slide_type": "subslide"
    }
   },
   "outputs": [],
   "source": [
    "# This is a code cell\n",
    "1+2"
   ]
  },
  {
   "cell_type": "markdown",
   "id": "7bb4866b",
   "metadata": {
    "slideshow": {
     "slide_type": "slide"
    }
   },
   "source": [
    "# Basics of Python"
   ]
  },
  {
   "cell_type": "markdown",
   "id": "04efca8b",
   "metadata": {},
   "source": [
    "Python:\n",
    "* provides a small core of frequently used functions and types\n",
    "  * high-level number objects like integers and floating point numbers\n",
    "  * containers like lists and dictionaries\n",
    "* can be extended for specific purposes\n",
    "  * we will use some of these extensions for the practice session\n",
    "  * we will provide some introduction to those extensions\n",
    "    * numpy\n",
    "    * matplotlib\n",
    "    * scikit-learn\n",
    "    * ..."
   ]
  },
  {
   "cell_type": "markdown",
   "id": "39b87e12",
   "metadata": {
    "slideshow": {
     "slide_type": "fragment"
    }
   },
   "source": [
    "Remark: we are using Python 3 - some examples my not work with Python 2!"
   ]
  },
  {
   "cell_type": "markdown",
   "id": "2e53e834",
   "metadata": {
    "slideshow": {
     "slide_type": "subslide"
    }
   },
   "source": [
    "## Online Tutorials:\n",
    "\n",
    "\n",
    "interactive python tutorial for beginners: http://www.learnpython.org/\n",
    "\n",
    "and many, many more ...\n"
   ]
  },
  {
   "cell_type": "markdown",
   "id": "39cbd80d",
   "metadata": {
    "slideshow": {
     "slide_type": "slide"
    }
   },
   "source": [
    "## Comments\n",
    "Comments in Python start with #."
   ]
  },
  {
   "cell_type": "code",
   "execution_count": null,
   "id": "5a133b6a",
   "metadata": {},
   "outputs": [],
   "source": [
    "# This line is a comment and ignored by python\n",
    "print(\"Hello, world!\")"
   ]
  },
  {
   "cell_type": "markdown",
   "id": "2c59be70",
   "metadata": {
    "slideshow": {
     "slide_type": "slide"
    }
   },
   "source": [
    "## Types\n",
    "\n",
    "Python has some basic types:"
   ]
  },
  {
   "cell_type": "code",
   "execution_count": null,
   "id": "cb31f1fd",
   "metadata": {},
   "outputs": [],
   "source": [
    "1        # this is an integer\n",
    "1.0      # this is a float\n",
    "'this is a \"string\"' # or\n",
    "\"this is a \\\"string\\\"\"\n",
    "True     # this is a boolean\n",
    "None     # None is used to represent the absence of a value"
   ]
  },
  {
   "cell_type": "code",
   "execution_count": null,
   "id": "a29ecd05",
   "metadata": {
    "slideshow": {
     "slide_type": "fragment"
    }
   },
   "outputs": [],
   "source": [
    "type(1)"
   ]
  },
  {
   "cell_type": "markdown",
   "id": "17c02f49",
   "metadata": {
    "slideshow": {
     "slide_type": "fragment"
    }
   },
   "source": [
    "Type conversion"
   ]
  },
  {
   "cell_type": "code",
   "execution_count": null,
   "id": "c938e8cf",
   "metadata": {},
   "outputs": [],
   "source": [
    "str(3)\n",
    "#float(\"17\")\n",
    "#int(\"17\")"
   ]
  },
  {
   "cell_type": "markdown",
   "id": "def50a9a",
   "metadata": {
    "slideshow": {
     "slide_type": "slide"
    }
   },
   "source": [
    "## Variables\n",
    "\n",
    "Variables are named pieces of memory. They can keep values. Variable names should be speaking, i.e. whole words, separated by underscore: "
   ]
  },
  {
   "cell_type": "code",
   "execution_count": null,
   "id": "04043d5b",
   "metadata": {},
   "outputs": [],
   "source": [
    "# Variables\n",
    "counter = 1\n",
    "ratio = 1.1\n",
    "text = 'this is a string'\n",
    "flag = True\n",
    "no_value = None\n",
    "\n",
    "print(counter, ratio, text, flag, no_value)"
   ]
  },
  {
   "cell_type": "code",
   "execution_count": null,
   "id": "b09958d9",
   "metadata": {
    "slideshow": {
     "slide_type": "subslide"
    }
   },
   "outputs": [],
   "source": [
    "a = 3"
   ]
  },
  {
   "cell_type": "code",
   "execution_count": null,
   "id": "98a4119a",
   "metadata": {
    "slideshow": {
     "slide_type": "fragment"
    }
   },
   "outputs": [],
   "source": [
    "type(a)"
   ]
  },
  {
   "cell_type": "code",
   "execution_count": null,
   "id": "e5f880a2",
   "metadata": {
    "slideshow": {
     "slide_type": "fragment"
    }
   },
   "outputs": [],
   "source": [
    "a = 5.0"
   ]
  },
  {
   "cell_type": "markdown",
   "id": "cb4daed4",
   "metadata": {
    "slideshow": {
     "slide_type": "slide"
    }
   },
   "source": [
    "## Simple I/O"
   ]
  },
  {
   "cell_type": "code",
   "execution_count": null,
   "id": "8f7753d6",
   "metadata": {
    "slideshow": {
     "slide_type": "-"
    }
   },
   "outputs": [],
   "source": [
    "# Code cells can contain interactive commands:\n",
    "a = input('First Number: ')\n",
    "b = input('Second Number: ')\n",
    "c = float(a) + float(b)\n",
    "print('Result:', c)"
   ]
  },
  {
   "cell_type": "markdown",
   "id": "bd1bd365",
   "metadata": {
    "slideshow": {
     "slide_type": "slide"
    }
   },
   "source": [
    "## Simple Artithmetic"
   ]
  },
  {
   "cell_type": "code",
   "execution_count": null,
   "id": "ad6d7a2b",
   "metadata": {
    "slideshow": {
     "slide_type": "-"
    }
   },
   "outputs": [],
   "source": [
    "print(1 + 1)\n",
    "print(2 * 3)\n",
    "print(7 // 2)\n",
    "print(7 / 2)\n",
    "print(2 ** 6)\n",
    "print(7 % 2)"
   ]
  },
  {
   "cell_type": "markdown",
   "id": "5b513679",
   "metadata": {
    "slideshow": {
     "slide_type": "slide"
    }
   },
   "source": [
    "## Boolean Arithmetic"
   ]
  },
  {
   "cell_type": "code",
   "execution_count": null,
   "id": "9c4b3237",
   "metadata": {},
   "outputs": [],
   "source": [
    "a = True\n",
    "b = False\n",
    "print( a and b )\n",
    "print( a or b )\n",
    "print( a ^ b )\n",
    "print( not b )"
   ]
  },
  {
   "cell_type": "code",
   "execution_count": null,
   "id": "66359dfb",
   "metadata": {
    "slideshow": {
     "slide_type": "fragment"
    }
   },
   "outputs": [],
   "source": [
    "print( all([True, True, True]))\n",
    "print( any([True, False, False]))"
   ]
  },
  {
   "cell_type": "markdown",
   "id": "c970edd0",
   "metadata": {
    "slideshow": {
     "slide_type": "slide"
    }
   },
   "source": [
    "Control Structures\n",
    "---"
   ]
  },
  {
   "cell_type": "code",
   "execution_count": null,
   "id": "0b3b2fdc",
   "metadata": {},
   "outputs": [],
   "source": [
    "a = 1\n",
    "b = 2\n",
    "c = 3\n",
    "\n",
    "if a == b :\n",
    "    print('a is equal to b')\n",
    "    print('hello')\n",
    "elif a < b:\n",
    "    print('a is smaller than b')\n",
    "else :\n",
    "    print('a is greater than b')\n",
    "\n",
    "if a < b < c :\n",
    "    print('b is between a and c')\n",
    "\n",
    "if a in [1,2,3] :\n",
    "    print('a is in inside the list')"
   ]
  },
  {
   "cell_type": "markdown",
   "id": "8e337746",
   "metadata": {
    "slideshow": {
     "slide_type": "slide"
    }
   },
   "source": [
    "Loops\n",
    "------\n",
    "\n"
   ]
  },
  {
   "cell_type": "markdown",
   "id": "ee996088",
   "metadata": {
    "slideshow": {
     "slide_type": "subslide"
    }
   },
   "source": [
    "### `while` loops"
   ]
  },
  {
   "cell_type": "code",
   "execution_count": null,
   "id": "934a664e",
   "metadata": {},
   "outputs": [],
   "source": [
    "# while loop\n",
    "\n",
    "a = 0\n",
    "while a < 4:\n",
    "    print(a)\n",
    "    a += 1"
   ]
  },
  {
   "cell_type": "markdown",
   "id": "88c0a77c",
   "metadata": {
    "slideshow": {
     "slide_type": "subslide"
    }
   },
   "source": [
    "### `for` loops\n",
    "\n",
    "The `for` loop can be used whenever something can be iterated:"
   ]
  },
  {
   "cell_type": "code",
   "execution_count": null,
   "id": "43a66314",
   "metadata": {
    "slideshow": {
     "slide_type": "-"
    }
   },
   "outputs": [],
   "source": [
    "# for loops are often used together with range\n",
    "\n",
    "for i in range(4):\n",
    "    print(i)"
   ]
  },
  {
   "cell_type": "markdown",
   "id": "025d1d21",
   "metadata": {
    "slideshow": {
     "slide_type": "slide"
    }
   },
   "source": [
    "## Functions\n",
    "\n",
    "- A function is a block of code that is used to perform a single action.\n",
    "- Functions provide better modularity and support reuse."
   ]
  },
  {
   "cell_type": "code",
   "execution_count": null,
   "id": "98129338",
   "metadata": {
    "slideshow": {
     "slide_type": "fragment"
    }
   },
   "outputs": [],
   "source": [
    "def hello(arg):\n",
    "    \"Simple Hello function\"\n",
    "    print(\"Hello {}\".format(arg))"
   ]
  },
  {
   "cell_type": "code",
   "execution_count": null,
   "id": "3e00688c",
   "metadata": {
    "slideshow": {
     "slide_type": "fragment"
    }
   },
   "outputs": [],
   "source": [
    "hello('Python')\n",
    "hello(3)"
   ]
  },
  {
   "cell_type": "markdown",
   "id": "47991c5c",
   "metadata": {
    "slideshow": {
     "slide_type": "subslide"
    }
   },
   "source": [
    "Functions may also provide a return value:"
   ]
  },
  {
   "cell_type": "code",
   "execution_count": null,
   "id": "06d41fa3",
   "metadata": {
    "slideshow": {
     "slide_type": "-"
    }
   },
   "outputs": [],
   "source": [
    "def plus(a,b):\n",
    "    \"\"\"\n",
    "    Add the two arguments a and b.\n",
    "    \"\"\"\n",
    "    r = a + b\n",
    "    return r"
   ]
  },
  {
   "cell_type": "code",
   "execution_count": null,
   "id": "1efb8949",
   "metadata": {
    "slideshow": {
     "slide_type": "fragment"
    }
   },
   "outputs": [],
   "source": [
    "print(plus(2,3))"
   ]
  },
  {
   "cell_type": "code",
   "execution_count": null,
   "id": "0fcb6e71",
   "metadata": {
    "slideshow": {
     "slide_type": "fragment"
    }
   },
   "outputs": [],
   "source": [
    "print(plus.__doc__)"
   ]
  },
  {
   "cell_type": "code",
   "execution_count": null,
   "id": "20da11ac",
   "metadata": {
    "slideshow": {
     "slide_type": "fragment"
    }
   },
   "outputs": [],
   "source": [
    "plus?"
   ]
  },
  {
   "cell_type": "markdown",
   "id": "80deffb5",
   "metadata": {
    "slideshow": {
     "slide_type": "slide"
    }
   },
   "source": [
    "## Classes and objects\n",
    "\n",
    "A class bundles multiple functions (\"methods\") that operate on the same data (the \"object\", that is an \"instance\" of that class):\n",
    "* classes are defined using the keyword `class`\n",
    "* methods take a reference to the object as first argument (usually called `self`)"
   ]
  },
  {
   "cell_type": "code",
   "execution_count": null,
   "id": "61ce4c07",
   "metadata": {
    "slideshow": {
     "slide_type": "subslide"
    }
   },
   "outputs": [],
   "source": [
    "class Square:\n",
    "    \"\"\"Simple class representing a square.\n",
    "    \"\"\"\n",
    "    side = 1\n",
    "    \n",
    "    def area(self):\n",
    "        \"\"\"Area of the square.\"\"\"\n",
    "        return self.side ** 2\n",
    "    \n",
    "    def perimeter(self):\n",
    "        \"\"\"Perimeter of the square.\"\"\"\n",
    "        return 4 * self.side\n",
    "    \n",
    "    def grow(self, delta):\n",
    "        \"\"\"Grow the square.\"\"\"\n",
    "        self.side += delta\n",
    "\n",
    "\n",
    "square = Square()  # instantiate the class\n",
    "print(\"area:\", square.side, \"; area:\", square.area(), \"; perimeter:\", square.perimeter())\n",
    "\n",
    "square.grow(2)  # change the square\n",
    "print(\"area:\", square.side, \"; area:\", square.area(), \"; perimeter:\", square.perimeter())"
   ]
  },
  {
   "cell_type": "markdown",
   "id": "59d1c60e",
   "metadata": {
    "slideshow": {
     "slide_type": "slide"
    }
   },
   "source": [
    "# Some more Python"
   ]
  },
  {
   "cell_type": "markdown",
   "id": "a54e22b4",
   "metadata": {
    "slideshow": {
     "slide_type": "slide"
    }
   },
   "source": [
    "## Tab completion in notebooks"
   ]
  },
  {
   "cell_type": "markdown",
   "id": "0b05231b",
   "metadata": {},
   "source": [
    "Hitting <kbd> &#x21B9; </kbd> (the tab key) shows possible continuations of the current word:"
   ]
  },
  {
   "cell_type": "code",
   "execution_count": null,
   "id": "a03aaf1b",
   "metadata": {},
   "outputs": [],
   "source": [
    "len"
   ]
  },
  {
   "cell_type": "markdown",
   "id": "d162f5c4",
   "metadata": {
    "slideshow": {
     "slide_type": "fragment"
    }
   },
   "source": [
    "<kbd> &#x21E7; </kbd>+<kbd> &#x21B9; </kbd> (shift+tab) provides a short info."
   ]
  },
  {
   "cell_type": "markdown",
   "id": "10851942",
   "metadata": {
    "slideshow": {
     "slide_type": "slide"
    }
   },
   "source": [
    "## Asserts\n",
    "\n",
    "The `assert` command can be used to check if a given condition holds:"
   ]
  },
  {
   "cell_type": "code",
   "execution_count": null,
   "id": "4f4689fe",
   "metadata": {},
   "outputs": [],
   "source": [
    "import sys\n",
    "\n",
    "assert sys.version_info.major >= 3, \"Your Python is too old\""
   ]
  },
  {
   "cell_type": "markdown",
   "id": "399ca1a7",
   "metadata": {
    "slideshow": {
     "slide_type": "fragment"
    }
   },
   "source": [
    "We make use of `assert`s in the exercise sheets to help you check if your code produces expected results."
   ]
  },
  {
   "cell_type": "markdown",
   "id": "1efc63a9",
   "metadata": {
    "slideshow": {
     "slide_type": "slide"
    }
   },
   "source": [
    "## Lists\n",
    "\n",
    "Lists are one of the most importent data structures in Python:\n",
    "* can be used to store multiple elements in one variable\n",
    "* the index of the first element is 0 (zero)!"
   ]
  },
  {
   "cell_type": "code",
   "execution_count": null,
   "id": "43797acd",
   "metadata": {
    "slideshow": {
     "slide_type": "subslide"
    }
   },
   "outputs": [],
   "source": [
    "L = ['a', 'b', 'c', 'd'] # create a list of four strings\n",
    "\n",
    "# Indexing\n",
    "L[0]    # access the first element of the list\n",
    "L[1]    # access the second element of the list\n",
    "L[-2]   # access second last element of the list\n",
    "L[1:]   # cut of the first element\n",
    "L[:2]   # cuts o everything after the second element\n",
    "L[1:-1] # cut of the first and the last element\n",
    "L[:]    # same as L[0:len(L)]\n",
    "\n",
    "print(L[0])"
   ]
  },
  {
   "cell_type": "code",
   "execution_count": null,
   "id": "9aeac8ae",
   "metadata": {
    "slideshow": {
     "slide_type": "subslide"
    }
   },
   "outputs": [],
   "source": [
    "# assign a new value to index 3\n",
    "\n",
    "L[3] = 'other value' \n",
    "\n",
    "print(L)"
   ]
  },
  {
   "cell_type": "code",
   "execution_count": null,
   "id": "14e2246a",
   "metadata": {
    "slideshow": {
     "slide_type": "subslide"
    }
   },
   "outputs": [],
   "source": [
    "# list may contain values of different type:\n",
    "\n",
    "L[2] = 13\n",
    "\n",
    "print(L)"
   ]
  },
  {
   "cell_type": "code",
   "execution_count": null,
   "id": "4277eb93",
   "metadata": {
    "slideshow": {
     "slide_type": "subslide"
    }
   },
   "outputs": [],
   "source": [
    "# you can even create nested lists\n",
    "\n",
    "L[3] = [2, 3, 'a']\n",
    "\n",
    "print(L)"
   ]
  },
  {
   "cell_type": "code",
   "execution_count": null,
   "id": "926db532",
   "metadata": {
    "slideshow": {
     "slide_type": "subslide"
    }
   },
   "outputs": [],
   "source": [
    "# assign new values from index one to index 3\n",
    "\n",
    "L[1:3] = [12,13,14]\n",
    "\n",
    "print(L)"
   ]
  },
  {
   "cell_type": "code",
   "execution_count": null,
   "id": "8bb8a4e0",
   "metadata": {
    "slideshow": {
     "slide_type": "subslide"
    }
   },
   "outputs": [],
   "source": [
    "# delete index 3\n",
    "\n",
    "del L[3]\n",
    "\n",
    "print(L)"
   ]
  },
  {
   "cell_type": "code",
   "execution_count": null,
   "id": "848651c0",
   "metadata": {
    "slideshow": {
     "slide_type": "subslide"
    }
   },
   "outputs": [],
   "source": [
    "# new elements can be added to a list in different ways:\n",
    "\n",
    "L.append('new element') # add an element to the end of the list\n",
    "L.extend([1,2,3])       # add the elements of one list to the elements of another list\n",
    "L.insert(2,'new value') # insert a value between index 2 and three\n",
    "\n",
    "print(L)"
   ]
  },
  {
   "cell_type": "code",
   "execution_count": null,
   "id": "db3baa3e",
   "metadata": {
    "slideshow": {
     "slide_type": "subslide"
    }
   },
   "outputs": [],
   "source": [
    "print(L.pop())\n",
    "print(L)"
   ]
  },
  {
   "cell_type": "markdown",
   "id": "e85efc2b",
   "metadata": {
    "slideshow": {
     "slide_type": "subslide"
    }
   },
   "source": [
    "### List comprehension\n",
    "\n",
    "Define lists similar to sets in math:\n",
    "$$L = \\{x^2 \\mid x \\in R\\}$$"
   ]
  },
  {
   "cell_type": "code",
   "execution_count": null,
   "id": "875ce301",
   "metadata": {},
   "outputs": [],
   "source": [
    "R = list(range(0,10))\n",
    "print(R)\n",
    "\n",
    "L = [x**2 for x in R]\n",
    "\n",
    "print(L)\n"
   ]
  },
  {
   "cell_type": "markdown",
   "id": "7fca7dd2",
   "metadata": {
    "slideshow": {
     "slide_type": "subslide"
    }
   },
   "source": [
    "List comprehensions can be combined:"
   ]
  },
  {
   "cell_type": "code",
   "execution_count": null,
   "id": "a2445b9f",
   "metadata": {
    "slideshow": {
     "slide_type": "-"
    }
   },
   "outputs": [],
   "source": [
    "L = list(range(5))\n",
    "product = [(a,b) for a in L for b in L]\n",
    "print(product)"
   ]
  },
  {
   "cell_type": "markdown",
   "id": "651c8765",
   "metadata": {
    "slideshow": {
     "slide_type": "subslide"
    }
   },
   "source": [
    "Some loops may be done more compactly by list comprehension:"
   ]
  },
  {
   "cell_type": "code",
   "execution_count": null,
   "id": "39382900",
   "metadata": {},
   "outputs": [],
   "source": [
    "L2 = []\n",
    "for pair in product:\n",
    "    L2.append(sum(pair))\n",
    "print(L2)"
   ]
  },
  {
   "cell_type": "code",
   "execution_count": null,
   "id": "89fb4c8f",
   "metadata": {
    "slideshow": {
     "slide_type": "fragment"
    }
   },
   "outputs": [],
   "source": [
    "# shorter with list comprehension:\n",
    "L2 = [sum(value) for value in product]\n",
    "print(L2)"
   ]
  },
  {
   "cell_type": "markdown",
   "id": "b9dd13a1",
   "metadata": {
    "slideshow": {
     "slide_type": "subslide"
    }
   },
   "source": [
    "### List methods\n",
    "\n",
    "There exists several methods that operate on lists, e.g."
   ]
  },
  {
   "cell_type": "code",
   "execution_count": null,
   "id": "41c3a7a4",
   "metadata": {},
   "outputs": [],
   "source": [
    "[1,4,3,4,5].count(4)"
   ]
  },
  {
   "cell_type": "markdown",
   "id": "90d77352",
   "metadata": {
    "slideshow": {
     "slide_type": "fragment"
    }
   },
   "source": [
    "For more information visit the section on [data structures](https://docs.python.org/3/tutorial/datastructures.html) in the official Python documentation."
   ]
  },
  {
   "cell_type": "markdown",
   "id": "3de13206",
   "metadata": {
    "slideshow": {
     "slide_type": "slide"
    }
   },
   "source": [
    "## Tupels\n",
    "\n",
    "Tupels are fixed length, immutable entities"
   ]
  },
  {
   "cell_type": "code",
   "execution_count": null,
   "id": "ef3467ac",
   "metadata": {},
   "outputs": [],
   "source": [
    "T = (1,2,3,'hello')\n",
    "print(T)\n",
    "S = T[0:2]\n",
    "print(S)"
   ]
  },
  {
   "cell_type": "code",
   "execution_count": null,
   "id": "31034fc3",
   "metadata": {
    "slideshow": {
     "slide_type": "subslide"
    }
   },
   "outputs": [],
   "source": [
    "L = list(T)\n",
    "T = tuple(L)\n",
    "\n",
    "print(L)\n",
    "print(T)"
   ]
  },
  {
   "cell_type": "code",
   "execution_count": null,
   "id": "fb5bb2e6",
   "metadata": {
    "slideshow": {
     "slide_type": "subslide"
    }
   },
   "outputs": [],
   "source": [
    "L[1] = 'x' # ok, L will now contain 'x'\n",
    "T[1] = 'x' # error: tuples are immutable"
   ]
  },
  {
   "cell_type": "code",
   "execution_count": null,
   "id": "f6bd385e",
   "metadata": {},
   "outputs": [],
   "source": [
    "a = (1,2)\n",
    "b, c = a\n",
    "print(f\"a={a}, b={b}, c={c}\")\n",
    "print(\"type(a):\", type(a))\n",
    "print(\"len(a):\", len(a))"
   ]
  },
  {
   "cell_type": "markdown",
   "id": "357dd885",
   "metadata": {
    "slideshow": {
     "slide_type": "subslide"
    }
   },
   "source": [
    "There can also be singletons (tuples with only one element) and even empty tuples:"
   ]
  },
  {
   "cell_type": "code",
   "execution_count": null,
   "id": "651d5175",
   "metadata": {},
   "outputs": [],
   "source": [
    "singleton = (3,)  # notice the strange \",\" in the notation!\n",
    "not_a_singleton = (3)\n",
    "empty = ()\n",
    "\n",
    "print(singleton)\n",
    "print(not_a_singleton)\n",
    "print(empty)"
   ]
  },
  {
   "cell_type": "code",
   "execution_count": null,
   "id": "b4db373c",
   "metadata": {
    "slideshow": {
     "slide_type": "fragment"
    }
   },
   "outputs": [],
   "source": [
    "print(singleton == 3)\n",
    "print(not_a_singleton == 3)"
   ]
  },
  {
   "cell_type": "code",
   "execution_count": null,
   "id": "2dc84063",
   "metadata": {
    "slideshow": {
     "slide_type": "fragment"
    }
   },
   "outputs": [],
   "source": [
    "type(singleton), type(not_a_singleton), type(empty), "
   ]
  },
  {
   "cell_type": "markdown",
   "id": "d00c3a22",
   "metadata": {
    "slideshow": {
     "slide_type": "slide"
    }
   },
   "source": [
    "## Dictionaries\n",
    "\n",
    "Dictionaries store key value pairs."
   ]
  },
  {
   "cell_type": "code",
   "execution_count": null,
   "id": "7ee54639",
   "metadata": {},
   "outputs": [],
   "source": [
    "D = {'a' : 33, 'b': 44} # create an empty dictionary\n",
    "\n",
    "D['hello'] = 'world'  # assign value 'world' to key 'hello'\n",
    "D[42] = 999           # key and values can be numbers\n",
    "D['foo'] = [1,2,3]    # values can also be lists or any other objects\n",
    "\n",
    "print(D)"
   ]
  },
  {
   "cell_type": "code",
   "execution_count": null,
   "id": "88263de5",
   "metadata": {
    "slideshow": {
     "slide_type": "subslide"
    }
   },
   "outputs": [],
   "source": [
    "# access is pretty easy\n",
    "\n",
    "v = D['hello']\n",
    "\n",
    "print(v)"
   ]
  },
  {
   "cell_type": "code",
   "execution_count": null,
   "id": "2045d43b",
   "metadata": {
    "slideshow": {
     "slide_type": "subslide"
    }
   },
   "outputs": [],
   "source": [
    "# deletion of a key-value pair\n",
    "\n",
    "del D['hello']\n",
    "\n",
    "print(D)"
   ]
  },
  {
   "cell_type": "code",
   "execution_count": null,
   "id": "66d649da",
   "metadata": {
    "slideshow": {
     "slide_type": "subslide"
    }
   },
   "outputs": [],
   "source": [
    "D['foo'] = 23\n",
    "\n",
    "print(D)"
   ]
  },
  {
   "cell_type": "markdown",
   "id": "14622f38",
   "metadata": {
    "slideshow": {
     "slide_type": "subslide"
    }
   },
   "source": [
    "### `for` loops\n",
    "\n",
    "The `for` loop can be used whenever something can be iterated:"
   ]
  },
  {
   "cell_type": "code",
   "execution_count": null,
   "id": "6c501383",
   "metadata": {},
   "outputs": [],
   "source": [
    "# A for loop takes a list and iterates over its elements\n",
    "L = ['a', 'b', 'ccc']\n",
    "\n",
    "for element in L:\n",
    "    print(element)"
   ]
  },
  {
   "cell_type": "code",
   "execution_count": null,
   "id": "fae871fd",
   "metadata": {
    "slideshow": {
     "slide_type": "subslide"
    }
   },
   "outputs": [],
   "source": [
    "# for can also loop through dictionaries\n",
    "print(D)\n",
    "for key in D:\n",
    "    print(key,D[key])"
   ]
  },
  {
   "cell_type": "code",
   "execution_count": null,
   "id": "394d43c4",
   "metadata": {
    "slideshow": {
     "slide_type": "subslide"
    }
   },
   "outputs": [],
   "source": [
    "for key, value in D.items():\n",
    "    print(key,value)"
   ]
  },
  {
   "cell_type": "markdown",
   "id": "9e7c78ea",
   "metadata": {},
   "source": [
    "### Unpack Operator\n",
    "The unpack operator * can be used on any iterable python object and it unpacks the values of that iterable. "
   ]
  },
  {
   "cell_type": "code",
   "execution_count": null,
   "id": "7fc52bc8",
   "metadata": {},
   "outputs": [],
   "source": [
    "range_variable = range(1,4)\n",
    "\n",
    "print(\"standard\\t\", range_variable)\n",
    "print(\"unpacked\\t\", *range_variable)"
   ]
  },
  {
   "cell_type": "markdown",
   "id": "bca308d8",
   "metadata": {
    "slideshow": {
     "slide_type": "subslide"
    }
   },
   "source": [
    "### Zip Function"
   ]
  },
  {
   "cell_type": "code",
   "execution_count": null,
   "id": "d07a4e71",
   "metadata": {},
   "outputs": [],
   "source": [
    "l1 = [1,2,3,4] # A list\n",
    "l2 = ['a','b','c','d'] # Another list\n",
    "\n",
    "print(l1)\n",
    "print(l2)"
   ]
  },
  {
   "cell_type": "markdown",
   "id": "ae222cf2",
   "metadata": {
    "slideshow": {
     "slide_type": "subslide"
    }
   },
   "source": [
    "Zip can be used to transform a pair of lists to a list of pairs:"
   ]
  },
  {
   "cell_type": "code",
   "execution_count": null,
   "id": "fd619063",
   "metadata": {},
   "outputs": [],
   "source": [
    "# very useful for loops\n",
    "for i,j in zip(l1,l2):\n",
    "    print(i, j)"
   ]
  },
  {
   "cell_type": "code",
   "execution_count": null,
   "id": "f21b2249",
   "metadata": {},
   "outputs": [],
   "source": [
    "print(zip(l1,l2))  # prints the object address\n",
    "print(*zip(l1,l2)) # unpacks the object and prints the actual content"
   ]
  },
  {
   "cell_type": "code",
   "execution_count": null,
   "id": "acade463",
   "metadata": {
    "slideshow": {
     "slide_type": "fragment"
    }
   },
   "outputs": [],
   "source": [
    "list(zip(l1,l2)) # Create a list from zip"
   ]
  },
  {
   "cell_type": "code",
   "execution_count": null,
   "id": "5cd234a5",
   "metadata": {
    "slideshow": {
     "slide_type": "fragment"
    }
   },
   "outputs": [],
   "source": [
    "print(dict(zip(l1,l2))) # We can create dictionaries from lists of pairs"
   ]
  },
  {
   "cell_type": "markdown",
   "id": "034acb94",
   "metadata": {
    "slideshow": {
     "slide_type": "slide"
    }
   },
   "source": [
    "## Coding style\n",
    "\n",
    "* Write code that's consistent with [PEP8](https://www.python.org/dev/peps/pep-0008/), the offical Python Style Guide. \n",
    "* Have a look a the [Google Style Guide](https://google.github.io/styleguide/pyguide.html) as well. It's based on PEP8 and has some nice examples.\n",
    "* Always document your function and classes with docstrings. It is best practice to stick to some docstring convention for example [Google's](http://sphinxcontrib-napoleon.readthedocs.io/en/latest/example_google.html). This has the big advantages that it allows for automated generation of documentation. "
   ]
  }
 ],
 "metadata": {
  "kernelspec": {
   "display_name": "Python 3 (ipykernel)",
   "language": "python",
   "name": "python3"
  }
 },
 "nbformat": 4,
 "nbformat_minor": 5
}
