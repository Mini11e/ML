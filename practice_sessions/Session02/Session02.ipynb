{
 "cells": [
  {
   "cell_type": "markdown",
   "id": "6740d9be",
   "metadata": {
    "slideshow": {
     "slide_type": "slide"
    }
   },
   "source": [
    "# Machine Learning (Summer 2024)"
   ]
  },
  {
   "cell_type": "markdown",
   "id": "7b13edca",
   "metadata": {},
   "source": [
    "## Practice Session 2: Introduction"
   ]
  },
  {
   "cell_type": "markdown",
   "id": "bd0f0966",
   "metadata": {},
   "source": [
    "April, 23th 2024"
   ]
  },
  {
   "cell_type": "markdown",
   "id": "eea0136a",
   "metadata": {},
   "source": [
    "Ulf Krumnack & Lukas Niehaus\n",
    "\n",
    "Institute of Cognitive Science,\n",
    "University of Osnabrück"
   ]
  },
  {
   "cell_type": "markdown",
   "id": "125d3d3e",
   "metadata": {
    "slideshow": {
     "slide_type": "subslide"
    }
   },
   "source": [
    "## Today's Session"
   ]
  },
  {
   "cell_type": "markdown",
   "id": "175dda37",
   "metadata": {},
   "source": [
    "* Finish Python Introduction (session01)\n",
    "* Numpy\n",
    "* Sheet02\n",
    "* Decision Trees with Scikit-Learn"
   ]
  },
  {
   "cell_type": "markdown",
   "id": "a3458836",
   "metadata": {
    "slideshow": {
     "slide_type": "slide"
    }
   },
   "source": [
    "# Numpy"
   ]
  },
  {
   "cell_type": "markdown",
   "id": "ef0d7b88",
   "metadata": {
    "slideshow": {
     "slide_type": "subslide"
    }
   },
   "source": [
    "## Background"
   ]
  },
  {
   "cell_type": "markdown",
   "id": "1f1a2715",
   "metadata": {
    "slideshow": {
     "slide_type": "subslide"
    }
   },
   "source": [
    "Numpy is an extension package for Python. Numpy\n",
    "* provides multidimensional arrays\n",
    "* is closer to hardware (efficiency)\n",
    "* designed for scientific computation\n",
    "* is array oriented computing"
   ]
  },
  {
   "cell_type": "markdown",
   "id": "e6b80f92",
   "metadata": {
    "slideshow": {
     "slide_type": "subslide"
    }
   },
   "source": [
    "Numpy arrays can be used for:\n",
    "* values of an experiment/simulation at discrete time steps\n",
    "* signals recorded by a measurement device, e.g. sound wave\n",
    "* pixels of an image, grey-level or colour\n",
    "* 3D data measured at different X-Y-Z positions, e.g. MRI scan"
   ]
  },
  {
   "cell_type": "markdown",
   "id": "a6ac77ff",
   "metadata": {
    "slideshow": {
     "slide_type": "subslide"
    }
   },
   "source": [
    "### The `import` statement"
   ]
  },
  {
   "cell_type": "markdown",
   "id": "c5540fb6",
   "metadata": {},
   "source": [
    "To use an extension in Python, it has to be imported first.\n",
    "The recommended way to import numpy is: \n",
    "\n",
    "   `import numpy as np`.\n",
    "\n",
    "This does two things:\n",
    "1. load the extension\n",
    "2. provides data and functions with the prefix `np.`"
   ]
  },
  {
   "cell_type": "code",
   "execution_count": null,
   "id": "6720eee4",
   "metadata": {
    "slideshow": {
     "slide_type": "fragment"
    }
   },
   "outputs": [],
   "source": [
    "import numpy as np"
   ]
  },
  {
   "cell_type": "markdown",
   "id": "5fc6be8c",
   "metadata": {
    "slideshow": {
     "slide_type": "slide"
    }
   },
   "source": [
    "## Numpy arrays"
   ]
  },
  {
   "cell_type": "markdown",
   "id": "2e2c6af3",
   "metadata": {},
   "source": [
    "Numpy provides a datatype for $N$-dimensional arrays (`ndarray`). Such arrays can be initialized from Python lists using the `np.array` function:"
   ]
  },
  {
   "cell_type": "code",
   "execution_count": null,
   "id": "58bf7b52",
   "metadata": {
    "slideshow": {
     "slide_type": "fragment"
    }
   },
   "outputs": [],
   "source": [
    "a = np.array([0,1,2,3])"
   ]
  },
  {
   "cell_type": "code",
   "execution_count": null,
   "id": "d9a0fb37",
   "metadata": {
    "slideshow": {
     "slide_type": "fragment"
    }
   },
   "outputs": [],
   "source": [
    "a"
   ]
  },
  {
   "cell_type": "code",
   "execution_count": null,
   "id": "2763a24d",
   "metadata": {
    "slideshow": {
     "slide_type": "subslide"
    }
   },
   "outputs": [],
   "source": [
    "print(a)\n",
    "print(type(a))\n",
    "print(len(a))\n",
    "print(a.dtype)\n",
    "print(a.ndim)\n",
    "print(a.shape)"
   ]
  },
  {
   "cell_type": "markdown",
   "id": "097f90e7",
   "metadata": {
    "slideshow": {
     "slide_type": "subslide"
    }
   },
   "source": [
    "Multidimensional arrays are possible"
   ]
  },
  {
   "cell_type": "code",
   "execution_count": null,
   "id": "b3f68b8b",
   "metadata": {},
   "outputs": [],
   "source": [
    "b = np.array([[0,1,2],[3,4,5]])\n",
    "b"
   ]
  },
  {
   "cell_type": "code",
   "execution_count": null,
   "id": "68c383bb",
   "metadata": {
    "slideshow": {
     "slide_type": "fragment"
    }
   },
   "outputs": [],
   "source": [
    "print(type(b))\n",
    "print(b.ndim)\n",
    "print(b.shape)\n",
    "print(b.size)"
   ]
  },
  {
   "cell_type": "code",
   "execution_count": null,
   "id": "c4081781",
   "metadata": {
    "slideshow": {
     "slide_type": "subslide"
    }
   },
   "outputs": [],
   "source": [
    "c = np.array([[[1,2,3], [4,5,6]], [[7,8,9], [10,11,12]]])\n",
    "c"
   ]
  },
  {
   "cell_type": "code",
   "execution_count": null,
   "id": "c8b0ff7d",
   "metadata": {},
   "outputs": [],
   "source": [
    "print(c.ndim)\n",
    "print(c.shape)\n",
    "print(c.size)"
   ]
  },
  {
   "cell_type": "markdown",
   "id": "2d90ce8d",
   "metadata": {
    "slideshow": {
     "slide_type": "subslide"
    }
   },
   "source": [
    "There are also other ways to create arrays"
   ]
  },
  {
   "cell_type": "code",
   "execution_count": null,
   "id": "360c1403",
   "metadata": {},
   "outputs": [],
   "source": [
    "np.arange(10)"
   ]
  },
  {
   "cell_type": "code",
   "execution_count": null,
   "id": "f5b00400",
   "metadata": {
    "slideshow": {
     "slide_type": "fragment"
    }
   },
   "outputs": [],
   "source": [
    "np.arange(1,9,2) # start, end (exclusive),  step"
   ]
  },
  {
   "cell_type": "code",
   "execution_count": null,
   "id": "6f5189e9",
   "metadata": {
    "slideshow": {
     "slide_type": "fragment"
    }
   },
   "outputs": [],
   "source": [
    "np.linspace(0, 1, 6) # start, end, numpoints"
   ]
  },
  {
   "cell_type": "code",
   "execution_count": null,
   "id": "c0713bc8",
   "metadata": {
    "slideshow": {
     "slide_type": "fragment"
    }
   },
   "outputs": [],
   "source": [
    "np.linspace(0, 1, 5, endpoint=False)"
   ]
  },
  {
   "cell_type": "code",
   "execution_count": null,
   "id": "f3f24619",
   "metadata": {
    "slideshow": {
     "slide_type": "subslide"
    }
   },
   "outputs": [],
   "source": [
    "np.ones((2,2))"
   ]
  },
  {
   "cell_type": "code",
   "execution_count": null,
   "id": "1b3f71fe",
   "metadata": {
    "slideshow": {
     "slide_type": "fragment"
    }
   },
   "outputs": [],
   "source": [
    "np.zeros((3,3,3))"
   ]
  },
  {
   "cell_type": "code",
   "execution_count": null,
   "id": "a639d626",
   "metadata": {
    "slideshow": {
     "slide_type": "subslide"
    }
   },
   "outputs": [],
   "source": [
    "np.eye(4)"
   ]
  },
  {
   "cell_type": "code",
   "execution_count": null,
   "id": "089e22ca",
   "metadata": {
    "slideshow": {
     "slide_type": "fragment"
    }
   },
   "outputs": [],
   "source": [
    "np.diag([1,2,3,4])"
   ]
  },
  {
   "cell_type": "markdown",
   "id": "18bef807",
   "metadata": {
    "slideshow": {
     "slide_type": "slide"
    }
   },
   "source": [
    "## Reshaping and combining arrays"
   ]
  },
  {
   "cell_type": "code",
   "execution_count": null,
   "id": "1bf49e9b",
   "metadata": {},
   "outputs": [],
   "source": [
    "a = np.reshape(np.arange(12),(3,4))\n",
    "a"
   ]
  },
  {
   "cell_type": "code",
   "execution_count": null,
   "id": "6c142230",
   "metadata": {
    "slideshow": {
     "slide_type": "fragment"
    }
   },
   "outputs": [],
   "source": [
    "a.flatten()"
   ]
  },
  {
   "cell_type": "markdown",
   "id": "8744b56c",
   "metadata": {
    "slideshow": {
     "slide_type": "fragment"
    }
   },
   "source": [
    "**Attention:** flattening happens automatically in some situations (we will see examples below)"
   ]
  },
  {
   "cell_type": "markdown",
   "id": "cef6d926",
   "metadata": {
    "slideshow": {
     "slide_type": "subslide"
    }
   },
   "source": [
    "### Combining two arrays:"
   ]
  },
  {
   "cell_type": "code",
   "execution_count": null,
   "id": "ea7cad0d",
   "metadata": {},
   "outputs": [],
   "source": [
    "a = np.array([[1,2],[3,4]])\n",
    "b = np.array([[5,6],[7,8]])\n",
    "\n",
    "print(a)\n",
    "print(b)"
   ]
  },
  {
   "cell_type": "code",
   "execution_count": null,
   "id": "8fbd0337",
   "metadata": {
    "slideshow": {
     "slide_type": "fragment"
    }
   },
   "outputs": [],
   "source": [
    "print(np.append(a,b))"
   ]
  },
  {
   "cell_type": "code",
   "execution_count": null,
   "id": "02e37eba",
   "metadata": {
    "slideshow": {
     "slide_type": "subslide"
    }
   },
   "outputs": [],
   "source": [
    "print(np.append(a,b,axis=0))"
   ]
  },
  {
   "cell_type": "markdown",
   "id": "cab8183c",
   "metadata": {
    "slideshow": {
     "slide_type": "subslide"
    }
   },
   "source": [
    "We can also use `np.hstack` and `np.vstack`:"
   ]
  },
  {
   "cell_type": "code",
   "execution_count": null,
   "id": "8084435f",
   "metadata": {},
   "outputs": [],
   "source": [
    "print(np.hstack((a,b)))\n",
    "print(np.vstack((a,b)))"
   ]
  },
  {
   "cell_type": "markdown",
   "id": "9dcd34b7",
   "metadata": {
    "slideshow": {
     "slide_type": "subslide"
    }
   },
   "source": [
    "`numpy.delete` allows to removes element from an array:"
   ]
  },
  {
   "cell_type": "code",
   "execution_count": null,
   "id": "b4e92e61",
   "metadata": {
    "slideshow": {
     "slide_type": "-"
    }
   },
   "outputs": [],
   "source": [
    "print(np.delete(a,1))"
   ]
  },
  {
   "cell_type": "markdown",
   "id": "0504b8a0",
   "metadata": {},
   "source": [
    "Notice that the array is flattened!"
   ]
  },
  {
   "cell_type": "markdown",
   "id": "50b2f982",
   "metadata": {
    "slideshow": {
     "slide_type": "slide"
    }
   },
   "source": [
    "## Indexing and slicing\n",
    "\n",
    "One-dimensional arrays behave similar to lists:"
   ]
  },
  {
   "cell_type": "code",
   "execution_count": null,
   "id": "152efd6f",
   "metadata": {},
   "outputs": [],
   "source": [
    "a = np.arange(13)\n",
    "a"
   ]
  },
  {
   "cell_type": "markdown",
   "id": "12a3553c",
   "metadata": {
    "slideshow": {
     "slide_type": "subslide"
    }
   },
   "source": [
    "Indices start at 0!"
   ]
  },
  {
   "cell_type": "code",
   "execution_count": null,
   "id": "def911d7",
   "metadata": {},
   "outputs": [],
   "source": [
    "a[2:4]"
   ]
  },
  {
   "cell_type": "code",
   "execution_count": null,
   "id": "b754b87c",
   "metadata": {
    "slideshow": {
     "slide_type": "subslide"
    }
   },
   "outputs": [],
   "source": [
    "a = np.reshape(np.arange(12),(3,4))\n",
    "a"
   ]
  },
  {
   "cell_type": "code",
   "execution_count": null,
   "id": "19737f50",
   "metadata": {},
   "outputs": [],
   "source": [
    "a[1,2]"
   ]
  },
  {
   "cell_type": "markdown",
   "id": "297cfa01",
   "metadata": {
    "slideshow": {
     "slide_type": "subslide"
    }
   },
   "source": [
    "A multidimensional array is basically an array of arrays:"
   ]
  },
  {
   "cell_type": "code",
   "execution_count": null,
   "id": "d709aade",
   "metadata": {},
   "outputs": [],
   "source": [
    "a[1]"
   ]
  },
  {
   "cell_type": "code",
   "execution_count": null,
   "id": "50d90d05",
   "metadata": {
    "slideshow": {
     "slide_type": "fragment"
    }
   },
   "outputs": [],
   "source": [
    "len(a)"
   ]
  },
  {
   "cell_type": "markdown",
   "id": "d15e9947",
   "metadata": {
    "slideshow": {
     "slide_type": "subslide"
    }
   },
   "source": [
    "### Logical indexing"
   ]
  },
  {
   "cell_type": "markdown",
   "id": "a9d11467",
   "metadata": {},
   "source": [
    "A boolean matrix `b` can be used for indexing a matrix `a` *of the same shape*:"
   ]
  },
  {
   "cell_type": "code",
   "execution_count": null,
   "id": "dd82d86e",
   "metadata": {},
   "outputs": [],
   "source": [
    "a = np.reshape(np.arange(25),(5,5))\n",
    "b = np.eye(5, dtype=bool)\n",
    "print(\"a =\\n\", a)\n",
    "print(\"b =\\n\", b)\n",
    "print(\"a[b] =\", a[b])"
   ]
  },
  {
   "cell_type": "markdown",
   "id": "d84e082b",
   "metadata": {
    "slideshow": {
     "slide_type": "subslide"
    }
   },
   "source": [
    "### Exercise\n",
    "\n",
    "Create the following array:\n",
    "\n",
    "```\n",
    "array([[ 0,  1,  3,  4],\n",
    "       [10, 11, 13, 14],\n",
    "       [20, 21, 23, 24]])\n",
    "```"
   ]
  },
  {
   "cell_type": "code",
   "execution_count": null,
   "id": "44409aac",
   "metadata": {
    "nbgrader": {
     "grade": true,
     "grade_id": "cell-2378ba3958ee8cf0",
     "locked": false,
     "points": 0,
     "schema_version": 3,
     "solution": true
    },
    "slideshow": {
     "slide_type": "fragment"
    }
   },
   "outputs": [],
   "source": [
    "np.delete(np.arange(25).reshape(5,5)[::2],2,axis=1)"
   ]
  },
  {
   "cell_type": "markdown",
   "id": "594b238f",
   "metadata": {
    "slideshow": {
     "slide_type": "slide"
    }
   },
   "source": [
    "## Numerical operations on arrays"
   ]
  },
  {
   "cell_type": "markdown",
   "id": "50552926",
   "metadata": {
    "slideshow": {
     "slide_type": "subslide"
    }
   },
   "source": [
    "### Elementwise operations"
   ]
  },
  {
   "cell_type": "code",
   "execution_count": null,
   "id": "198ecf9d",
   "metadata": {},
   "outputs": [],
   "source": [
    "a = np.arange(10)\n",
    "print(a)"
   ]
  },
  {
   "cell_type": "code",
   "execution_count": null,
   "id": "4236793a",
   "metadata": {
    "slideshow": {
     "slide_type": "fragment"
    }
   },
   "outputs": [],
   "source": [
    "a + a"
   ]
  },
  {
   "cell_type": "code",
   "execution_count": null,
   "id": "ab0abb6d",
   "metadata": {
    "slideshow": {
     "slide_type": "subslide"
    }
   },
   "outputs": [],
   "source": [
    "2 * a"
   ]
  },
  {
   "cell_type": "code",
   "execution_count": null,
   "id": "be40a7fd",
   "metadata": {
    "slideshow": {
     "slide_type": "subslide"
    }
   },
   "outputs": [],
   "source": [
    "a - a "
   ]
  },
  {
   "cell_type": "code",
   "execution_count": null,
   "id": "d9fcc7c8",
   "metadata": {
    "slideshow": {
     "slide_type": "subslide"
    }
   },
   "outputs": [],
   "source": [
    "a * a"
   ]
  },
  {
   "cell_type": "code",
   "execution_count": null,
   "id": "d9023113",
   "metadata": {
    "slideshow": {
     "slide_type": "subslide"
    }
   },
   "outputs": [],
   "source": [
    "a ** 2"
   ]
  },
  {
   "cell_type": "code",
   "execution_count": null,
   "id": "d032a87b",
   "metadata": {
    "slideshow": {
     "slide_type": "subslide"
    }
   },
   "outputs": [],
   "source": [
    "np.sqrt(a)"
   ]
  },
  {
   "cell_type": "markdown",
   "id": "3afcd456",
   "metadata": {
    "slideshow": {
     "slide_type": "subslide"
    }
   },
   "source": [
    "### Exercise\n",
    "* Create an $n\\times 3$-array that contains `a1` in its first row, `a2` in its second row and the sum of `a1` and `a2` in its third row"
   ]
  },
  {
   "cell_type": "code",
   "execution_count": null,
   "id": "0874c936",
   "metadata": {
    "nbgrader": {
     "grade": true,
     "grade_id": "cell-87c7b521ebb3963e",
     "locked": false,
     "points": 0,
     "schema_version": 3,
     "solution": true
    },
    "slideshow": {
     "slide_type": "fragment"
    }
   },
   "outputs": [],
   "source": [
    "a1 = np.array([2,5,8,4])\n",
    "a2 = np.array([7,1,1,3])\n",
    "\n",
    "### BEGIN SOLUTION\n",
    "np.vstack([a1,a2,a1+a2])\n",
    "### END SOLUTION"
   ]
  },
  {
   "cell_type": "markdown",
   "id": "86167fc9",
   "metadata": {
    "slideshow": {
     "slide_type": "slide"
    }
   },
   "source": [
    "### Matrix operations"
   ]
  },
  {
   "cell_type": "code",
   "execution_count": null,
   "id": "09071a96",
   "metadata": {},
   "outputs": [],
   "source": [
    "a = np.reshape(np.arange(1,10),(3,3))\n",
    "e = np.eye(3)\n",
    "print(a)\n",
    "print(e)"
   ]
  },
  {
   "cell_type": "code",
   "execution_count": null,
   "id": "3b452b6f",
   "metadata": {
    "slideshow": {
     "slide_type": "subslide"
    }
   },
   "outputs": [],
   "source": [
    "a + e # sum of two matrices"
   ]
  },
  {
   "cell_type": "code",
   "execution_count": null,
   "id": "eadd8c92",
   "metadata": {
    "slideshow": {
     "slide_type": "subslide"
    }
   },
   "outputs": [],
   "source": [
    "2 * a # multiplication with a scalar"
   ]
  },
  {
   "cell_type": "code",
   "execution_count": null,
   "id": "9eae3908",
   "metadata": {
    "slideshow": {
     "slide_type": "subslide"
    }
   },
   "outputs": [],
   "source": [
    "a * e # pointwise multiplication (not the matrix multiplication!)"
   ]
  },
  {
   "cell_type": "code",
   "execution_count": null,
   "id": "f94fd9e0",
   "metadata": {
    "slideshow": {
     "slide_type": "subslide"
    }
   },
   "outputs": [],
   "source": [
    "a.dot(e) # matrix multiplication"
   ]
  },
  {
   "cell_type": "code",
   "execution_count": null,
   "id": "aa7caee9",
   "metadata": {},
   "outputs": [],
   "source": [
    "a @ e"
   ]
  },
  {
   "cell_type": "code",
   "execution_count": null,
   "id": "9d8442ca",
   "metadata": {
    "slideshow": {
     "slide_type": "subslide"
    }
   },
   "outputs": [],
   "source": [
    "a.T # matrix transposition"
   ]
  },
  {
   "cell_type": "markdown",
   "id": "18f434e4",
   "metadata": {
    "slideshow": {
     "slide_type": "slide"
    }
   },
   "source": [
    "### Some more mathematical functions"
   ]
  },
  {
   "cell_type": "code",
   "execution_count": null,
   "id": "26058b57",
   "metadata": {},
   "outputs": [],
   "source": [
    "data = np.random.randn(10) # standard normal distribution (mean 0, variance 1)\n",
    "print(data)"
   ]
  },
  {
   "cell_type": "code",
   "execution_count": null,
   "id": "d980f99e",
   "metadata": {
    "slideshow": {
     "slide_type": "subslide"
    }
   },
   "outputs": [],
   "source": [
    "max(data) # largest value in the dataset"
   ]
  },
  {
   "cell_type": "code",
   "execution_count": null,
   "id": "70dfdbcb",
   "metadata": {},
   "outputs": [],
   "source": [
    "data.max()"
   ]
  },
  {
   "cell_type": "code",
   "execution_count": null,
   "id": "076d4d42",
   "metadata": {},
   "outputs": [],
   "source": [
    "np.max(data)"
   ]
  },
  {
   "cell_type": "code",
   "execution_count": null,
   "id": "2a34edc6",
   "metadata": {},
   "outputs": [],
   "source": [
    "data.argmax()"
   ]
  },
  {
   "cell_type": "code",
   "execution_count": null,
   "id": "98841884",
   "metadata": {
    "slideshow": {
     "slide_type": "fragment"
    }
   },
   "outputs": [],
   "source": [
    "np.argmax(data) # index of the largest value in the dataset"
   ]
  },
  {
   "cell_type": "code",
   "execution_count": null,
   "id": "932116fa",
   "metadata": {
    "slideshow": {
     "slide_type": "subslide"
    }
   },
   "outputs": [],
   "source": [
    "# also works with multi-dimensional data:\n",
    "a = np.random.randn(5,5)\n",
    "print(a)\n",
    "print(np.argmax(a))"
   ]
  },
  {
   "cell_type": "markdown",
   "id": "c8375dd2",
   "metadata": {},
   "source": [
    "flat index!"
   ]
  },
  {
   "cell_type": "code",
   "execution_count": null,
   "id": "409bb1ef",
   "metadata": {
    "slideshow": {
     "slide_type": "subslide"
    }
   },
   "outputs": [],
   "source": [
    "np.mean(data) # the mean value of the data"
   ]
  },
  {
   "cell_type": "code",
   "execution_count": null,
   "id": "46736f23",
   "metadata": {},
   "outputs": [],
   "source": [
    "np.std(data) # the standard deviation of the data"
   ]
  },
  {
   "cell_type": "code",
   "execution_count": null,
   "id": "84664b01",
   "metadata": {},
   "outputs": [],
   "source": [
    "np.abs(data) # absolute value (remove sign)"
   ]
  },
  {
   "cell_type": "code",
   "execution_count": null,
   "id": "fd47d139",
   "metadata": {},
   "outputs": [],
   "source": [
    "np.sum(data) # sum of all data"
   ]
  },
  {
   "cell_type": "code",
   "execution_count": null,
   "id": "595921f0",
   "metadata": {},
   "outputs": [],
   "source": [
    "np.prod(data) # alias: np.product"
   ]
  },
  {
   "cell_type": "markdown",
   "id": "d1a7fce9",
   "metadata": {
    "slideshow": {
     "slide_type": "subslide"
    }
   },
   "source": [
    "#### Exercise\n",
    "* Compute the mean and variance of `data` (without using the buildin functions `mean` and `std`). Then compare your results with the values from `mean` and `std`."
   ]
  },
  {
   "cell_type": "code",
   "execution_count": null,
   "id": "bb9640c5",
   "metadata": {
    "nbgrader": {
     "grade": true,
     "grade_id": "cell-8abcc3b09f97fcc0",
     "locked": false,
     "points": 0,
     "schema_version": 3,
     "solution": true
    }
   },
   "outputs": [],
   "source": [
    "my_mean = data.sum()/data.size\n",
    "my_std = np.sqrt(((data-my_mean)**2).sum()/data.size)\n",
    "\n",
    "print(\"Mean: {} vs. {}\".format(my_mean, data.mean()))\n",
    "print(\"Std: {} vs. {}\".format(my_std, data.std()))"
   ]
  },
  {
   "cell_type": "markdown",
   "id": "881932df",
   "metadata": {
    "slideshow": {
     "slide_type": "slide"
    }
   },
   "source": [
    "## Some general hints"
   ]
  },
  {
   "cell_type": "markdown",
   "id": "63200439",
   "metadata": {},
   "source": [
    "Help (the docstring) for function or value can be displayed by appending a question mark to its name:"
   ]
  },
  {
   "cell_type": "code",
   "execution_count": null,
   "id": "032f46a7",
   "metadata": {},
   "outputs": [],
   "source": [
    "np.argmax?"
   ]
  },
  {
   "cell_type": "markdown",
   "id": "9c56acd2",
   "metadata": {
    "slideshow": {
     "slide_type": "subslide"
    }
   },
   "source": [
    "looking for something: `np.lookfor('create array')`"
   ]
  },
  {
   "cell_type": "code",
   "execution_count": null,
   "id": "a94153cb",
   "metadata": {},
   "outputs": [],
   "source": [
    "np.lookfor('create array')"
   ]
  },
  {
   "cell_type": "markdown",
   "id": "d79bbd0d",
   "metadata": {
    "slideshow": {
     "slide_type": "subslide"
    }
   },
   "source": [
    "### References\n",
    "\n",
    "* on the web: [https://numpy.org/]"
   ]
  },
  {
   "cell_type": "markdown",
   "id": "25a4334a",
   "metadata": {
    "slideshow": {
     "slide_type": "slide"
    }
   },
   "source": [
    "# Decision Trees with Scikit-Learn "
   ]
  },
  {
   "cell_type": "markdown",
   "id": "b32af73c",
   "metadata": {
    "slideshow": {
     "slide_type": "subslide"
    }
   },
   "source": [
    "## The package Scikit-Learn (`sklearn`)\n",
    "\n",
    "* package for machine learning in Python\n",
    "* provides implementations for many algorithms discussed in the lecture\n",
    "* good documentation on [scikit-learn.org](https://scikit-learn.org/stable/index.html)"
   ]
  },
  {
   "cell_type": "code",
   "execution_count": null,
   "id": "cfec710d",
   "metadata": {
    "slideshow": {
     "slide_type": "fragment"
    }
   },
   "outputs": [],
   "source": [
    "import sklearn\n",
    "\n",
    "print(sklearn.__version__)"
   ]
  },
  {
   "cell_type": "markdown",
   "id": "b982864a",
   "metadata": {
    "slideshow": {
     "slide_type": "subslide"
    }
   },
   "source": [
    "Remark on `import`:\n",
    "* does two things:\n",
    "  1. load the module code\n",
    "  2. adds symbol to the local namespace\n",
    "* different syntactic variants:\n",
    "\n",
    "```python\n",
    "import foo\n",
    "\n",
    "import foo as f\n",
    "\n",
    "from foo import bar\n",
    "\n",
    "from foo import bar as baz\n",
    "```\n",
    "  "
   ]
  },
  {
   "cell_type": "markdown",
   "id": "bebb9cc0",
   "metadata": {
    "slideshow": {
     "slide_type": "subslide"
    }
   },
   "source": [
    "## Learning a decision tree\n",
    "\n",
    "* Scikit-Learn implements [decision tree algorithms](https://scikit-learn.org/stable/modules/tree.html) in module [`sklearn.tree`](https://scikit-learn.org/stable/modules/classes.html#module-sklearn.tree)\n",
    "* A decision tree based classifier is provided by the class [`DecisionTreeClassifier`](https://scikit-learn.org/stable/modules/generated/sklearn.tree.DecisionTreeClassifier.html)\n",
    "* To use this class one has to instantiate it:"
   ]
  },
  {
   "cell_type": "code",
   "execution_count": null,
   "id": "9c0f84a0",
   "metadata": {
    "slideshow": {
     "slide_type": "fragment"
    }
   },
   "outputs": [],
   "source": [
    "from sklearn.tree import DecisionTreeClassifier\n",
    "\n",
    "decision_tree = DecisionTreeClassifier(criterion='entropy')"
   ]
  },
  {
   "cell_type": "markdown",
   "id": "818582dc",
   "metadata": {
    "slideshow": {
     "slide_type": "subslide"
    }
   },
   "source": [
    "## Providing training data\n",
    "\n",
    "* Scikit-learn provides some standard datasets in the module `sklearn.datasets`\n",
    "* we will again use the Iris Flower Datasets"
   ]
  },
  {
   "cell_type": "code",
   "execution_count": null,
   "id": "b84b0be3",
   "metadata": {
    "slideshow": {
     "slide_type": "fragment"
    }
   },
   "outputs": [],
   "source": [
    "from sklearn import datasets\n",
    "\n",
    "iris = datasets.load_iris()\n",
    "\n",
    "print(\"Data shape:\", iris.data.shape)\n",
    "print(\"Target shape:\", iris.target.shape)\n",
    "print(\"Features names:\", iris.feature_names)\n",
    "print(\"Target names:\", iris.target_names)"
   ]
  },
  {
   "cell_type": "markdown",
   "id": "501466d7",
   "metadata": {
    "slideshow": {
     "slide_type": "subslide"
    }
   },
   "source": [
    "The Iris dataset is a *labeled* dataset for a classification problem. One often refers to the data as follows:\n",
    "* `X` (feature vector): the feature values for each datapoint\n",
    "* `y` (class label): the class to which the datapoint belongs"
   ]
  },
  {
   "cell_type": "code",
   "execution_count": null,
   "id": "78104d55",
   "metadata": {},
   "outputs": [],
   "source": [
    "X, y = iris.data , iris.target"
   ]
  },
  {
   "cell_type": "markdown",
   "id": "2bfdd9a4",
   "metadata": {
    "slideshow": {
     "slide_type": "fragment"
    }
   },
   "source": [
    "Alternative way of loading just the data:"
   ]
  },
  {
   "cell_type": "code",
   "execution_count": null,
   "id": "593200c8",
   "metadata": {
    "slideshow": {
     "slide_type": "-"
    }
   },
   "outputs": [],
   "source": [
    "X, y = datasets.load_iris(return_X_y=True)"
   ]
  },
  {
   "cell_type": "code",
   "execution_count": null,
   "id": "c24f6cdd",
   "metadata": {
    "slideshow": {
     "slide_type": "subslide"
    }
   },
   "outputs": [],
   "source": [
    "print(X[:5])"
   ]
  },
  {
   "cell_type": "code",
   "execution_count": null,
   "id": "1525f0e5",
   "metadata": {},
   "outputs": [],
   "source": [
    "print(y)"
   ]
  },
  {
   "cell_type": "code",
   "execution_count": null,
   "id": "59ee323f",
   "metadata": {
    "slideshow": {
     "slide_type": "subslide"
    }
   },
   "outputs": [],
   "source": [
    "# Visualize data partially\n",
    "%matplotlib widget\n",
    "import matplotlib.pyplot as plt\n",
    "\n",
    "plt.figure(figsize=(8,6))\n",
    "\n",
    "attr_num1 = 0\n",
    "attr_num2 = 1\n",
    "\n",
    "plt.scatter(X[:,attr_num1], X[:,attr_num2], c=y, cmap=plt.cm.Set1, edgecolor='k')\n",
    "plt.xlabel(iris.feature_names[attr_num1])\n",
    "plt.ylabel(iris.feature_names[attr_num2])\n",
    "plt.show()"
   ]
  },
  {
   "cell_type": "markdown",
   "id": "bd93480d",
   "metadata": {
    "slideshow": {
     "slide_type": "subslide"
    }
   },
   "source": [
    "## Train a decision tree classifier\n",
    "\n",
    "* in many scikit-learn classes, training is done via the `fit` method\n",
    "* for training a classifier, we have to provide labeled training data:\n",
    "  - feature vectors (X)\n",
    "  - corresponding class labels (y)"
   ]
  },
  {
   "cell_type": "code",
   "execution_count": null,
   "id": "c10fed6d",
   "metadata": {},
   "outputs": [],
   "source": [
    "decision_tree.fit(X, y)\n",
    "print(decision_tree.get_depth())"
   ]
  },
  {
   "cell_type": "markdown",
   "id": "ce3f310e",
   "metadata": {
    "slideshow": {
     "slide_type": "subslide"
    }
   },
   "source": [
    "## Outputting the decision tree\n",
    "\n",
    "* The module `sklearn.tree` provides the function `export_tree` to obtain a string representation:"
   ]
  },
  {
   "cell_type": "code",
   "execution_count": null,
   "id": "ff2addc2",
   "metadata": {
    "slideshow": {
     "slide_type": "-"
    }
   },
   "outputs": [],
   "source": [
    "from sklearn.tree import export_text\n",
    "\n",
    "print(export_text(decision_tree, feature_names=iris.feature_names))  # , max_depth=2"
   ]
  },
  {
   "cell_type": "markdown",
   "id": "a5155173",
   "metadata": {
    "slideshow": {
     "slide_type": "subslide"
    }
   },
   "source": [
    "## Plotting the decision tree\n",
    "\n",
    "* Since version 0.21 (May 2019), scikit-learn can plot decision trees using `matplotlib`"
   ]
  },
  {
   "cell_type": "code",
   "execution_count": null,
   "id": "7b905209",
   "metadata": {
    "slideshow": {
     "slide_type": "fragment"
    }
   },
   "outputs": [],
   "source": [
    "# check for the sklearn version, it has to be at least 0.21\n",
    "import sklearn\n",
    "print(\"Scikit-Learn version: \", sklearn.__version__)\n",
    "\n",
    "from packaging.version import Version\n",
    "assert Version(sklearn.__version__) >= Version(\"0.21\"), \"Your scikit-learn is too old\""
   ]
  },
  {
   "cell_type": "code",
   "execution_count": null,
   "id": "6970af15",
   "metadata": {
    "slideshow": {
     "slide_type": "subslide"
    }
   },
   "outputs": [],
   "source": [
    "from sklearn.tree import plot_tree\n",
    "import matplotlib.pyplot as plt\n",
    "\n",
    "plt.figure(figsize=(12,12))\n",
    "plot_tree(decision_tree, \n",
    "          feature_names=iris.feature_names, \n",
    "          class_names=list(iris.target_names), \n",
    "          filled=True, \n",
    "          rounded=True, \n",
    "          fontsize=8)\n",
    "plt.show()"
   ]
  },
  {
   "cell_type": "markdown",
   "id": "7eac65d2",
   "metadata": {
    "slideshow": {
     "slide_type": "subslide"
    }
   },
   "source": [
    "The nodes contain the following information:\n",
    "* the decision (e.g. \"petal width (cm) <= 0.8\")\n",
    "* a measure of impurity (here entropy)\n",
    "* the number of training samples represented by the node (e.g. `150`)\n",
    "* the distribution of samples over the classes (e.g. `[50,50,50]`)\n",
    "* the (majority) class of this node \n",
    "* the color also indicates majority class and impurity"
   ]
  },
  {
   "cell_type": "markdown",
   "id": "4eaa0670",
   "metadata": {
    "slideshow": {
     "slide_type": "subslide"
    }
   },
   "source": [
    "## Plotting decision boundaries\n",
    "\n",
    "* plotting decision boundaries is another way to understand a classifier\n",
    "* only works for two- (and maybe three-) dimensional data\n",
    "* idea: create a grid of points and classsify them (`predict`) using the decision tree\n",
    "* we demonstrate this for different pairs of features (selected from the 4-dimensional dataset)"
   ]
  },
  {
   "cell_type": "code",
   "execution_count": null,
   "id": "bd6c9de1",
   "metadata": {
    "slideshow": {
     "slide_type": "subslide"
    }
   },
   "outputs": [],
   "source": [
    "import numpy as np\n",
    "\n",
    "# Parameters\n",
    "n_classes = len(iris.target_names)\n",
    "plot_colors = \"ryb\" # red, yellow, blue\n",
    "plot_step = 0.02\n",
    "\n",
    "plt.figure()\n",
    "for pairidx, pair in enumerate([[0, 1], [0, 2], [0, 3],\n",
    "                                [1, 2], [1, 3], [2, 3]]):\n",
    "    # We only take the two corresponding features\n",
    "    X = iris.data[:, pair]\n",
    "    y = iris.target\n",
    "\n",
    "    # Train a decision tree classifier just on the selected pair of features\n",
    "    clf = DecisionTreeClassifier(criterion='entropy').fit(X, y)\n",
    "\n",
    "    # Plot the decision boundary\n",
    "    plt.subplot(2, 3, pairidx + 1)\n",
    "\n",
    "    x_min, x_max = X[:, 0].min() - 1, X[:, 0].max() + 1\n",
    "    y_min, y_max = X[:, 1].min() - 1, X[:, 1].max() + 1\n",
    "    xx, yy = np.meshgrid(np.arange(x_min, x_max, plot_step),\n",
    "                         np.arange(y_min, y_max, plot_step))\n",
    "    plt.tight_layout(h_pad=0.5, w_pad=0.5, pad=2.5)\n",
    " \n",
    "    Z = clf.predict(np.c_[xx.ravel(), yy.ravel()])\n",
    "    Z = Z.reshape(xx.shape)\n",
    "    cs = plt.contourf(xx, yy, Z, cmap=plt.cm.RdYlBu)\n",
    "\n",
    "    plt.xlabel(iris.feature_names[pair[0]])\n",
    "    plt.ylabel(iris.feature_names[pair[1]])\n",
    "\n",
    "    # Plot the training points\n",
    "    for i, color in zip(range(n_classes), plot_colors):\n",
    "        idx = np.where(y == i)\n",
    "        plt.scatter(X[idx, 0], X[idx, 1], c=color, label=iris.target_names[i],\n",
    "                    edgecolor='black', s=15)\n",
    "\n",
    "plt.suptitle(\"Decision surface of a decision tree using paired features\")\n",
    "plt.legend(loc='lower right', borderpad=0, handletextpad=0)\n",
    "plt.axis(\"tight\")\n",
    "plt.show()"
   ]
  },
  {
   "cell_type": "markdown",
   "id": "09421ab9",
   "metadata": {
    "slideshow": {
     "slide_type": "subslide"
    }
   },
   "source": [
    "## Inference: the `predict` method"
   ]
  },
  {
   "cell_type": "code",
   "execution_count": null,
   "id": "cdf9289c",
   "metadata": {},
   "outputs": [],
   "source": [
    "y_predict = decision_tree.predict(iris.data)\n",
    "y_predict"
   ]
  },
  {
   "cell_type": "markdown",
   "id": "f2dc63d5",
   "metadata": {
    "slideshow": {
     "slide_type": "subslide"
    }
   },
   "source": [
    "## Evaluating the prediction"
   ]
  },
  {
   "cell_type": "code",
   "execution_count": null,
   "id": "497cfa2b",
   "metadata": {},
   "outputs": [],
   "source": [
    "y == y_predict"
   ]
  },
  {
   "cell_type": "markdown",
   "id": "be6db5c0",
   "metadata": {
    "slideshow": {
     "slide_type": "subslide"
    }
   },
   "source": [
    "### Evaluation metrics\n",
    "\n",
    "The module [`sklearn.metrics`](https://scikit-learn.org/stable/modules/classes.html#module-sklearn.metrics) provides different evaluation metrics. The most popular metric for classification is *accuracy*."
   ]
  },
  {
   "cell_type": "code",
   "execution_count": null,
   "id": "abf67e65",
   "metadata": {
    "slideshow": {
     "slide_type": "-"
    }
   },
   "outputs": [],
   "source": [
    "from sklearn.metrics import accuracy_score\n",
    "\n",
    "print(f\"Accuracy: {accuracy_score(y, y_predict)}\")"
   ]
  },
  {
   "cell_type": "markdown",
   "id": "cdfffa20",
   "metadata": {
    "slideshow": {
     "slide_type": "subslide"
    }
   },
   "source": [
    "## Training a small decision tree"
   ]
  },
  {
   "cell_type": "code",
   "execution_count": null,
   "id": "9c41c6a2",
   "metadata": {
    "slideshow": {
     "slide_type": "-"
    }
   },
   "outputs": [],
   "source": [
    "X, y = iris.data , iris.target\n",
    "\n",
    "small_decision_tree = DecisionTreeClassifier(criterion='entropy', max_depth=2)\n",
    "small_decision_tree.fit(X, y)\n",
    "print(export_text(small_decision_tree, feature_names=iris.feature_names))"
   ]
  },
  {
   "cell_type": "code",
   "execution_count": null,
   "id": "d394a30b",
   "metadata": {
    "slideshow": {
     "slide_type": "subslide"
    }
   },
   "outputs": [],
   "source": [
    "y_predict_small = small_decision_tree.predict(X)\n",
    "y == y_predict_small"
   ]
  },
  {
   "cell_type": "code",
   "execution_count": null,
   "id": "8dff57dc",
   "metadata": {
    "slideshow": {
     "slide_type": "fragment"
    }
   },
   "outputs": [],
   "source": [
    "print(f\"Accuracy: {accuracy_score(y, y_predict_small)}\")"
   ]
  },
  {
   "cell_type": "markdown",
   "id": "bfa440b2",
   "metadata": {},
   "source": [
    "## Train and Test data\n",
    "\n",
    "Split your dataset into two parts:\n",
    "* train: used to train your model (e.g., build your decision tree)\n",
    "* test: used to estimate how good you model *generalizes*, that is, how well it performs on *new*, unseen data"
   ]
  },
  {
   "cell_type": "code",
   "execution_count": null,
   "id": "849e0af6",
   "metadata": {},
   "outputs": [],
   "source": [
    "from sklearn.model_selection import train_test_split\n",
    "X_train, X_test, y_train, y_test = train_test_split(X, y, shuffle=True)\n",
    "\n",
    "print(X_train.shape, y_train.shape, X_test.shape, y_test.shape)"
   ]
  },
  {
   "cell_type": "code",
   "execution_count": null,
   "id": "849105ae",
   "metadata": {},
   "outputs": [],
   "source": [
    "decision_tree = DecisionTreeClassifier(criterion='entropy')  # , max_depth=2\n",
    "decision_tree.fit(X_train, y_train)\n",
    "\n",
    "y_predict_train = decision_tree.predict(X_train)\n",
    "y_predict_test = decision_tree.predict(X_test)\n",
    "\n",
    "print(f\"Training accuracy: {accuracy_score(y_train, y_predict_train)*100:.2f}%\")\n",
    "print(f\"Test accuracy: {accuracy_score(y_test, y_predict_test)*100:.2f}%\")"
   ]
  }
 ],
 "metadata": {
  "kernelspec": {
   "display_name": "Python 3 (ipykernel)",
   "language": "python",
   "name": "python3"
  },
  "language_info": {
   "codemirror_mode": {
    "name": "ipython",
    "version": 3
   },
   "file_extension": ".py",
   "mimetype": "text/x-python",
   "name": "python",
   "nbconvert_exporter": "python",
   "pygments_lexer": "ipython3",
   "version": "3.12.2"
  }
 },
 "nbformat": 4,
 "nbformat_minor": 5
}
