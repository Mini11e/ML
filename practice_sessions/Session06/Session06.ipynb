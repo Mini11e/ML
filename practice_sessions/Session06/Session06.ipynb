{
 "cells": [
  {
   "cell_type": "markdown",
   "id": "6740d9be",
   "metadata": {
    "slideshow": {
     "slide_type": "slide"
    }
   },
   "source": [
    "# Machine Learning (Summer 2024)"
   ]
  },
  {
   "cell_type": "markdown",
   "id": "0b9838b8",
   "metadata": {
    "slideshow": {
     "slide_type": "-"
    }
   },
   "source": [
    "## Practice Session 6"
   ]
  },
  {
   "cell_type": "markdown",
   "id": "2a4af10e",
   "metadata": {
    "slideshow": {
     "slide_type": "-"
    }
   },
   "source": [
    "May 22nd, 2022"
   ]
  },
  {
   "cell_type": "markdown",
   "id": "8294faf4",
   "metadata": {
    "slideshow": {
     "slide_type": "-"
    }
   },
   "source": [
    "Ulf Krumnack & Lukas Niehaus\n",
    "\n",
    "Institute of Cognitive Science,\n",
    "University of Osnabrück"
   ]
  },
  {
   "cell_type": "markdown",
   "id": "01721835",
   "metadata": {
    "slideshow": {
     "slide_type": "slide"
    }
   },
   "source": [
    "## Today's Session"
   ]
  },
  {
   "cell_type": "markdown",
   "id": "744449a8",
   "metadata": {
    "slideshow": {
     "slide_type": "-"
    }
   },
   "source": [
    "* Discussion Sheet05\n",
    "* Candidate Elimination Algorithm\n",
    "* Find-S Algorithm\n",
    "* List Then Eliminate\n",
    "* Inductive Bias"
   ]
  }
 ],
 "metadata": {
  "kernelspec": {
   "display_name": "Python 3 (ipykernel)",
   "language": "python",
   "name": "python3"
  },
  "language_info": {
   "codemirror_mode": {
    "name": "ipython",
    "version": 3
   },
   "file_extension": ".py",
   "mimetype": "text/x-python",
   "name": "python",
   "nbconvert_exporter": "python",
   "pygments_lexer": "ipython3",
   "version": "3.12.2"
  }
 },
 "nbformat": 4,
 "nbformat_minor": 5
}
