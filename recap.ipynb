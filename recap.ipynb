{
 "cells": [
  {
   "cell_type": "markdown",
   "id": "b8e28dcf",
   "metadata": {
    "deletable": false,
    "editable": false,
    "nbgrader": {
     "cell_type": "markdown",
     "checksum": "44fca659c1e85aa18c1a44bcb17af98a",
     "grade": false,
     "grade_id": "h00",
     "locked": true,
     "schema_version": 3,
     "solution": false
    }
   },
   "source": [
    "Osnabrück University - Machine Learning (Summer Term 2024) - Prof. Dr.-Ing. G. Heidemann, Ulf Krumnack, Lukas Niehaus"
   ]
  },
  {
   "cell_type": "markdown",
   "id": "78e03cc6",
   "metadata": {
    "deletable": false,
    "editable": false,
    "nbgrader": {
     "cell_type": "markdown",
     "checksum": "f8f2a5f0e5249f2fae6bd9a3db047b0e",
     "grade": false,
     "grade_id": "h01",
     "locked": true,
     "schema_version": 3,
     "solution": false
    },
    "slideshow": {
     "slide_type": ""
    }
   },
   "source": [
    "# Recap Sheet"
   ]
  },
  {
   "cell_type": "markdown",
   "id": "ac0724cd",
   "metadata": {
    "deletable": false,
    "editable": false,
    "nbgrader": {
     "cell_type": "markdown",
     "checksum": "1349a761f33906500d0a8b8daafc3d45",
     "grade": false,
     "grade_id": "h02",
     "locked": true,
     "schema_version": 3,
     "solution": false
    },
    "slideshow": {
     "slide_type": "subslide"
    }
   },
   "source": [
    "## Introduction\n",
    "\n",
    "This is an additional sheet intended to support you preparing for the exam.  You do not have to hand in that sheet. We will disscuss the sheet in the practice sessions on Tuesday, July 2nd, and Wednesday, July 3rd. If you have questions, you may also post them in the forum."
   ]
  },
  {
   "cell_type": "markdown",
   "id": "b98f7932",
   "metadata": {
    "deletable": false,
    "editable": false,
    "nbgrader": {
     "cell_type": "markdown",
     "checksum": "c2d1c7f7e7efbf07d170980fc3deb84b",
     "grade": false,
     "grade_id": "ex01",
     "locked": true,
     "schema_version": 3,
     "solution": false
    },
    "slideshow": {
     "slide_type": "slide"
    }
   },
   "source": [
    "## Recap 1: Concept Learning"
   ]
  },
  {
   "cell_type": "markdown",
   "id": "17aac4ac",
   "metadata": {
    "deletable": false,
    "editable": false,
    "nbgrader": {
     "cell_type": "markdown",
     "checksum": "56806c4744d86d8b772e047eed613af4",
     "grade": false,
     "grade_id": "ex01a",
     "locked": true,
     "schema_version": 3,
     "solution": false
    },
    "slideshow": {
     "slide_type": "subslide"
    }
   },
   "source": [
    "#### a) Concept Learning\n",
    "\n",
    "What is Concept Learning? Is it supervised? Is it local?"
   ]
  },
  {
   "cell_type": "markdown",
   "id": "552487af",
   "metadata": {
    "deletable": false,
    "nbgrader": {
     "cell_type": "markdown",
     "checksum": "fc7ea9d802be913bb17da4423cb1cb53",
     "grade": true,
     "grade_id": "ex01a_solution",
     "locked": false,
     "points": 0,
     "schema_version": 3,
     "solution": true
    },
    "slideshow": {
     "slide_type": "fragment"
    }
   },
   "source": [
    "YOUR ANSWER HERE"
   ]
  },
  {
   "cell_type": "markdown",
   "id": "57efdb06",
   "metadata": {
    "deletable": false,
    "editable": false,
    "nbgrader": {
     "cell_type": "markdown",
     "checksum": "925774f3200685468ab257462af6ef07",
     "grade": false,
     "grade_id": "ex01b",
     "locked": true,
     "schema_version": 3,
     "solution": false
    },
    "slideshow": {
     "slide_type": "subslide"
    }
   },
   "source": [
    "#### b) Find-S\n",
    "Describe the Find-S Algorithm in pseudo code. What is its inductive bias? What are its advantages and drawbacks?"
   ]
  },
  {
   "cell_type": "markdown",
   "id": "78ed1469",
   "metadata": {
    "deletable": false,
    "nbgrader": {
     "cell_type": "markdown",
     "checksum": "690fc0304b4a5c64cf9e78752847d211",
     "grade": true,
     "grade_id": "ex01b_solution",
     "locked": false,
     "points": 0,
     "schema_version": 3,
     "solution": true
    },
    "slideshow": {
     "slide_type": "fragment"
    }
   },
   "source": [
    "YOUR ANSWER HERE"
   ]
  },
  {
   "cell_type": "markdown",
   "id": "2d396e3c",
   "metadata": {
    "deletable": false,
    "editable": false,
    "nbgrader": {
     "cell_type": "markdown",
     "checksum": "a3ba723dd5a4bed2d9e927af8eda0a84",
     "grade": false,
     "grade_id": "ex01c",
     "locked": true,
     "schema_version": 3,
     "solution": false
    },
    "slideshow": {
     "slide_type": "subslide"
    }
   },
   "source": [
    "#### c) Hypotheses space\n",
    "\n",
    "What is the hypotheses space for Candidate-Elimination used in the lecture?"
   ]
  },
  {
   "cell_type": "markdown",
   "id": "c4a15ba0",
   "metadata": {
    "deletable": false,
    "nbgrader": {
     "cell_type": "markdown",
     "checksum": "6ee5c5afe2f8e55340f70b98d56d021f",
     "grade": true,
     "grade_id": "ex01c_solution",
     "locked": false,
     "points": 0,
     "schema_version": 3,
     "solution": true
    },
    "slideshow": {
     "slide_type": "fragment"
    }
   },
   "source": [
    "YOUR ANSWER HERE"
   ]
  },
  {
   "cell_type": "markdown",
   "id": "29cd6b6e",
   "metadata": {
    "deletable": false,
    "editable": false,
    "nbgrader": {
     "cell_type": "markdown",
     "checksum": "6f02901f587efc3e76736ff6acad2b3a",
     "grade": false,
     "grade_id": "ex02",
     "locked": true,
     "schema_version": 3,
     "solution": false
    },
    "slideshow": {
     "slide_type": "slide"
    }
   },
   "source": [
    "## Recap 2: Decision Trees"
   ]
  },
  {
   "cell_type": "markdown",
   "id": "f1b022b7",
   "metadata": {
    "deletable": false,
    "editable": false,
    "nbgrader": {
     "cell_type": "markdown",
     "checksum": "226ade0e8319cb4fb72028c82e7c42c1",
     "grade": false,
     "grade_id": "ex02a",
     "locked": true,
     "schema_version": 3,
     "solution": false
    },
    "slideshow": {
     "slide_type": "subslide"
    }
   },
   "source": [
    "#### a) Overfitting\n",
    "What is overfitting? How can it be avoided?"
   ]
  },
  {
   "cell_type": "markdown",
   "id": "50a43ad2",
   "metadata": {
    "deletable": false,
    "nbgrader": {
     "cell_type": "markdown",
     "checksum": "235947c75b971420b6d16e8b45e75dd6",
     "grade": true,
     "grade_id": "ex02a_solution",
     "locked": false,
     "points": 0,
     "schema_version": 3,
     "solution": true
    },
    "slideshow": {
     "slide_type": "fragment"
    }
   },
   "source": [
    "YOUR ANSWER HERE"
   ]
  },
  {
   "cell_type": "markdown",
   "id": "b5cd849c",
   "metadata": {
    "deletable": false,
    "editable": false,
    "nbgrader": {
     "cell_type": "markdown",
     "checksum": "2d591dc10d860e8f2be2a4a7ddc58042",
     "grade": false,
     "grade_id": "ex02b",
     "locked": true,
     "schema_version": 3,
     "solution": false
    },
    "slideshow": {
     "slide_type": "subslide"
    }
   },
   "source": [
    "#### b) Pruning\n",
    "\n",
    "Name one method for pruning a decision tree and describe it!"
   ]
  },
  {
   "cell_type": "markdown",
   "id": "6308728e",
   "metadata": {
    "deletable": false,
    "nbgrader": {
     "cell_type": "markdown",
     "checksum": "c2eeda4f66aa6384de301010d58a0691",
     "grade": true,
     "grade_id": "ex02b_solution",
     "locked": false,
     "points": 0,
     "schema_version": 3,
     "solution": true
    },
    "slideshow": {
     "slide_type": "fragment"
    }
   },
   "source": [
    "YOUR ANSWER HERE"
   ]
  },
  {
   "cell_type": "markdown",
   "id": "998db297",
   "metadata": {
    "deletable": false,
    "editable": false,
    "nbgrader": {
     "cell_type": "markdown",
     "checksum": "a3a0abbfbb5eb64243be78d5ec8a4148",
     "grade": false,
     "grade_id": "ex02c",
     "locked": true,
     "schema_version": 3,
     "solution": false
    },
    "slideshow": {
     "slide_type": "subslide"
    }
   },
   "source": [
    "#### c) Information gain\n",
    "What are entropy and information gain? Provide explanation and formulae. How are they used in ID3?"
   ]
  },
  {
   "cell_type": "markdown",
   "id": "ecb0818c",
   "metadata": {
    "deletable": false,
    "nbgrader": {
     "cell_type": "markdown",
     "checksum": "ed2731416e9d2e272b2b37c0731390c5",
     "grade": true,
     "grade_id": "ex02c_solution",
     "locked": false,
     "points": 0,
     "schema_version": 3,
     "solution": true
    },
    "slideshow": {
     "slide_type": "fragment"
    }
   },
   "source": [
    "YOUR ANSWER HERE"
   ]
  },
  {
   "cell_type": "markdown",
   "id": "652bfa33",
   "metadata": {
    "deletable": false,
    "editable": false,
    "nbgrader": {
     "cell_type": "markdown",
     "checksum": "6316877e77415a62dc45bfcfcf64403f",
     "grade": false,
     "grade_id": "ex03",
     "locked": true,
     "schema_version": 3,
     "solution": false
    },
    "slideshow": {
     "slide_type": "slide"
    }
   },
   "source": [
    "## Recap 3: Data Mining"
   ]
  },
  {
   "cell_type": "markdown",
   "id": "708f1b9e",
   "metadata": {
    "deletable": false,
    "editable": false,
    "nbgrader": {
     "cell_type": "markdown",
     "checksum": "40a25f7a2b81dec27e8ea0cba55d1747",
     "grade": false,
     "grade_id": "ex03a",
     "locked": true,
     "schema_version": 3,
     "solution": false
    },
    "slideshow": {
     "slide_type": "subslide"
    }
   },
   "source": [
    "#### a) Missing values\n",
    "\n",
    "How can you deal with missing values? Name an important algorithm and explain how to use it."
   ]
  },
  {
   "cell_type": "markdown",
   "id": "6bfddac0",
   "metadata": {
    "deletable": false,
    "nbgrader": {
     "cell_type": "markdown",
     "checksum": "fe2cdb39d5121fa623368134a0c40740",
     "grade": true,
     "grade_id": "ex03a_solution",
     "locked": false,
     "points": 0,
     "schema_version": 3,
     "solution": true
    },
    "slideshow": {
     "slide_type": "fragment"
    }
   },
   "source": [
    "YOUR ANSWER HERE"
   ]
  },
  {
   "cell_type": "markdown",
   "id": "2aebd7e5",
   "metadata": {
    "deletable": false,
    "editable": false,
    "nbgrader": {
     "cell_type": "markdown",
     "checksum": "12c37ed75354abb52890041b0716607b",
     "grade": false,
     "grade_id": "ex03b",
     "locked": true,
     "schema_version": 3,
     "solution": false
    },
    "slideshow": {
     "slide_type": "subslide"
    }
   },
   "source": [
    "#### b) Outliers\n",
    "\n",
    "What are outliers? Can we detect them? If so, how?"
   ]
  },
  {
   "cell_type": "markdown",
   "id": "3dcb6870",
   "metadata": {
    "deletable": false,
    "nbgrader": {
     "cell_type": "markdown",
     "checksum": "9573a75f85a7c65581813df83b1b73f5",
     "grade": true,
     "grade_id": "ex03b_solution",
     "locked": false,
     "points": 0,
     "schema_version": 3,
     "solution": true
    },
    "slideshow": {
     "slide_type": "fragment"
    }
   },
   "source": [
    "YOUR ANSWER HERE"
   ]
  },
  {
   "cell_type": "markdown",
   "id": "034cb2e6",
   "metadata": {
    "deletable": false,
    "editable": false,
    "nbgrader": {
     "cell_type": "markdown",
     "checksum": "fb9321dd7411752926b14d68b3d912b1",
     "grade": false,
     "grade_id": "ex03c",
     "locked": true,
     "schema_version": 3,
     "solution": false
    },
    "slideshow": {
     "slide_type": "subslide"
    }
   },
   "source": [
    "#### c) Expectation Maximization\n",
    "What does the Q-function express in the EM algorithm?"
   ]
  },
  {
   "cell_type": "markdown",
   "id": "efbe8ba0",
   "metadata": {
    "deletable": false,
    "nbgrader": {
     "cell_type": "markdown",
     "checksum": "6b43b094805f547f702ba1bef5535ddb",
     "grade": true,
     "grade_id": "ex03c_solution",
     "locked": false,
     "points": 0,
     "schema_version": 3,
     "solution": true
    },
    "slideshow": {
     "slide_type": "fragment"
    }
   },
   "source": [
    "YOUR ANSWER HERE"
   ]
  },
  {
   "cell_type": "markdown",
   "id": "1481524f",
   "metadata": {
    "deletable": false,
    "editable": false,
    "nbgrader": {
     "cell_type": "markdown",
     "checksum": "dea7ce1bc57c3d2be2bf625c92da6558",
     "grade": false,
     "grade_id": "ex04",
     "locked": true,
     "schema_version": 3,
     "solution": false
    },
    "slideshow": {
     "slide_type": "slide"
    }
   },
   "source": [
    "## Recap 4: Clustering"
   ]
  },
  {
   "cell_type": "markdown",
   "id": "f044450f",
   "metadata": {
    "deletable": false,
    "editable": false,
    "nbgrader": {
     "cell_type": "markdown",
     "checksum": "69e73d48837845d0fb9885df40b9a8fb",
     "grade": false,
     "grade_id": "ex04a",
     "locked": true,
     "schema_version": 3,
     "solution": false
    },
    "slideshow": {
     "slide_type": "subslide"
    }
   },
   "source": [
    "#### a) Clustering\n",
    "\n",
    "Explain the difference between single-linkage and complete-linkage clustering."
   ]
  },
  {
   "cell_type": "markdown",
   "id": "a22aee71",
   "metadata": {
    "deletable": false,
    "nbgrader": {
     "cell_type": "markdown",
     "checksum": "e67025e5135ce65d357b941f310c1a1a",
     "grade": true,
     "grade_id": "ex04a_solution",
     "locked": false,
     "points": 0,
     "schema_version": 3,
     "solution": true
    },
    "slideshow": {
     "slide_type": "fragment"
    }
   },
   "source": [
    "YOUR ANSWER HERE"
   ]
  },
  {
   "cell_type": "markdown",
   "id": "24fcbc1a",
   "metadata": {
    "deletable": false,
    "editable": false,
    "nbgrader": {
     "cell_type": "markdown",
     "checksum": "1052052aefbaf95906003edd98b0ff2a",
     "grade": false,
     "grade_id": "ex04b",
     "locked": true,
     "schema_version": 3,
     "solution": false
    },
    "slideshow": {
     "slide_type": "subslide"
    }
   },
   "source": [
    "#### b) Metrics\n",
    "\n",
    "Name three different distance measures and briefly explain them. Check the metric axioms for one of them."
   ]
  },
  {
   "cell_type": "markdown",
   "id": "aced1436",
   "metadata": {
    "deletable": false,
    "nbgrader": {
     "cell_type": "markdown",
     "checksum": "ceb8b09ffc518fd78be333b3332f8722",
     "grade": true,
     "grade_id": "ex04b_solution",
     "locked": false,
     "points": 0,
     "schema_version": 3,
     "solution": true
    },
    "slideshow": {
     "slide_type": "fragment"
    }
   },
   "source": [
    "YOUR ANSWER HERE"
   ]
  },
  {
   "cell_type": "markdown",
   "id": "e3eb23e7",
   "metadata": {
    "deletable": false,
    "editable": false,
    "nbgrader": {
     "cell_type": "markdown",
     "checksum": "a62b2e7d6e81f9a2a2dd88d1c22f36b9",
     "grade": false,
     "grade_id": "ex04c",
     "locked": true,
     "schema_version": 3,
     "solution": false
    },
    "slideshow": {
     "slide_type": "subslide"
    }
   },
   "source": [
    "#### c) Mixture models\n",
    "\n",
    "What is a mixture model? Explain. Can you provide a formula?"
   ]
  },
  {
   "cell_type": "markdown",
   "id": "de424577",
   "metadata": {
    "deletable": false,
    "nbgrader": {
     "cell_type": "markdown",
     "checksum": "5f8783c383106c669f7face133076280",
     "grade": true,
     "grade_id": "ex04c_solution",
     "locked": false,
     "points": 0,
     "schema_version": 3,
     "solution": true
    },
    "slideshow": {
     "slide_type": "fragment"
    }
   },
   "source": [
    "YOUR ANSWER HERE"
   ]
  },
  {
   "cell_type": "markdown",
   "id": "bbb0e7cd",
   "metadata": {
    "deletable": false,
    "editable": false,
    "nbgrader": {
     "cell_type": "markdown",
     "checksum": "04c37977c7785a26a3a93d32bd47a71d",
     "grade": false,
     "grade_id": "ex05",
     "locked": true,
     "schema_version": 3,
     "solution": false
    },
    "slideshow": {
     "slide_type": "slide"
    }
   },
   "source": [
    "## Recap 5: Dimension Reduction"
   ]
  },
  {
   "cell_type": "markdown",
   "id": "18a4ff3a",
   "metadata": {
    "deletable": false,
    "editable": false,
    "nbgrader": {
     "cell_type": "markdown",
     "checksum": "9d6eb9196ea151806275a62742bb6439",
     "grade": false,
     "grade_id": "ex05a",
     "locked": true,
     "schema_version": 3,
     "solution": false
    },
    "slideshow": {
     "slide_type": "subslide"
    }
   },
   "source": [
    "#### a) Visualization\n",
    "\n",
    "Name three different data visualization techniques to visualize high dimensional data. Explain one in detail."
   ]
  },
  {
   "cell_type": "markdown",
   "id": "469898fc",
   "metadata": {
    "deletable": false,
    "nbgrader": {
     "cell_type": "markdown",
     "checksum": "46fef1a53f4afe8d39a39f43d4bf73f9",
     "grade": true,
     "grade_id": "ex05a_solution",
     "locked": false,
     "points": 0,
     "schema_version": 3,
     "solution": true
    },
    "slideshow": {
     "slide_type": "fragment"
    }
   },
   "source": [
    "YOUR ANSWER HERE"
   ]
  },
  {
   "cell_type": "markdown",
   "id": "600c6843",
   "metadata": {
    "deletable": false,
    "editable": false,
    "nbgrader": {
     "cell_type": "markdown",
     "checksum": "f63636a791a5214777e91c3525933667",
     "grade": false,
     "grade_id": "ex05b",
     "locked": true,
     "schema_version": 3,
     "solution": false
    },
    "slideshow": {
     "slide_type": "subslide"
    }
   },
   "source": [
    "#### b) PCA\n",
    "\n",
    "Draw a few data points (ASCII arts or on a sheet of paper) and mark the principal components. What are the principal components?"
   ]
  },
  {
   "cell_type": "markdown",
   "id": "dac89b7b",
   "metadata": {
    "deletable": false,
    "nbgrader": {
     "cell_type": "markdown",
     "checksum": "719c043025883c554638a7a2d57ef90a",
     "grade": true,
     "grade_id": "ex05b_solution",
     "locked": false,
     "points": 0,
     "schema_version": 3,
     "solution": true
    },
    "slideshow": {
     "slide_type": "fragment"
    }
   },
   "source": [
    "YOUR ANSWER HERE"
   ]
  },
  {
   "cell_type": "markdown",
   "id": "c0d23fd9",
   "metadata": {
    "deletable": false,
    "editable": false,
    "nbgrader": {
     "cell_type": "markdown",
     "checksum": "97aa58b4bfa002f72b447fa1dd2bf0c6",
     "grade": false,
     "grade_id": "ex05c",
     "locked": true,
     "schema_version": 3,
     "solution": false
    },
    "slideshow": {
     "slide_type": "subslide"
    }
   },
   "source": [
    "#### c) Covariance matrix\n",
    "What does a covariance matrix express? How is it computed from data? How is it used in PCA?"
   ]
  },
  {
   "cell_type": "markdown",
   "id": "eeb12391",
   "metadata": {
    "deletable": false,
    "nbgrader": {
     "cell_type": "markdown",
     "checksum": "3234896e9fa39b577f0d12a36ce72c4d",
     "grade": true,
     "grade_id": "ex05c_solution",
     "locked": false,
     "points": 0,
     "schema_version": 3,
     "solution": true
    },
    "slideshow": {
     "slide_type": "fragment"
    }
   },
   "source": [
    "YOUR ANSWER HERE"
   ]
  },
  {
   "cell_type": "markdown",
   "id": "6d41eb99",
   "metadata": {
    "deletable": false,
    "editable": false,
    "nbgrader": {
     "cell_type": "markdown",
     "checksum": "2f51f14d5c565737a966c1d25224eb0e",
     "grade": false,
     "grade_id": "r06",
     "locked": true,
     "schema_version": 3,
     "solution": false
    },
    "slideshow": {
     "slide_type": "slide"
    }
   },
   "source": [
    "## Recap 6: Neural Networks"
   ]
  },
  {
   "cell_type": "markdown",
   "id": "d648890f",
   "metadata": {
    "deletable": false,
    "editable": false,
    "nbgrader": {
     "cell_type": "markdown",
     "checksum": "3de6953a83ac01bf99e492bca3f62693",
     "grade": false,
     "grade_id": "r06a",
     "locked": true,
     "schema_version": 3,
     "solution": false
    },
    "slideshow": {
     "slide_type": "subslide"
    }
   },
   "source": [
    "### a) Neural Networks\n",
    "\n",
    "Name three different kinds of Artificial Neural Networks discussed in the lecture."
   ]
  },
  {
   "cell_type": "markdown",
   "id": "fc4cf7cc",
   "metadata": {
    "deletable": false,
    "nbgrader": {
     "cell_type": "markdown",
     "checksum": "2431e920e06b6e2975f02f70b736cbe1",
     "grade": true,
     "grade_id": "r06a_solution",
     "locked": false,
     "points": 0.5,
     "schema_version": 3,
     "solution": true
    },
    "slideshow": {
     "slide_type": "fragment"
    }
   },
   "source": [
    "YOUR ANSWER HERE"
   ]
  },
  {
   "cell_type": "markdown",
   "id": "70de5d79",
   "metadata": {
    "deletable": false,
    "editable": false,
    "nbgrader": {
     "cell_type": "markdown",
     "checksum": "9a66ab87c34b88f7d75630775c1acb98",
     "grade": false,
     "grade_id": "r06b",
     "locked": true,
     "schema_version": 3,
     "solution": false
    },
    "slideshow": {
     "slide_type": "subslide"
    }
   },
   "source": [
    "### b) Backpropagation\n",
    "\n",
    "Which of the following formulae describes the backpropagation of the error through hidden layers in a Multilayer Perceptron?\n",
    "Assume they are calculated for each $k=L_H \\dots 1$ and $i=1\\dots N(k)$.\n",
    "\n",
    "1. $\\delta_i(k) = f^\\prime(o_i(k)) \\sum\\limits_{j=1}^{N(k+1)} w_{ji}(k+1, k)o_j(k)$\n",
    "2. $\\delta_i(k) = f^\\prime(o_i(k)) \\sum\\limits_{j=1}^{N(k+1)} w_{ji}(k+1, k)\\delta_j(k+1)$\n",
    "3. $\\delta_i(k) = f^\\prime(o_i(k)) \\sum\\limits_{j=1}^{N(k+1)} w_{ji}(k, k-1)\\delta_j(k+1)$"
   ]
  },
  {
   "cell_type": "markdown",
   "id": "674ef79a",
   "metadata": {
    "deletable": false,
    "nbgrader": {
     "cell_type": "markdown",
     "checksum": "16efb9c9bc8a9da51eb891cebcc310e7",
     "grade": true,
     "grade_id": "r06b_solution",
     "locked": false,
     "points": 0.5,
     "schema_version": 3,
     "solution": true
    },
    "slideshow": {
     "slide_type": "fragment"
    }
   },
   "source": [
    "YOUR ANSWER HERE"
   ]
  },
  {
   "cell_type": "markdown",
   "id": "8f1c3af8",
   "metadata": {
    "deletable": false,
    "editable": false,
    "nbgrader": {
     "cell_type": "markdown",
     "checksum": "8b2383196240f8015fce8111c44618c7",
     "grade": false,
     "grade_id": "r06c",
     "locked": true,
     "schema_version": 3,
     "solution": false
    },
    "slideshow": {
     "slide_type": "subslide"
    }
   },
   "source": [
    "### c) Hebb's rule\n",
    "Explain Hebb's rule. Provide a formula. What is the relation to Oja's rule?"
   ]
  },
  {
   "cell_type": "markdown",
   "id": "5785cb1b",
   "metadata": {
    "deletable": false,
    "nbgrader": {
     "cell_type": "markdown",
     "checksum": "664e40dd0aed7acfe1360fc06d9464d9",
     "grade": true,
     "grade_id": "r06c_solution",
     "locked": false,
     "points": 1,
     "schema_version": 3,
     "solution": true
    },
    "slideshow": {
     "slide_type": "fragment"
    }
   },
   "source": [
    "YOUR ANSWER HERE"
   ]
  },
  {
   "cell_type": "markdown",
   "id": "c41c3803",
   "metadata": {
    "deletable": false,
    "editable": false,
    "nbgrader": {
     "cell_type": "markdown",
     "checksum": "b5470deff4b5202a3a0fe88c3185ae2f",
     "grade": false,
     "grade_id": "r07",
     "locked": true,
     "schema_version": 3,
     "solution": false
    },
    "slideshow": {
     "slide_type": "slide"
    }
   },
   "source": [
    "## Recap 7: Local Methods"
   ]
  },
  {
   "cell_type": "markdown",
   "id": "0c6bf7c5",
   "metadata": {
    "deletable": false,
    "editable": false,
    "nbgrader": {
     "cell_type": "markdown",
     "checksum": "6f90b47c72735d7628fb7ec7cf3bc623",
     "grade": false,
     "grade_id": "r07a",
     "locked": true,
     "schema_version": 3,
     "solution": false
    },
    "slideshow": {
     "slide_type": "subslide"
    }
   },
   "source": [
    "### a) Local methods\n",
    "\n",
    "What are differences between local and global methods? What are advantages or disadvantages?"
   ]
  },
  {
   "cell_type": "markdown",
   "id": "863a1194",
   "metadata": {
    "deletable": false,
    "nbgrader": {
     "cell_type": "markdown",
     "checksum": "7b04430591b527b08dcf411dc922e1d7",
     "grade": true,
     "grade_id": "r07a_solution",
     "locked": false,
     "points": 0.5,
     "schema_version": 3,
     "solution": true
    },
    "slideshow": {
     "slide_type": "fragment"
    }
   },
   "source": [
    "YOUR ANSWER HERE"
   ]
  },
  {
   "cell_type": "markdown",
   "id": "dfe6bba6",
   "metadata": {
    "deletable": false,
    "editable": false,
    "nbgrader": {
     "cell_type": "markdown",
     "checksum": "69286c3f3433fc504bba0b3a6789b322",
     "grade": false,
     "grade_id": "r07b",
     "locked": true,
     "schema_version": 3,
     "solution": false
    },
    "slideshow": {
     "slide_type": "subslide"
    }
   },
   "source": [
    "### b) MLP and RBFN\n",
    "\n",
    "Is an MLP or are RBFN local methods? Why?"
   ]
  },
  {
   "cell_type": "markdown",
   "id": "1df5e37a",
   "metadata": {
    "deletable": false,
    "nbgrader": {
     "cell_type": "markdown",
     "checksum": "caacbd38edeb60e5cb2fd5fa56098c01",
     "grade": true,
     "grade_id": "r07b_solution",
     "locked": false,
     "points": 0.5,
     "schema_version": 3,
     "solution": true
    },
    "slideshow": {
     "slide_type": "fragment"
    }
   },
   "source": [
    "YOUR ANSWER HERE"
   ]
  },
  {
   "cell_type": "markdown",
   "id": "69550e55",
   "metadata": {
    "deletable": false,
    "editable": false,
    "nbgrader": {
     "cell_type": "markdown",
     "checksum": "1415431834f79d0e1243bbafb7570b16",
     "grade": false,
     "grade_id": "r07c",
     "locked": true,
     "schema_version": 3,
     "solution": false
    },
    "slideshow": {
     "slide_type": "subslide"
    }
   },
   "source": [
    "### c)  Nearest neighbor\n",
    "\n",
    "How does the nearest neighbor approach work? How can it be improved?"
   ]
  },
  {
   "cell_type": "markdown",
   "id": "024371b6",
   "metadata": {
    "deletable": false,
    "nbgrader": {
     "cell_type": "markdown",
     "checksum": "6f85205012c26449e35a517cdf9f9918",
     "grade": true,
     "grade_id": "r07c_solution",
     "locked": false,
     "points": 1,
     "schema_version": 3,
     "solution": true
    },
    "slideshow": {
     "slide_type": "fragment"
    }
   },
   "source": [
    "YOUR ANSWER HERE"
   ]
  },
  {
   "cell_type": "markdown",
   "id": "7f0e9461",
   "metadata": {
    "deletable": false,
    "editable": false,
    "nbgrader": {
     "cell_type": "markdown",
     "checksum": "58416f415e3ea4fb3aa75f9e219966ac",
     "grade": false,
     "grade_id": "r08",
     "locked": true,
     "schema_version": 3,
     "solution": false
    },
    "slideshow": {
     "slide_type": "slide"
    }
   },
   "source": [
    "## Recap 8: Classification"
   ]
  },
  {
   "cell_type": "markdown",
   "id": "afc3687b",
   "metadata": {
    "deletable": false,
    "editable": false,
    "nbgrader": {
     "cell_type": "markdown",
     "checksum": "2abe8e72e4c19c2e40830204a9d8a688",
     "grade": false,
     "grade_id": "r08a",
     "locked": true,
     "schema_version": 3,
     "solution": false
    },
    "slideshow": {
     "slide_type": "subslide"
    }
   },
   "source": [
    "### a) Classfier\n",
    "\n",
    "What is a classifier? What is the relation to a concept?"
   ]
  },
  {
   "cell_type": "markdown",
   "id": "9d08e8d3",
   "metadata": {
    "deletable": false,
    "nbgrader": {
     "cell_type": "markdown",
     "checksum": "50c9a68e3b8b1306c2181af7ab6d8fec",
     "grade": true,
     "grade_id": "r08a_solution",
     "locked": false,
     "points": 0.5,
     "schema_version": 3,
     "solution": true
    },
    "slideshow": {
     "slide_type": "fragment"
    }
   },
   "source": [
    "YOUR ANSWER HERE"
   ]
  },
  {
   "cell_type": "markdown",
   "id": "e2a085af",
   "metadata": {
    "deletable": false,
    "editable": false,
    "nbgrader": {
     "cell_type": "markdown",
     "checksum": "c5b630f3827ca3bf0d814cb58281196e",
     "grade": false,
     "grade_id": "r08b",
     "locked": true,
     "schema_version": 3,
     "solution": false
    },
    "slideshow": {
     "slide_type": "subslide"
    }
   },
   "source": [
    "### b) Comparison of classifiers\n",
    "\n",
    "Name three different classifiers and compare them. Think about biases and assumptions, separatrices, sensitivity, locality, parameters and speed. "
   ]
  },
  {
   "cell_type": "markdown",
   "id": "2fb4a135",
   "metadata": {
    "deletable": false,
    "nbgrader": {
     "cell_type": "markdown",
     "checksum": "c755dd1b956540416bb8f3c924768b90",
     "grade": true,
     "grade_id": "r08b_solution",
     "locked": false,
     "points": 0.5,
     "schema_version": 3,
     "solution": true
    },
    "slideshow": {
     "slide_type": "fragment"
    }
   },
   "source": [
    "YOUR ANSWER HERE"
   ]
  },
  {
   "cell_type": "markdown",
   "id": "d6efd6d5",
   "metadata": {
    "deletable": false,
    "editable": false,
    "nbgrader": {
     "cell_type": "markdown",
     "checksum": "aa0cbd27cac42fa8e37044709288123f",
     "grade": false,
     "grade_id": "ex08c",
     "locked": true,
     "schema_version": 3,
     "solution": false
    },
    "slideshow": {
     "slide_type": "subslide"
    }
   },
   "source": [
    "### c) SVM\n",
    "\n",
    "What is a support vector? How does the kernel trick work?"
   ]
  },
  {
   "cell_type": "markdown",
   "id": "143e86c4",
   "metadata": {
    "deletable": false,
    "nbgrader": {
     "cell_type": "markdown",
     "checksum": "9f675e71da82dca8138ab125d6ac4309",
     "grade": true,
     "grade_id": "r08c_solution",
     "locked": false,
     "points": 1,
     "schema_version": 3,
     "solution": true
    },
    "slideshow": {
     "slide_type": "fragment"
    }
   },
   "source": [
    "YOUR ANSWER HERE"
   ]
  },
  {
   "cell_type": "markdown",
   "id": "ec487bfb",
   "metadata": {
    "deletable": false,
    "editable": false,
    "nbgrader": {
     "cell_type": "markdown",
     "checksum": "ecdf0a839b18db0f328e583e4b23d945",
     "grade": false,
     "grade_id": "r09",
     "locked": true,
     "schema_version": 3,
     "solution": false
    },
    "slideshow": {
     "slide_type": "slide"
    }
   },
   "source": [
    "## Recap 9: Reinforcement Learning"
   ]
  },
  {
   "cell_type": "markdown",
   "id": "39bed00d",
   "metadata": {
    "deletable": false,
    "editable": false,
    "nbgrader": {
     "cell_type": "markdown",
     "checksum": "647b504595f55e43ea201d99e66c9663",
     "grade": false,
     "grade_id": "r09a",
     "locked": true,
     "schema_version": 3,
     "solution": false
    },
    "slideshow": {
     "slide_type": "subslide"
    }
   },
   "source": [
    "### a)\n",
    "\n",
    "What is an agent in terms of reinforcement learning? Name an example of an agent."
   ]
  },
  {
   "cell_type": "markdown",
   "id": "e7c60cf8",
   "metadata": {
    "deletable": false,
    "nbgrader": {
     "cell_type": "markdown",
     "checksum": "d48809f1c135c4e99f4e599fd2119511",
     "grade": true,
     "grade_id": "ex09a_solution",
     "locked": false,
     "points": 0.5,
     "schema_version": 3,
     "solution": true
    },
    "slideshow": {
     "slide_type": "fragment"
    }
   },
   "source": [
    "YOUR ANSWER HERE"
   ]
  },
  {
   "cell_type": "markdown",
   "id": "0b73d315",
   "metadata": {
    "deletable": false,
    "editable": false,
    "nbgrader": {
     "cell_type": "markdown",
     "checksum": "213c164ae670eed99688fda7a3b91005",
     "grade": false,
     "grade_id": "r09b",
     "locked": true,
     "schema_version": 3,
     "solution": false
    },
    "slideshow": {
     "slide_type": "subslide"
    }
   },
   "source": [
    "### b)\n",
    "\n",
    "What is the Markov assumption? How is it related to Q-learning? Give an example for which it does not hold."
   ]
  },
  {
   "cell_type": "markdown",
   "id": "18f94f28",
   "metadata": {
    "deletable": false,
    "nbgrader": {
     "cell_type": "markdown",
     "checksum": "e6411198d475b4cfe3fc65f05aa08116",
     "grade": true,
     "grade_id": "r09b_solution",
     "locked": false,
     "points": 0.5,
     "schema_version": 3,
     "solution": true
    },
    "slideshow": {
     "slide_type": "fragment"
    }
   },
   "source": [
    "YOUR ANSWER HERE"
   ]
  },
  {
   "cell_type": "markdown",
   "id": "51fdd78f",
   "metadata": {
    "deletable": false,
    "editable": false,
    "nbgrader": {
     "cell_type": "markdown",
     "checksum": "26436207ba7ec4a4ff50cf5278be35ea",
     "grade": false,
     "grade_id": "r09c",
     "locked": true,
     "schema_version": 3,
     "solution": false
    },
    "slideshow": {
     "slide_type": "subslide"
    }
   },
   "source": [
    "### c) \n",
    "What does the $Q$-function express in reinforcement learning and how is it used?"
   ]
  },
  {
   "cell_type": "markdown",
   "id": "e802ba32",
   "metadata": {
    "deletable": false,
    "nbgrader": {
     "cell_type": "markdown",
     "checksum": "d6f0986ee04fe074aa3f70849e8a1456",
     "grade": true,
     "grade_id": "r09c_solution",
     "locked": false,
     "points": 1,
     "schema_version": 3,
     "solution": true
    },
    "slideshow": {
     "slide_type": "fragment"
    }
   },
   "source": [
    "YOUR ANSWER HERE"
   ]
  },
  {
   "cell_type": "markdown",
   "id": "178ec2e9",
   "metadata": {
    "deletable": false,
    "editable": false,
    "nbgrader": {
     "cell_type": "markdown",
     "checksum": "8a6641bd3f7ef522f3c0f72f77d117d3",
     "grade": false,
     "grade_id": "r10",
     "locked": true,
     "schema_version": 3,
     "solution": false
    },
    "slideshow": {
     "slide_type": "slide"
    }
   },
   "source": [
    "## Recap 10: Modeling Uncertainty"
   ]
  },
  {
   "cell_type": "markdown",
   "id": "f68e32af",
   "metadata": {
    "deletable": false,
    "editable": false,
    "nbgrader": {
     "cell_type": "markdown",
     "checksum": "433d9e2c8d4a489f66e3c1a27a81b22f",
     "grade": false,
     "grade_id": "r10a",
     "locked": true,
     "schema_version": 3,
     "solution": false
    },
    "slideshow": {
     "slide_type": "subslide"
    }
   },
   "source": [
    "### a) Uncertainty\n",
    "\n",
    "Why do we need to model uncertainties?"
   ]
  },
  {
   "cell_type": "markdown",
   "id": "7019b10d",
   "metadata": {
    "deletable": false,
    "nbgrader": {
     "cell_type": "markdown",
     "checksum": "372f9f0bb419c6ee099547d4f8b43953",
     "grade": true,
     "grade_id": "r10a_solution",
     "locked": false,
     "points": 0.5,
     "schema_version": 3,
     "solution": true
    },
    "slideshow": {
     "slide_type": "fragment"
    }
   },
   "source": [
    "YOUR ANSWER HERE"
   ]
  },
  {
   "cell_type": "markdown",
   "id": "06f50942",
   "metadata": {
    "deletable": false,
    "editable": false,
    "nbgrader": {
     "cell_type": "markdown",
     "checksum": "1cdae0162a25e6912b619666e4e9c2d2",
     "grade": false,
     "grade_id": "ex10b",
     "locked": true,
     "schema_version": 3,
     "solution": false
    },
    "slideshow": {
     "slide_type": "subslide"
    }
   },
   "source": [
    "### b) Naive Bayes\n",
    "\n",
    "What is a naive Bayes classifier? Why is it naive? "
   ]
  },
  {
   "cell_type": "markdown",
   "id": "a94aab14",
   "metadata": {
    "deletable": false,
    "nbgrader": {
     "cell_type": "markdown",
     "checksum": "dc992a2576b38233208e9a8b6351c1ac",
     "grade": true,
     "grade_id": "r10b_solution",
     "locked": false,
     "points": 0.5,
     "schema_version": 3,
     "solution": true
    },
    "slideshow": {
     "slide_type": "fragment"
    }
   },
   "source": [
    "YOUR ANSWER HERE"
   ]
  },
  {
   "cell_type": "markdown",
   "id": "a8ac2bf8",
   "metadata": {
    "deletable": false,
    "editable": false,
    "nbgrader": {
     "cell_type": "markdown",
     "checksum": "94641b398e85e11fb9e8c44bbd7373b2",
     "grade": false,
     "grade_id": "r10c",
     "locked": true,
     "schema_version": 3,
     "solution": false
    },
    "slideshow": {
     "slide_type": "subslide"
    }
   },
   "source": [
    "### c) Probabilities\n",
    "\n",
    "Given the following table, calculate the probability of drawing a blue candy blindly (assume the bags are chosen equally likely). Then calculate the probability that our drawn blue candy was drawn from the red bag.\n",
    "\n",
    "|                | blue candies | green candies |\n",
    "|----------------|--------------|---------------|\n",
    "| **red bag**    |            5 |            10 |\n",
    "| **yellow bag** |           20 |            10 |"
   ]
  },
  {
   "cell_type": "markdown",
   "id": "1da09f23",
   "metadata": {
    "deletable": false,
    "nbgrader": {
     "cell_type": "markdown",
     "checksum": "a3f1a21a2a207eaf763203562914c18c",
     "grade": true,
     "grade_id": "ex10c_solution",
     "locked": false,
     "points": 1,
     "schema_version": 3,
     "solution": true
    },
    "slideshow": {
     "slide_type": "fragment"
    }
   },
   "source": [
    "YOUR ANSWER HERE"
   ]
  }
 ],
 "metadata": {
  "kernelspec": {
   "display_name": "Python 3 (ipykernel)",
   "language": "python",
   "name": "python3"
  }
 },
 "nbformat": 4,
 "nbformat_minor": 5
}
