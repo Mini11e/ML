{
 "cells": [
  {
   "cell_type": "markdown",
   "id": "63c55aeb",
   "metadata": {
    "deletable": false,
    "editable": false,
    "nbgrader": {
     "cell_type": "markdown",
     "checksum": "44fca659c1e85aa18c1a44bcb17af98a",
     "grade": false,
     "grade_id": "h00",
     "locked": true,
     "schema_version": 3,
     "solution": false
    }
   },
   "source": [
    "Osnabrück University - Machine Learning (Summer Term 2024) - Prof. Dr.-Ing. G. Heidemann, Ulf Krumnack, Lukas Niehaus"
   ]
  },
  {
   "cell_type": "markdown",
   "id": "13d9bf70",
   "metadata": {
    "deletable": false,
    "editable": false,
    "nbgrader": {
     "cell_type": "markdown",
     "checksum": "e65a504c1df06d5929d7da5fc5dde8db",
     "grade": false,
     "grade_id": "h01",
     "locked": true,
     "schema_version": 3,
     "solution": false
    }
   },
   "source": [
    "# Exercise Sheet 07"
   ]
  },
  {
   "cell_type": "markdown",
   "id": "6ff5851e",
   "metadata": {
    "deletable": false,
    "editable": false,
    "nbgrader": {
     "cell_type": "markdown",
     "checksum": "07b8202cfb0ea48305c7cf71913caf7d",
     "grade": false,
     "grade_id": "h02",
     "locked": true,
     "schema_version": 3,
     "solution": false
    }
   },
   "source": [
    "## Introduction\n",
    "\n",
    "This week's sheet should be solved and handed in before the end of **Sunday, June 2th, 2023**. If you need help (and Google and other resources were not enough), ask in the forum, contact your groups designated tutor or whomever of us you run into first. Please upload your results to your group's studip folder."
   ]
  },
  {
   "cell_type": "markdown",
   "id": "8d369fa3",
   "metadata": {
    "deletable": false,
    "editable": false,
    "nbgrader": {
     "cell_type": "markdown",
     "checksum": "b529b62ef26733edb117e7ea309b1c27",
     "grade": false,
     "grade_id": "math-matrix",
     "locked": true,
     "schema_version": 3,
     "solution": false
    }
   },
   "source": [
    "## Assignment 0: Math recap (Hyperplanes) [0 Points]\n",
    "\n",
    "This exercise is supposed to be very easy and is voluntary. There will be a similar exercise on every sheet. It is intended to revise some basic mathematical notions that are assumed throughout this class and to allow you to check if you are comfortable with them. Usually you should have no problem to answer these questions offhand, but if you feel unsure, this is a good time to look them up again. You are always welcome to discuss questions with the tutors or in the practice session. Also, if you have a (math) topic you would like to recap, please let us know."
   ]
  },
  {
   "cell_type": "markdown",
   "id": "c2b9f956",
   "metadata": {
    "deletable": false,
    "editable": false,
    "nbgrader": {
     "cell_type": "markdown",
     "checksum": "bc371cf3fc1bd7ae06f900316e70f3f6",
     "grade": false,
     "grade_id": "math-hyperplane-q1",
     "locked": true,
     "schema_version": 3,
     "solution": false
    }
   },
   "source": [
    "**a)** What is a *hyperplane*? What are the hyperlanes in $\\mathbb{R}^2$ and $\\mathbb{R}^3$? How are the usually described?"
   ]
  },
  {
   "cell_type": "markdown",
   "id": "d591d979",
   "metadata": {
    "deletable": false,
    "nbgrader": {
     "cell_type": "markdown",
     "checksum": "88a263200b0663825b9c7186013a0472",
     "grade": true,
     "grade_id": "math-hyperplane-a1",
     "locked": false,
     "points": 0,
     "schema_version": 3,
     "solution": true
    },
    "solution": true
   },
   "source": [
    "YOUR ANSWER HERE"
   ]
  },
  {
   "cell_type": "markdown",
   "id": "b453981f",
   "metadata": {
    "deletable": false,
    "editable": false,
    "nbgrader": {
     "cell_type": "markdown",
     "checksum": "afd504b56e1d9fc5d34933d799a2b15b",
     "grade": false,
     "grade_id": "math-hyperplane-q2",
     "locked": true,
     "schema_version": 3,
     "solution": false
    }
   },
   "source": [
    "**b)** What is the Hesse normal form? What is the intuition behind? What are its advantages?"
   ]
  },
  {
   "cell_type": "markdown",
   "id": "9a8a3064",
   "metadata": {
    "deletable": false,
    "nbgrader": {
     "cell_type": "markdown",
     "checksum": "021e464996320a7a79691045039b51fd",
     "grade": true,
     "grade_id": "math-hyperplane-a2",
     "locked": false,
     "points": 0,
     "schema_version": 3,
     "solution": true
    },
    "solution": true
   },
   "source": [
    "YOUR ANSWER HERE"
   ]
  },
  {
   "cell_type": "markdown",
   "id": "497fb605",
   "metadata": {
    "deletable": false,
    "editable": false,
    "nbgrader": {
     "cell_type": "markdown",
     "checksum": "6ed69a2bc2a9faea213969bcec87db1b",
     "grade": false,
     "grade_id": "math-hyperplane-q3",
     "locked": true,
     "schema_version": 3,
     "solution": false
    }
   },
   "source": [
    "**c)** Can you transform the standard form of a hyperplane into the Hesse normal form and vice versa?"
   ]
  },
  {
   "cell_type": "markdown",
   "id": "2fde68cc",
   "metadata": {
    "deletable": false,
    "nbgrader": {
     "cell_type": "markdown",
     "checksum": "393bcc89d193ac13efb934c0dea177ae",
     "grade": true,
     "grade_id": "math-hyperplane-a3",
     "locked": false,
     "points": 0,
     "schema_version": 3,
     "solution": true
    },
    "solution": true
   },
   "source": [
    "YOUR ANSWER HERE"
   ]
  },
  {
   "cell_type": "markdown",
   "id": "abd19ff9",
   "metadata": {
    "deletable": false,
    "editable": false,
    "nbgrader": {
     "cell_type": "markdown",
     "checksum": "022a4a13c19a524c918efe42f61a06da",
     "grade": false,
     "grade_id": "ex1",
     "locked": true,
     "schema_version": 3,
     "solution": false
    }
   },
   "source": [
    "## Assignment 1: Local PCA (7 points)"
   ]
  },
  {
   "cell_type": "markdown",
   "id": "7f293997",
   "metadata": {
    "deletable": false,
    "editable": false,
    "nbgrader": {
     "cell_type": "markdown",
     "checksum": "efd67d61a3cfec645e03371850c8fcbf",
     "grade": false,
     "grade_id": "ex_intro",
     "locked": true,
     "schema_version": 3,
     "solution": false
    }
   },
   "source": [
    "In the lecture we learned that regular PCA is ill suited for special cases of data. In this assignment we will take a look at local PCA which is used for clustered data (ML-06, Slide 25). This is mostly a repetition of algorithms we already used. Feel free to use the built-in functions for k-means clustering and PCA from the libraries (we already included the right imports to set you on track). See:\n",
    "* For K-Means\n",
    "    * [scipy.cluster.vq.vq](https://docs.scipy.org/doc/scipy/reference/generated/scipy.cluster.vq.vq.html)\n",
    "    * [scipy.cluster.vq.kmeans](https://docs.scipy.org/doc/scipy/reference/generated/scipy.cluster.vq.kmeans.html)\n",
    "* For PCA    \n",
    "    * [sklearn.decomposition.PCA](https://scikit-learn.org/stable/modules/generated/sklearn.decomposition.PCA.html)\n",
    "* To plot arrows\n",
    "    * [matplotlib.pyplot.quiver](https://matplotlib.org/stable/api/_as_gen/matplotlib.pyplot.quiver.html)\n",
    "* Numpy\n",
    "    * [@ / np.matmul](https://numpy.org/doc/stable/reference/generated/numpy.matmul.html#numpy.matmul)\n",
    "    * [.T / np.transpose](https://numpy.org/doc/stable/reference/generated/numpy.transpose.html#numpy.transpose)"
   ]
  },
  {
   "cell_type": "code",
   "execution_count": 43,
   "id": "65ae2c5c",
   "metadata": {
    "deletable": false,
    "nbgrader": {
     "cell_type": "code",
     "checksum": "0fbdfdf2d5590511defbd5a98f30fc2f",
     "grade": true,
     "grade_id": "ex_a_solution",
     "locked": false,
     "points": 5,
     "schema_version": 3,
     "solution": true
    }
   },
   "outputs": [
    {
     "data": {
      "image/png": "[encoded data removed]",
      "text/plain": [
       "<Figure size 640x1000 with 2 Axes>"
      ]
     },
     "metadata": {},
     "output_type": "display_data"
    }
   ],
   "source": [
    "%matplotlib notebook\n",
    "%matplotlib inline\n",
    "\n",
    "import numpy as np\n",
    "import numpy.random as rnd\n",
    "import matplotlib.pyplot as plt\n",
    "import matplotlib.patches as mpatches\n",
    "\n",
    "from numpy.random import multivariate_normal as multNorm\n",
    "\n",
    "from scipy.cluster.vq import kmeans, vq, whiten\n",
    "from sklearn.decomposition import PCA\n",
    "\n",
    "np.random.seed(42)\n",
    "\n",
    "# Generate clustered data - you may plot the data to take a look at it\n",
    "data = np.vstack((multNorm([2, 2], [[0.1, 0], [0, 1]], 100),\n",
    "                  multNorm([-2, -4], [[1, 0], [0, 0.3]], 100)))\n",
    "\n",
    "# create figure\n",
    "fig, axes = plt.subplots(2)\n",
    "fig.set_figheight(10)\n",
    "# plot normal data\n",
    "axes[0].scatter(data[:,0], data[:,1])\n",
    "axes[0].set_title(\"Raw data\")\n",
    "\n",
    "whitened_data = data # naming remainder from experiments...\n",
    "\n",
    "n_centroids = 2\n",
    "# Apply k-means to the data.\n",
    "codebook, _ = kmeans(whitened_data, n_centroids) # centroids, distortion\n",
    "\n",
    "# create array where for each data point a label for the cluster is denoted\n",
    "labels, _ = vq(whitened_data, codebook) \n",
    "\n",
    "\n",
    "data_1 = []\n",
    "data_0 = []\n",
    "\n",
    "# assign all datapoints to their clusters\n",
    "for i, elem in enumerate(labels):\n",
    "    if labels[i] == 0:\n",
    "        data_0.append(data[i])\n",
    "    elif labels[i] == 1:\n",
    "        data_1.append(data[i])\n",
    "\n",
    "data_0 = np.array(data_0)\n",
    "data_1 = np.array(data_1)\n",
    "\n",
    "# Apply PCA for each cluster and store each two largest components.\n",
    "pca = PCA(n_components=2) # keep 2 components\n",
    "\n",
    "#reduced_1 = pca.fit_transform(data_1)\n",
    "\n",
    "comp_1 = pca.fit(data_1).components_ # eigenvecs for cluster 1\n",
    "\n",
    "#c = pca.fit(data_1).explained_variance_ # eigevals\n",
    "\n",
    "comp_0 = pca.fit(data_0).components_ # eigenvecs for cluster 0\n",
    "\n",
    "#reduced_0 = pca.fit_transform(data_0)\n",
    "\n",
    "# Plot the results of k-means and local PCA\n",
    "\n",
    "# plot clustered data\n",
    "cluster_0 = axes[1].scatter(data_0[:,0], data_0[:,1], c = \"b\", alpha = 0.7)\n",
    "cluster_1 = axes[1].scatter(data_1[:,0], data_1[:,1], c = \"g\", alpha = 0.7)\n",
    "\n",
    "# plot centroids\n",
    "centroids = axes[1].scatter(codebook[:,0], codebook[:,1], c='r')\n",
    "\n",
    "# plot principal components (largest eigenvectors)\n",
    "axes[1].quiver(codebook[0][0], codebook[0][1], comp_0[0][0], comp_0[0][1], angles='xy', scale_units='xy')\n",
    "axes[1].quiver(codebook[0][0], codebook[0][1], comp_0[1][0], comp_0[1][1], angles='xy', scale_units='xy')\n",
    "axes[1].quiver(codebook[1][0], codebook[1][1], comp_1[0][0], comp_1[0][1], angles='xy', scale_units='xy')\n",
    "axes[1].quiver(codebook[1][0], codebook[1][1], comp_1[1][0], comp_1[1][1], angles='xy', scale_units='xy')\n",
    "\n",
    "# create object for legend\n",
    "arrow = mpatches.Patch(color = \"black\")\n",
    "\n",
    "# create title, legend\n",
    "axes[1].set_title(\"Results (clustered and PCA)\")\n",
    "axes[1].legend(handles=[cluster_0, cluster_1, centroids, arrow], labels=[\"Cluster 0\", \"Cluster 1\", \"Centroids\", \"Principal components\"])\n",
    "\n",
    "plt.show()"
   ]
  },
  {
   "cell_type": "markdown",
   "id": "ecc4ea29",
   "metadata": {
    "deletable": false,
    "editable": false,
    "nbgrader": {
     "cell_type": "markdown",
     "checksum": "1120b2464b1dea83f971e000bb9a1af5",
     "grade": false,
     "grade_id": "cell-a72f7bcab5038668",
     "locked": true,
     "schema_version": 3,
     "solution": false,
     "task": false
    }
   },
   "source": [
    "## Assignment 2: Projection Pursuit (3 points)"
   ]
  },
  {
   "cell_type": "markdown",
   "id": "91128104",
   "metadata": {
    "deletable": false,
    "editable": false,
    "nbgrader": {
     "cell_type": "markdown",
     "checksum": "2b66f6c9c1528e5eba6ed57172c1c139",
     "grade": false,
     "grade_id": "cell-0f4a68ed40351836",
     "locked": true,
     "schema_version": 3,
     "solution": false,
     "task": false
    }
   },
   "source": [
    "**a)** Explain in your own words the idea of projection pursuit. Is it a linear or non-linear method for dimension reduction? Discuss why high variance, non-Gaussianness and clusters indicate an interesting feature. What is the relation to PCA? "
   ]
  },
  {
   "cell_type": "markdown",
   "id": "1bcf560e",
   "metadata": {
    "deletable": false,
    "nbgrader": {
     "cell_type": "markdown",
     "checksum": "d3028ab0b371066fc80b8ef2f471bbcc",
     "grade": true,
     "grade_id": "cell-1470e1527ff53784",
     "locked": false,
     "points": 1,
     "schema_version": 3,
     "solution": true,
     "task": false
    }
   },
   "source": [
    "- idea: project the data on 2-3 dimensions (so one can simply use the eye), where data exhibit interesting structure => in a way where we can expect to find significant differences/ boundaries in the data\n",
    "\n",
    "- non-linear => tries to find non-linear patterns in the data and makes them visible (if it were linear data, PCA would suffice since it finds the dimension(s) with the highest variance)\n",
    "\n",
    "- high-variance => interesting because we want to be able to distinguish the datapoints, if the variance is low all datapoints are (in the worst case) on the same spot\n",
    "\n",
    "- non-Gaussianness => if we assume that the data was generated by multiple gaussian functions/ distributions (if we have a enough datapoints this is a valid assumption due to the law of large numbers) finding non-gaussianness can indicate a possibility to differentiate between groups of data\n",
    "\n",
    "- clusters => if there are already clusters within the data, this implies that datapoints share certain behaviours and can be grouped easily (e.g. for classification)"
   ]
  },
  {
   "cell_type": "markdown",
   "id": "68577d80",
   "metadata": {
    "deletable": false,
    "editable": false,
    "nbgrader": {
     "cell_type": "markdown",
     "checksum": "a6f281ffef5673295d1a364b5fca4d9c",
     "grade": false,
     "grade_id": "cell-689588368225bde9",
     "locked": true,
     "schema_version": 3,
     "solution": false,
     "task": false
    }
   },
   "source": [
    "**b)** Explain how the different indices (Friedman-Tukey, Hermite, Natural Hermite, and Entropy) detect interesting features and discuss advantages and disadvantages."
   ]
  },
  {
   "cell_type": "markdown",
   "id": "0f359c01",
   "metadata": {
    "deletable": false,
    "nbgrader": {
     "cell_type": "markdown",
     "checksum": "b88e7c703b4f7fd54a17b1a32493e9fb",
     "grade": true,
     "grade_id": "cell-6f4df9ba863794b0",
     "locked": false,
     "points": 1,
     "schema_version": 3,
     "solution": true,
     "task": false
    }
   },
   "source": [
    "Indices use the density distribution (P) of the projected data to find interesting features.\n",
    "- Friedman-Tukey: Index is minimized, when P is a parabolic function similar to the normal distribution. So when maximized, this indicates non-Gaussianness\n",
    "- Hermit/ Hall: Index is minimized if P is a standardized normal distribution. Again, if maximized it indicates non-Gaussianness\n",
    "- natural Hermit: like Hermit, but higher weighting on center -> outliers and noise would probably have less influence\n",
    "- entropy: minimized by standardized normal distribution as well. \n",
    "\n",
    "######## still need to discuss advantages/ disadvantages ##########"
   ]
  },
  {
   "cell_type": "markdown",
   "id": "a2577392",
   "metadata": {
    "deletable": false,
    "editable": false,
    "nbgrader": {
     "cell_type": "markdown",
     "checksum": "15718e000b94e272c4222d2db4e06663",
     "grade": false,
     "grade_id": "cell-e42e41c4def87006",
     "locked": true,
     "schema_version": 3,
     "solution": false,
     "task": false
    }
   },
   "source": [
    "**c)** Explain the idea of projection pursuit for clustering (ML-06, slides 56-58). How is the index computed and why does maximizing that index yield good clusters?"
   ]
  },
  {
   "cell_type": "markdown",
   "id": "9ef2beb9",
   "metadata": {
    "deletable": false,
    "nbgrader": {
     "cell_type": "markdown",
     "checksum": "a84041c99d906a4c3fdbf56cb597a8ff",
     "grade": true,
     "grade_id": "cell-6bedc67991563e27",
     "locked": false,
     "points": 0,
     "schema_version": 3,
     "solution": true,
     "task": false
    }
   },
   "source": [
    "YOUR ANSWER HERE"
   ]
  },
  {
   "cell_type": "markdown",
   "id": "e71d03b8",
   "metadata": {
    "deletable": false,
    "editable": false,
    "nbgrader": {
     "cell_type": "markdown",
     "checksum": "25ac178c83055800dc5a5a84e29c123b",
     "grade": false,
     "grade_id": "ex_hebb",
     "locked": true,
     "schema_version": 3,
     "solution": false
    }
   },
   "source": [
    "## Assignment 3: Hebbian Learning (6 points)"
   ]
  },
  {
   "cell_type": "markdown",
   "id": "6c7905fa",
   "metadata": {
    "deletable": false,
    "editable": false,
    "nbgrader": {
     "cell_type": "markdown",
     "checksum": "721c23b72b7577a4b0a634d4a478f4b4",
     "grade": false,
     "grade_id": "ex_hebb_info",
     "locked": true,
     "schema_version": 3,
     "solution": false
    }
   },
   "source": [
    "In the lecture (ML-07, Slides 10ff.) there is a simplified version of Ivan Pavlov's famous experiment on classical conditioning. In this exercise you will take a look into this simplified model and create your own conditionable dog with a simple Hebbian learning rule."
   ]
  },
  {
   "cell_type": "markdown",
   "id": "9cfebd38",
   "metadata": {
    "deletable": false,
    "editable": false,
    "nbgrader": {
     "cell_type": "markdown",
     "checksum": "0c2ccf3a9be669d0016371a4c1729828",
     "grade": false,
     "grade_id": "ex_hebb_a",
     "locked": true,
     "schema_version": 3,
     "solution": false
    }
   },
   "source": [
    "### a) Programming a Dog\n",
    "To model the dog salivation behavior we will need to model an unconditioned and a conditioned stimulus: food and bell. They are represented as lists: `weight_food` and `weight_bell`. Note that one could just use a single number, the lists are only here to keep track of the history for a nice output. It is possible to access the current weight by selecting the last item of each list, respectively: `weight_food[-1]`.\n",
    "\n",
    "A list of trials is already given as well as a condition database. Each entry represents an index to select from the `condition_db`. To figure out the value of the stimulus `food` in the second trial (which maps to condition `1`) one could do: `condition_db[1][\"food\"]`.\n",
    "\n",
    "Your task is to implement a `for` loop over all trials. In each iteration select the correct values for $x_1$ and $x_2$ from the condition database and retrieve the current weights $w_1$ and $w_2$. Then calculate the response of the dog with the threshold $\\theta$:\n",
    "\n",
    "$$\n",
    "r_t = \\Theta(x_{1,t} w_{1,t-1} + x_{2,t} w_{2,t-1})\\\\\n",
    "\\Theta(x)= \\begin{cases}1 \\text{ if } x >= \\theta\\\\0 \\text{ else }\\end{cases}\n",
    "$$\n",
    "\n",
    "With this response calculate both $w_{n,t}$ according to the Hebbian rule:\n",
    "\n",
    "$$w_{n,t} = w_{n, t-1} + \\epsilon \\cdot r_t \\cdot x_{n,t}$$\n",
    "\n",
    "*Note: While you program the output might look a little messy, don't worry about it. Once you fill up all three lists properly, it will look much like on ML-07, Slide 14.*\n",
    "\n",
    "*Hint: The [list.append()](https://docs.python.org/3/tutorial/datastructures.html) function is probably rather useful.*"
   ]
  },
  {
   "cell_type": "code",
   "execution_count": 24,
   "id": "151cb6fc",
   "metadata": {
    "deletable": false,
    "nbgrader": {
     "cell_type": "code",
     "checksum": "0f591e4583e457d590a714d24fdac0ef",
     "grade": true,
     "grade_id": "ex_hebb_a_solution",
     "locked": false,
     "points": 3,
     "schema_version": 3,
     "solution": true
    }
   },
   "outputs": [
    {
     "name": "stdout",
     "output_type": "stream",
     "text": [
      "| Food   |   |  1|   |  0|   |  1|   |  0|   |  1|   |  0|   |  1|   |  0|   |\n",
      "| Bell   |   |  0|   |  1|   |  1|   |  1|   |  1|   |  1|   |  1|   |  1|   |\n",
      "| Saliva |   |  1|   |  0|   |  1|   |  0|   |  1|   |  0|   |  1|   |  1|   |\n",
      "| w_Food |1.0|   |1.2|   |1.2|   |1.4|   |1.4|   |1.6|   |1.6|   |1.8|   |1.8|\n",
      "| w_Bell |0.0|   |0.0|   |0.0|   |0.2|   |0.2|   |0.4|   |0.4|   |0.6|   |0.8|\n"
     ]
    }
   ],
   "source": [
    "# Initialization\n",
    "condition_db = [{\"food\": 1, \"bell\": 0}, \n",
    "                {\"food\": 0, \"bell\": 1},\n",
    "                {\"food\": 1, \"bell\": 1}]\n",
    "\n",
    "trials = [0, 1, 2, 1, 2, 1, 2, 1]\n",
    "\n",
    "epsilon = 0.2\n",
    "theta = 1/2\n",
    "\n",
    "responses = []\n",
    "weight_food = [1]\n",
    "weight_bell = [0]\n",
    "\n",
    "for tri in range(len(trials)):\n",
    "\n",
    "    # compute how much the stimuli activate the response\n",
    "    rt = condition_db[trials[tri]][\"food\"]*weight_food[-1] + condition_db[trials[tri]][\"bell\"]*weight_bell[-1]\n",
    "\n",
    "    # determine wether activation of stimuli is enough to produce a response (i.e. activation is greater than threshold theta)\n",
    "    if rt > theta:\n",
    "        salivation = 1\n",
    "    else:\n",
    "        salivation = 0\n",
    "\n",
    "    # keep track of salivation response\n",
    "    responses.append(salivation)\n",
    "\n",
    "    # update weights of US & CS stimulus, store new weight in respective list\n",
    "    weight_food.append((weight_food[-1] + epsilon * salivation * condition_db[trials[tri]][\"food\"]))\n",
    "    weight_bell.append((weight_bell[-1] + epsilon * salivation * condition_db[trials[tri]][\"bell\"]))\n",
    "    \n",
    "\n",
    "# Output\n",
    "print(\"| Food   |   |\" + \"|   |\".join([\"{:3d}\".format(condition_db[trial][\"food\"]) for trial in trials]) + \"|   |\")\n",
    "print(\"| Bell   |   |\" + \"|   |\".join([\"{:3d}\".format(condition_db[trial][\"bell\"]) for trial in trials]) + \"|   |\")\n",
    "print(\"| Saliva |   |\" + \"|   |\".join([\"{:3d}\".format(response) for response in responses]) + \"|   |\")\n",
    "print(\"| w_Food |\" + \"|   |\".join([\"{:3.1f}\".format(w) for w in weight_food]) + \"|\")\n",
    "print(\"| w_Bell |\" + \"|   |\".join([\"{:3.1f}\".format(w) for w in weight_bell]) + \"|\")"
   ]
  },
  {
   "cell_type": "markdown",
   "id": "62e7c012",
   "metadata": {
    "deletable": false,
    "editable": false,
    "nbgrader": {
     "cell_type": "markdown",
     "checksum": "86698007669118d93997add7ae7276ff",
     "grade": false,
     "grade_id": "ex_hebb_b",
     "locked": true,
     "schema_version": 3,
     "solution": false
    }
   },
   "source": [
    "### b) Parameter adjustment\n",
    "\n",
    "In the above default setting of trials (`[0, 1, 2, 1, 2, 1, 2, 1]`, in case you changed it), how many learning steps, i.e. simultaneous presentation of unconditioned and conditioned stimulus, did you need until the dog started to produce saliva on the conditioned stimulus? What happens if you change the parameters $\\epsilon$ and $\\theta$? Try smaller and bigger values for each or present different conditions to the dog."
   ]
  },
  {
   "cell_type": "markdown",
   "id": "7c9d6a7e",
   "metadata": {
    "deletable": false,
    "nbgrader": {
     "cell_type": "markdown",
     "checksum": "e3ad750be3516565704a30157191e919",
     "grade": true,
     "grade_id": "ex_hebb_b_solution",
     "locked": false,
     "points": 3,
     "schema_version": 3,
     "solution": true
    }
   },
   "source": [
    "With epsilon = 0.2 and theta = 0.5 it takes 3 learning steps for the dog to start producing saliva on the conditioned stimulus alone.\n",
    "\n",
    "Adjusting epsilon and theta leads to a difference in necessary training steps. A higher epsilon speeds up learning by enabling the weight to adapt quicker. So in each step the dog learns \"more\" at once. A smaller epsilon on the other hand slows learning down, since the dog learns less in each step and in turn needs more learning steps to get to a response on just the conditioned stimuli.\n",
    "\n",
    "In contrast theta doesn't impact how quickly the dog learns, but how much it has to have learned before reacting to the stimulus. A higher theta therefore leads to more learning steps before a response to the CS as well. In the worst case, if theta is too high (i.e. theta > 1 in our case) the response isn't activated even when it should be (the very first trial, to test wether our dog reacts to food with salivation) and learning is altogether impossible. At the same time, a lower theta makes less training necessary and the dog reacts after less learning steps to the CS. If theta is too small (e.g. theta < 0) the dog would simply always salivate (which dogs, not unlike babies, maybe do but thats besides the point) without actually having learned to associate the bell with food."
   ]
  },
  {
   "cell_type": "markdown",
   "id": "52c45077",
   "metadata": {
    "deletable": false,
    "editable": false,
    "nbgrader": {
     "cell_type": "markdown",
     "checksum": "10b62d7bc16d1d0518a4a40be9eb98e8",
     "grade": false,
     "grade_id": "ex_logic_perceptron",
     "locked": true,
     "schema_version": 3,
     "solution": false
    }
   },
   "source": [
    "## Assignment 4: The Logic Perceptron (4 points)"
   ]
  },
  {
   "cell_type": "markdown",
   "id": "fa0062a1",
   "metadata": {
    "deletable": false,
    "editable": false,
    "nbgrader": {
     "cell_type": "markdown",
     "checksum": "3c61ad8c15706e9da888dd11a5829bda",
     "grade": false,
     "grade_id": "ex_logic_perceptron_a",
     "locked": true,
     "schema_version": 3,
     "solution": false
    }
   },
   "source": [
    "### a) The Logic Perceptron\n",
    "\n",
    "For the following two logical functions sketch the weights of a perceptron after it was trained. To do so, figure out when the perceptron should fire. Then come up with ideas of how you can achieve this. Remember that $w_0$, the bias, is used as a threshold and that there is a constant $x_0 = 1$. Provide the values for $w_0,w_1,w_2$ as well as some explanation."
   ]
  },
  {
   "cell_type": "markdown",
   "id": "65c6db5f",
   "metadata": {
    "deletable": false,
    "editable": false,
    "nbgrader": {
     "cell_type": "markdown",
     "checksum": "4f48beaf7b1ebc2cb3f49f71fbaec8bb",
     "grade": false,
     "grade_id": "ex_logic_perceptron_a1",
     "locked": true,
     "schema_version": 3,
     "solution": false
    }
   },
   "source": [
    "#### 1) $(A \\wedge B) \\vee (\\neg A \\wedge B)$"
   ]
  },
  {
   "cell_type": "markdown",
   "id": "3b211c3f",
   "metadata": {
    "deletable": false,
    "nbgrader": {
     "cell_type": "markdown",
     "checksum": "857f16cab97fa5bc6675f677d6684628",
     "grade": true,
     "grade_id": "ex_logic_perceptron_a1_solution",
     "locked": false,
     "points": 1.5,
     "schema_version": 3,
     "solution": true
    }
   },
   "source": [
    "YOUR ANSWER HERE"
   ]
  },
  {
   "cell_type": "markdown",
   "id": "7804a8ff",
   "metadata": {
    "deletable": false,
    "editable": false,
    "nbgrader": {
     "cell_type": "markdown",
     "checksum": "80657938a3785aae4b00c14382108840",
     "grade": false,
     "grade_id": "ex_logic_perceptron_a2",
     "locked": true,
     "schema_version": 3,
     "solution": false
    }
   },
   "source": [
    "#### 2) $(A \\wedge B) \\vee (\\neg A \\wedge B) \\vee (A \\wedge \\neg B)$"
   ]
  },
  {
   "cell_type": "markdown",
   "id": "a6c8d08d",
   "metadata": {
    "deletable": false,
    "nbgrader": {
     "cell_type": "markdown",
     "checksum": "e3dd484ee01532307942f2b0a10c1d41",
     "grade": true,
     "grade_id": "ex_logic_perceptron_a2_solution",
     "locked": false,
     "points": 1.5,
     "schema_version": 3,
     "solution": true
    }
   },
   "source": [
    "YOUR ANSWER HERE"
   ]
  }
 ],
 "metadata": {
  "kernelspec": {
   "display_name": "Python 3 (ipykernel)",
   "language": "python",
   "name": "python3"
  },
  "language_info": {
   "codemirror_mode": {
    "name": "ipython",
    "version": 3
   },
   "file_extension": ".py",
   "mimetype": "text/x-python",
   "name": "python",
   "nbconvert_exporter": "python",
   "pygments_lexer": "ipython3",
   "version": "3.12.2"
  }
 },
 "nbformat": 4,
 "nbformat_minor": 5
}
