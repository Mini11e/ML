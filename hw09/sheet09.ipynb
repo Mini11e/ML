{
 "cells": [
  {
   "cell_type": "markdown",
   "id": "b8e28dcf",
   "metadata": {
    "deletable": false,
    "editable": false,
    "nbgrader": {
     "cell_type": "markdown",
     "checksum": "44fca659c1e85aa18c1a44bcb17af98a",
     "grade": false,
     "grade_id": "h00",
     "locked": true,
     "schema_version": 3,
     "solution": false
    }
   },
   "source": [
    "Osnabrück University - Machine Learning (Summer Term 2024) - Prof. Dr.-Ing. G. Heidemann, Ulf Krumnack, Lukas Niehaus"
   ]
  },
  {
   "cell_type": "markdown",
   "id": "c74be5fa",
   "metadata": {
    "deletable": false,
    "editable": false,
    "nbgrader": {
     "cell_type": "markdown",
     "checksum": "0524f468c9382b8f98fc2b672ff4d290",
     "grade": false,
     "grade_id": "h01",
     "locked": true,
     "schema_version": 3,
     "solution": false
    }
   },
   "source": [
    "# Exercise Sheet 09"
   ]
  },
  {
   "cell_type": "markdown",
   "id": "99a0ccce",
   "metadata": {
    "deletable": false,
    "editable": false,
    "nbgrader": {
     "cell_type": "markdown",
     "checksum": "c95820f5adc489d518e84ac6340a77a7",
     "grade": false,
     "grade_id": "h02",
     "locked": true,
     "schema_version": 3,
     "solution": false
    }
   },
   "source": [
    "## Introduction\n",
    "\n",
    "This week's sheet should be solved and handed in before end of **Sunday, June 16, 2024**. If you need help (and Google and other resources were not enough), feel free to ask in the StudIP forum, contact your groups' designated tutor or whomever of us you run into first. Please upload your results to your group's Stud.IP folder."
   ]
  },
  {
   "cell_type": "markdown",
   "id": "32e77271",
   "metadata": {
    "deletable": false,
    "editable": false,
    "nbgrader": {
     "cell_type": "markdown",
     "checksum": "55540671721ea3c45530414195c5da51",
     "grade": false,
     "grade_id": "math-recap-intro",
     "locked": true,
     "schema_version": 3,
     "solution": false
    }
   },
   "source": [
    "## Assignment 0: Math recap (Independence) [0 Points]\n",
    "\n",
    "This exercise is intended to revise some basic mathematical notions that are assumed throughout this class and to allow you to check if you are comfortable with them. Usually you should have no problem to answer these questions offhand, but if you feel unsure, this is a good time to look them up again. You are always welcome to discuss questions with the tutors or in the practice session. Also, if you have a (math) topic you would like to recap, please let us know."
   ]
  },
  {
   "cell_type": "markdown",
   "id": "1b527b32",
   "metadata": {
    "deletable": false,
    "editable": false,
    "nbgrader": {
     "cell_type": "markdown",
     "checksum": "af1a79d363354f73306b0e3246aa58fd",
     "grade": false,
     "grade_id": "math-independence-q1",
     "locked": true,
     "schema_version": 3,
     "solution": false
    }
   },
   "source": [
    "**a)** Explain the idea of stochastical independence. What is the intuition and how is it defined?"
   ]
  },
  {
   "cell_type": "markdown",
   "id": "1c26188c",
   "metadata": {
    "deletable": false,
    "nbgrader": {
     "cell_type": "markdown",
     "checksum": "c88770a324ab0f9782e3bd878740c624",
     "grade": true,
     "grade_id": "math-independence-a1",
     "locked": false,
     "points": 0,
     "schema_version": 3,
     "solution": true
    },
    "solution": true
   },
   "source": [
    "YOUR ANSWER HERE"
   ]
  },
  {
   "cell_type": "markdown",
   "id": "c33a5644",
   "metadata": {
    "deletable": false,
    "editable": false,
    "nbgrader": {
     "cell_type": "markdown",
     "checksum": "7de7ab72c85141114756c73fd644b7b5",
     "grade": false,
     "grade_id": "math-independence-q2",
     "locked": true,
     "schema_version": 3,
     "solution": false
    }
   },
   "source": [
    "**b)** What is pairwaise independence and what is mutual independence? Can you provide an example of variables that are pairwise independent but not mutual independent?"
   ]
  },
  {
   "cell_type": "markdown",
   "id": "ee874e6a",
   "metadata": {
    "deletable": false,
    "nbgrader": {
     "cell_type": "markdown",
     "checksum": "9a236f68ab130179524f7cc7e3e0a0ee",
     "grade": true,
     "grade_id": "math-independence-a2",
     "locked": false,
     "points": 0,
     "schema_version": 3,
     "solution": true
    },
    "solution": true
   },
   "source": [
    "YOUR ANSWER HERE"
   ]
  },
  {
   "cell_type": "markdown",
   "id": "3601daea",
   "metadata": {
    "deletable": false,
    "editable": false,
    "nbgrader": {
     "cell_type": "markdown",
     "checksum": "774897c2feaf6307b89efa1f041c6214",
     "grade": false,
     "grade_id": "math-independence-q3",
     "locked": true,
     "schema_version": 3,
     "solution": false
    }
   },
   "source": [
    "**c)** What does it mean that variables are i.i.d.? When do we assume i.i.d. variables in machine learning and what are the consequences?"
   ]
  },
  {
   "cell_type": "markdown",
   "id": "2cdc1c1a",
   "metadata": {
    "deletable": false,
    "nbgrader": {
     "cell_type": "markdown",
     "checksum": "7afb83c1468d66b87f1312730bad08e6",
     "grade": true,
     "grade_id": "math-independence-a3",
     "locked": false,
     "points": 0,
     "schema_version": 3,
     "solution": true
    }
   },
   "source": [
    "YOUR ANSWER HERE"
   ]
  },
  {
   "cell_type": "markdown",
   "id": "4b1e88db",
   "metadata": {
    "deletable": false,
    "editable": false,
    "nbgrader": {
     "cell_type": "markdown",
     "checksum": "ee099fd9aa2cfd53d142510f5e050aa9",
     "grade": false,
     "grade_id": "ex4ab",
     "locked": true,
     "schema_version": 3,
     "solution": false
    }
   },
   "source": [
    "## Assignment 1: Network Architecture and Decision Boundaries (5 points)"
   ]
  },
  {
   "cell_type": "markdown",
   "id": "f4e6bb0e",
   "metadata": {
    "deletable": false,
    "editable": false,
    "lines_to_next_cell": 0,
    "nbgrader": {
     "cell_type": "markdown",
     "checksum": "f4e62b95d2ed3935dc06eddfc5947df7",
     "grade": false,
     "grade_id": "ex4abc",
     "locked": true,
     "schema_version": 3,
     "solution": false
    }
   },
   "source": [
    "**a)** (ML-07 slide 58) visualizes the claim, that all (binary) classifiers can be realized by a network with at most two hidden layers. Explain the underlying idea by sketching for each of the three figures a network that would be able do represent the indicated decision boundaries. Each sketch should clarify:\n",
    "* how many layers are required\n",
    "* how many neurons to use in each layer\n",
    "* what bias term should be put into the neuron.\n",
    "\n",
    "Either use pen and paper and scan/photograph the result or employ your ASCII artist within the cell below."
   ]
  },
  {
   "cell_type": "markdown",
   "id": "8b064608",
   "metadata": {
    "deletable": false,
    "nbgrader": {
     "cell_type": "markdown",
     "checksum": "1db7b1f28a6d84f954e4712565ef9ded",
     "grade": true,
     "grade_id": "ex4abc_solution",
     "locked": false,
     "points": 2,
     "schema_version": 3,
     "solution": true
    }
   },
   "source": [
    "YOUR ANSWER HERE"
   ]
  },
  {
   "cell_type": "markdown",
   "id": "4928f3be",
   "metadata": {
    "deletable": false,
    "editable": false,
    "nbgrader": {
     "cell_type": "markdown",
     "checksum": "eccdaf2ac1aeb8a9ffb9e3169c5a52f4",
     "grade": false,
     "grade_id": "ex4",
     "locked": true,
     "schema_version": 3,
     "solution": false
    }
   },
   "source": [
    "**(b)** With the online tool [TensorFlow playground](http://playground.tensorflow.org/) it is possible to interactively play with feed forward neural networks, compellingly visualize their behavior and share specific configurations. \n",
    "\n",
    "Follow [this link](http://playground.tensorflow.org/#activation=sigmoid&batchSize=1&dataset=gauss&regDataset=reg-plane&learningRate=0.1&regularizationRate=0&noise=0&networkShape=1&seed=0.56339&showTestData=true&discretize=false&percTrainData=50&x=true&y=true&xTimesY=false&xSquared=false&ySquared=false&cosX=false&sinX=false&cosY=false&sinY=false&collectStats=false&problem=classification&initZero=false&learningRate_hide=false&regularizationRate_hide=true&percTrainData_hide=true&batchSize_hide=true&dataset_hide=false&regularization_hide=true&discretize_hide=true&stepButton_hide=false&showTestData_hide=false&problem_hide=true&noise_hide=true&activation_hide=true) to the TensorFlow playground. If you click it, many features are disabled and set to useful defaults, since they were either not discussed yet in the lecture or are not important for this exercise.\n",
    "\n",
    "You will see a simple configuration: Two activated inputs ($x_1$ and $x_2$), one hidden layer with one neuron (which can be understood as a simple perceptron) and the output shown as a nice picture. It initially shows a training loss of 0.527. Try and run it to see how the perceptron can learn to separate the two clusters. Note that for the rest of the exercise we assume at most about 1000 learning steps (usually many fewer will do it), so don't wait too long in front of your browser.\n",
    "\n",
    "The dataset gets fully classified after very few iterations. Next try the XOR dataset, either by clicking on it on the left (the top right data pattern) or by following [this link](http://playground.tensorflow.org/#activation=sigmoid&batchSize=1&dataset=xor&regDataset=reg-plane&learningRate=0.1&regularizationRate=0&noise=0&networkShape=1&seed=0.56339&showTestData=true&discretize=false&percTrainData=50&x=true&y=true&xTimesY=false&xSquared=false&ySquared=false&cosX=false&sinX=false&cosY=false&sinY=false&collectStats=false&problem=classification&initZero=false&learningRate_hide=false&regularizationRate_hide=true&percTrainData_hide=true&batchSize_hide=true&dataset_hide=false&regularization_hide=true&discretize_hide=true&stepButton_hide=false&showTestData_hide=false&problem_hide=true&noise_hide=true&activation_hide=true). You will notice that you won't achieve much better results than a loss of 0.4, which is just above chance. Try to improve the result by adding neurons and or layers (but don't change the inputs!) until you get a classification with a loss smaller than 0.01. You may also change the learning rate. Then copy the link from your browser address bar and paste it below:"
   ]
  },
  {
   "cell_type": "markdown",
   "id": "3244f870",
   "metadata": {
    "deletable": false,
    "nbgrader": {
     "cell_type": "markdown",
     "checksum": "6650b5e876cd05f2c6caa2554ba6051d",
     "grade": true,
     "grade_id": "ex4a_solution",
     "locked": false,
     "points": 1,
     "schema_version": 3,
     "solution": true
    }
   },
   "source": [
    "YOUR ANSWER HERE"
   ]
  },
  {
   "cell_type": "markdown",
   "id": "3693ae90",
   "metadata": {
    "deletable": false,
    "editable": false,
    "nbgrader": {
     "cell_type": "markdown",
     "checksum": "25ed18066ba4fd1c502a2225fbfd0b48",
     "grade": false,
     "grade_id": "ex4b",
     "locked": true,
     "schema_version": 3,
     "solution": false
    }
   },
   "source": [
    "How many neurons in hidden layers are already sufficient to get at least 99% classification (i.e. loss < 0.01) if they are a) in one hidden layer or b) in two hidden layers? You may consider configurations which just need above 1000 iterations to get there as well, but we don't expect you to run any configuration longer than 1000 iterations."
   ]
  },
  {
   "cell_type": "markdown",
   "id": "f27ae970",
   "metadata": {
    "deletable": false,
    "nbgrader": {
     "cell_type": "markdown",
     "checksum": "e956d88bb9fa064ebdadbd48bc1b45c8",
     "grade": true,
     "grade_id": "ex4b_solution",
     "locked": false,
     "points": 1,
     "schema_version": 3,
     "solution": true
    }
   },
   "source": [
    "YOUR ANSWER HERE"
   ]
  },
  {
   "cell_type": "markdown",
   "id": "2d23344c",
   "metadata": {
    "deletable": false,
    "editable": false,
    "nbgrader": {
     "cell_type": "markdown",
     "checksum": "74ddf8f093e9d712ca2b8e3b5aefb2e5",
     "grade": false,
     "grade_id": "ex1",
     "locked": true,
     "schema_version": 3,
     "solution": false
    }
   },
   "source": [
    "## Assignment 2: MLP - Multilayer Perceptron (10 points)\n",
    "\n",
    "Last week you implemented a simple perceptron. We discussed that one can use multiple perceptrons to build a network. This week you will build your own MLP. Again the following code cells are just a guideline. If you feel like it, just follow the algorithm steps and implement the MLP yourself.\n",
    "\n",
    "\n",
    "**Useful python methods:**\n",
    "* [classes again](https://docs.python.org/3/tutorial/classes.html)\n",
    "* [@property of classes](https://docs.python.org/3/library/functions.html?highlight=property#property)\n",
    "* [*: An asterisk in front of an iterable denotes iterable unpacking. Its operand must be an iterable. The iterable is expanded into a sequence of items, which are included in the new tuple, list, or set, at the site of the unpacking.](https://docs.python.org/3/tutorial/controlflow.html#tut-unpacking-arguments)\n",
    "* [np.append()](https://numpy.org/doc/stable/reference/generated/numpy.append.html)\n",
    "* [reversed()](https://docs.python.org/3/library/functions.html#reversed)\n",
    "    "
   ]
  },
  {
   "cell_type": "markdown",
   "id": "8d00953f",
   "metadata": {
    "deletable": false,
    "editable": false,
    "nbgrader": {
     "cell_type": "markdown",
     "checksum": "81445768bdda4103df08f51dd23b7f37",
     "grade": false,
     "grade_id": "ex1a_intro",
     "locked": true,
     "schema_version": 3,
     "solution": false
    }
   },
   "source": [
    "### Implementation\n",
    "\n",
    "In the following you will be guided through implementing an MLP step by step. Instead of sticking to this guide, you are free to take a complete custom approach instead if you wish.\n",
    "\n",
    "We will take a bottom-up approach: Starting from an individual **perceptron** (aka neuron), we will derive a **layer of perceptrons** and end up with a **multilayer perceptron** (aka neural network). Each step will be implemented as its own python *class*. Such a class defines a type of element which can be instantiated multiple times. You can think of the relation between such instances and their designated classes as individuals of a specific population (e.g. Bernard and Bianca are both individuals of the population mice). Class definitions contain methods, which can be used to manipulate instance of that class or to make it perform specific actions.\n",
    "\n",
    "To guide you along, all required classes and functions are outlined in valid python code with extensive comments. You just need to fill in the gaps. For each method the [docstring](https://www.python.org/dev/peps/pep-0257/#what-is-a-docstring) (the big comment contained by triple quotes at the beginning of the method) describes the arguments that each specific method accepts (`Args`) and the values it is expected to return (`Returns`)."
   ]
  },
  {
   "cell_type": "markdown",
   "id": "d3e2021c",
   "metadata": {
    "deletable": false,
    "editable": false,
    "nbgrader": {
     "cell_type": "markdown",
     "checksum": "e76fef5be13db582fe1dbbe08b17d52e",
     "grade": false,
     "grade_id": "ex1a_intro2",
     "locked": true,
     "schema_version": 3,
     "solution": false
    }
   },
   "source": [
    "### Perceptron\n",
    "Similar to last week you here need to implement a perceptron. But instead of directly applying it, we will define a class which is reusable to instantiate a theoretically infinite amount of individual perceptrons. We will need the following three functionalities:\n",
    "\n",
    "#### Weight initialization\n",
    "\n",
    "The weights are initialized by sampling values from a standard normal distribution. There are as many weights as there are values in the input vector and an additional one for the perceptron's bias.\n",
    "\n",
    "#### Forward-Propagation / Activation\n",
    "\n",
    "Calculate the weighted sums of a neuron's inputs and apply it's activation function $\\sigma$. The output vector $o$ of perceptron $j$ of layer $k$ given an input $x$ (the output of the previous layer) in a neural network is given by the following formula. Note: $N$ gives the number of values of a given vector, $w_{j,0}(k)$ specifies the bias of perceptron $j$ in layer $k$ and $w_{j,1...N(x)}(k)$ the other weights of perceptron $j$ in layer $k$.\n",
    "\n",
    "$$o_{k,j}(x) = \\sigma\\left(w_{j,0}(k)+\\sum\\limits_{i=1}^{N(x)} x_i w_{j,i}(k)\\right)$$\n",
    "\n",
    "Think of the weights $w(k)$ as a matrix being located in-between layer $k$ and the layer located *to its left* in the network. So values flowing from layer $k-1$ to layer $k$ are weighted by the values of $w(k)$. As activation function we will use the sigmoid function because of its nice derivative (needed later):\n",
    "\n",
    "$$\\begin{align*}\n",
    "\\sigma(x) &= \\frac{1}{1 + \\exp{(-x)}}\\\\\n",
    "\\frac{d\\sigma}{dx}(x) &= \\sigma(x) \\cdot (1 - \\sigma(x))\n",
    "\\end{align*}$$\n",
    "\n",
    "#### Back-Propagation / Adaptation\n",
    "In order to learn something the perceptron needs to slowly adjust its weights. Each weight $w_{j,i}$ in layer $k$ is adjusted by a value $\\Delta w_{j,i}$ given a learning rate $\\epsilon$, the previous layer's output (or, for the first hidden layer, the network's input) $o_{k-1,i}(x)$ and the layer's error signals $\\delta(k)$ (which will be calculated by the MultilayerPerceptron):\n",
    "\n",
    "$$\\Delta w_{j,i}(k) = \\epsilon\\, \\delta_j(k) o_{k-1,i}(x)$$"
   ]
  },
  {
   "cell_type": "code",
   "execution_count": null,
   "id": "6898db27",
   "metadata": {
    "deletable": false,
    "nbgrader": {
     "cell_type": "code",
     "checksum": "17d09587b962633cf979b89712bf6147",
     "grade": true,
     "grade_id": "ex1a_solution",
     "locked": false,
     "points": 2,
     "schema_version": 3,
     "solution": true
    }
   },
   "outputs": [],
   "source": [
    "import numpy as np\n",
    "\n",
    "# Activation function σ.\n",
    "# We use scipy's builtin because it fixes some NaN problems for us.\n",
    "# sigmoid = lambda x: 1 / (1 + np.exp(-x))\n",
    "from scipy.special import expit as sigmoid\n",
    "\n",
    "\n",
    "class Perceptron:\n",
    "    \"\"\"Single neuron handling its own weights and bias.\"\"\"\n",
    "\n",
    "    def __init__(self, dim_in, act_func=sigmoid):\n",
    "        \"\"\"Initialize a new neuron with its weights and bias.\n",
    "\n",
    "        Args:\n",
    "            dim_in (int): Dimensionality of the data coming into this perceptron. \n",
    "                In a network of perceptrons this basically represents the \n",
    "                number of neurons in the layer before this neuron's layer. \n",
    "                Used for generating the perceptron's weights vector, which \n",
    "                not only includes one weight per input but also an additional \n",
    "                bias weight.\n",
    "            act_fun (function): Function to apply on activation.\n",
    "        \"\"\"\n",
    "        self.act_func = act_func\n",
    "        # Set self.weights\n",
    "        # YOUR CODE HERE\n",
    "\n",
    "    def activate(self, x):\n",
    "        \"\"\"Activate this neuron with a specific input.\n",
    "\n",
    "        Calculate the weighted sum of inputs and apply the activation function.\n",
    "\n",
    "        Args:\n",
    "            x (ndarray): Vector of input values.\n",
    "\n",
    "        Returns:\n",
    "            float: A real number representing the perceptron's activation after \n",
    "            calculating the weighted sum of inputs and applying the \n",
    "            perceptron's activation function.\n",
    "        \"\"\"\n",
    "        # Return the activation value\n",
    "        # YOUR CODE HERE\n",
    "\n",
    "    def adapt(self, x, delta, rate=0.03):\n",
    "        \"\"\"Adapt this neuron's weights by a specific delta.\n",
    "\n",
    "        Args:\n",
    "            x (ndarray): Vector of input values.\n",
    "            delta (float): Weight adaptation delta value.\n",
    "            rate (float): Learning rate.\n",
    "        \"\"\"\n",
    "        # Adapt self.weights according to the update rule\n",
    "        # YOUR CODE HERE\n",
    "\n",
    "\n",
    "p = Perceptron(2)\n",
    "assert p.weights.size == 3, \"Should have a weight per input and a bias.\"\n",
    "assert isinstance(p.activate([2, 1]), float), \"Should activate as scalar.\"\n",
    "assert -1 <= p.activate([100, 100]) <= 1, \"Should activate using sigmoid.\"\n",
    "p.weights = np.array([.5, .5, .5])\n",
    "p.adapt(np.array([2, 3]), np.array(.5))\n",
    "assert np.allclose(p.weights, [0.515, 0.53, 0.545]), \\\n",
    "        \"Should update weights correctly.\""
   ]
  },
  {
   "cell_type": "markdown",
   "id": "414127e2",
   "metadata": {
    "deletable": false,
    "editable": false,
    "nbgrader": {
     "cell_type": "markdown",
     "checksum": "e92e6a95a27e6702da7e4eeeff1ea574",
     "grade": false,
     "grade_id": "ex1b_intro",
     "locked": true,
     "schema_version": 3,
     "solution": false
    }
   },
   "source": [
    "### PerceptronLayer\n",
    "A `PerceptronLayer` is a combination of multiple `Perceptron` instances. It mainly is concerened with passing input and delta values to its individual neurons. There is no math to be done here!\n",
    "\n",
    "#### Initialization\n",
    "\n",
    "When initializing a `PerceptronLayer` (like this: `layer = PerceptronLayer(5, 3)`), the `__init__` function is called. It creates a list of `Perceptron`s: For each output value there must be one perceptron. Each of those perceptrons receives the same inputs and the same activation function as the perceptron layer.\n",
    "\n",
    "#### Activation\n",
    "\n",
    "During the activation step, the perceptron layer activates each of its perceptrons. These values will not only be needed for forward propagation but will also be needed for implementing backpropagation in the `MultilayerPerceptron` (coming up next).\n",
    "\n",
    "#### Adaptation\n",
    "\n",
    "To update its perceptrons, the perceptron layer adapts each one with the corresponding delta. For this purpose, the MLP passes a list of input values and a list of deltas to the adaptation function. The inputs are passed to *all* perceptrons. The list of deltas is exactly as long as the list of perceptrons: The first delta is for the first perceptron, the second for the second, etc. The delta values themselves will be computed by the MLP."
   ]
  },
  {
   "cell_type": "code",
   "execution_count": null,
   "id": "c9a6ef9f",
   "metadata": {
    "deletable": false,
    "nbgrader": {
     "cell_type": "code",
     "checksum": "4a1072fc4c5fddc1cb0eeb564c7d9efb",
     "grade": true,
     "grade_id": "ex1b_solution",
     "locked": false,
     "points": 2,
     "schema_version": 3,
     "solution": true
    }
   },
   "outputs": [],
   "source": [
    "class PerceptronLayer:\n",
    "    \"\"\"Layer of multiple neurons.\n",
    "    \n",
    "    Attributes:\n",
    "        perceptrons (list): List of perceptron instances in the layer.\n",
    "    \"\"\"\n",
    "    def __init__(self, dim_in, dim_out, act_func=sigmoid):\n",
    "        \"\"\"Initialize the layer as a list of individual neurons.\n",
    "\n",
    "        A layer contains as many neurons as it has outputs, each\n",
    "        neuron has as many input weights (+ bias) as the layer has inputs.\n",
    "\n",
    "        Args:\n",
    "            dim_in (int): Dimensionality of the expected input values,\n",
    "                also the size of the previous layer of a neural network.\n",
    "            dim_out (int): Dimensionality of the output, also the requested \n",
    "                amount of in this layer and the input dimension of the\n",
    "                next layer.\n",
    "            act_func (function): Activation function to use in each perceptron of\n",
    "                this layer.\n",
    "        \"\"\"\n",
    "        # Set self.perceptrons to a list of Perceptrons\n",
    "        # YOUR CODE HERE\n",
    "\n",
    "    def activate(self, x):\n",
    "        \"\"\"Activate this layer by activating each individual neuron.\n",
    "\n",
    "        Args:\n",
    "            x (ndarray): Vector of input values.\n",
    "\n",
    "        Retuns:\n",
    "            ndarray: Vector of output values which can be \n",
    "            used as input to another PerceptronLayer instance.\n",
    "        \"\"\"\n",
    "        # return the vector of activation values\n",
    "        # YOUR CODE HERE\n",
    "\n",
    "    def adapt(self, x, deltas, rate=0.03):\n",
    "        \"\"\"Adapt this layer by adapting each individual neuron.\n",
    "\n",
    "        Args:\n",
    "            x (ndarray): Vector of input values.\n",
    "            deltas (ndarray): Vector of delta values.\n",
    "            rate (float): Learning rate.\n",
    "        \"\"\"\n",
    "        # Update all the perceptrons in this layer\n",
    "        # YOUR CODE HERE\n",
    "        \n",
    "    @property\n",
    "    def weight_matrix(self):\n",
    "        \"\"\"Helper property for getting this layer's weight matrix.\n",
    "\n",
    "        Returns:\n",
    "            ndarray: All the weights for this perceptron layer.\n",
    "        \"\"\"\n",
    "        return np.asarray([p.weights for p in self.perceptrons]).T\n",
    "\n",
    "\n",
    "l = PerceptronLayer(3, 2)\n",
    "assert len(l.perceptrons) == 2, \"Should have as many perceptrons as outputs.\"\n",
    "assert len(l.activate([1,2,3])) == 2, \"Should provide correct output amount.\""
   ]
  },
  {
   "cell_type": "markdown",
   "id": "dda40e18",
   "metadata": {
    "deletable": false,
    "editable": false,
    "nbgrader": {
     "cell_type": "markdown",
     "checksum": "24a3494c2623c91117394d1fae270698",
     "grade": false,
     "grade_id": "ex1c_intro",
     "locked": true,
     "schema_version": 3,
     "solution": false
    }
   },
   "source": [
    "### MultilayerPerceptron\n",
    "\n",
    "#### Forward-Propagation / Activation\n",
    "Propagate the input value $x$ through each layer of the network, employing the output of the previous layer as input to the next layer.\n",
    "\n",
    "#### Back-Propagation / Adaptation\n",
    "This is the most complex step of the whole task. Split into three separate parts:\n",
    "\n",
    "1. ***Forward propagation***: Compute the outputs for each individual layer – similar to the forward-propagation step above, but we need to keep track of the intermediate results to compute each layer's errors. That means: Store the input as the first \"output\" and then activate each of the network's layers using the *previous* layer's output and store the layer's activation result.\n",
    "\n",
    "2. ***Backward propagation***: Calculate each layer's error signals $\\delta_i(k)$. The important part here is to do so from the last to the first array, because each layer's error depends on the error from its following layer:\n",
    "\n",
    "    $$\\delta_i(k) = \\varphi'_i(k) \\sum\\limits_{j=1}^{N(k+1)} w_{ji}(k+1,k)\\delta_j(k+1)$$\n",
    "\n",
    "    Since we use the sigmoid function $\\sigma(t)=\\frac{1}{1+e^{-t}}$ as activation function $\\varphi$ the derivative is $\\varphi'_i(k) = \\sigma'_i(k) = \\sigma_i(k)\\ (1 - \\sigma_i(k))$ and the formula becomes:\n",
    "\n",
    "    $$\\delta_i(k) = \\sigma_i(k)\\ (1 - \\sigma_i(k))\\ \\sum\\limits_{j=1}^{N(k+1)} w_{ji}(k+1,k)\\delta_j(k+1)$$\n",
    "\n",
    "    (*Hint*: For the last layer (i.e. the first you calculate the $\\delta$ for) the sum in the formula above is the total network error. For all preceding layers $k$ you need to recalculate `e` using the $\\delta$ and weights of layer $k+1$. We already implemented a helper function for you to access the weights of a specific layer. Check the `PerceptronLayer` if you did not find it yet.)\n",
    "\n",
    "3. ***Adaptation***: Call each layers adaptation function with its input, its designated error signals and the given learning rate.\n",
    "\n",
    "Hint: The last two steps can be performed in a single loop if you wish, but make sure to use the non-updated weights for the calculation of the next layer's error signals!"
   ]
  },
  {
   "cell_type": "code",
   "execution_count": null,
   "id": "4bb9bf0f",
   "metadata": {
    "deletable": false,
    "nbgrader": {
     "cell_type": "code",
     "checksum": "083873a99d297107fea0b2f76098bdcc",
     "grade": true,
     "grade_id": "ex1c_solution",
     "locked": false,
     "points": 2,
     "schema_version": 3,
     "solution": true
    }
   },
   "outputs": [],
   "source": [
    "class MultilayerPerceptron:\n",
    "    \"\"\"Network of perceptrons, also a set of multiple perceptron layers.\n",
    "    \n",
    "    Attributes:\n",
    "        layers (list): List of perceptron layers in the network.\n",
    "    \"\"\"\n",
    "    def __init__(self, *layers):\n",
    "        \"\"\"Initialize a new network, madeup of individual PerceptronLayers.\n",
    "\n",
    "        Args:\n",
    "            *layers: Arbitrarily many PerceptronLayer instances.\n",
    "        \"\"\"\n",
    "        self.layers = layers\n",
    "\n",
    "    def activate(self, x):\n",
    "        \"\"\"Activate network and return the last layer's output.\n",
    "\n",
    "        Args:\n",
    "            x (ndarray): Vector of input values.\n",
    "\n",
    "        Returns:\n",
    "            (ndarray): Vector of output values from the last layer of the \n",
    "            network after propagating forward through the network.\n",
    "        \"\"\"\n",
    "        # Propagate activation through the network\n",
    "        # and return output for last layer\n",
    "        # YOUR CODE HERE\n",
    "\n",
    "    def adapt(self, x, t, rate=0.03):\n",
    "        \"\"\"Adapt the whole network given an input and expected output.\n",
    "\n",
    "        Args:\n",
    "            x (ndarray): Vector of input values.\n",
    "            t (ndarray): Vector of target values (expected outputs).\n",
    "            rate (float): Learning rate.\n",
    "        \"\"\"\n",
    "        # Activate each layer and collect intermediate outputs.\n",
    "        # * Iterate through all layers and activate them with the output\n",
    "        #       of the previous layer. \n",
    "        # * Create a list with all the outputs.\n",
    "        # * Call the first layer with the input x\n",
    "        # YOUR CODE HERE\n",
    "\n",
    "        # Calculate error 'e' between t and network output, i.e\n",
    "        # the last element of the list of outputs. Here the error\n",
    "        # is the difference between t and the output.\n",
    "        # YOUR CODE HERE\n",
    "        \n",
    "        # Backpropagate the error through the network computing\n",
    "        # the intermediate deltas and adapting each layer.\n",
    "        # * Reversly iterate through the layers\n",
    "        # * Get the input of the layer. I.e. the output of the previous layer\n",
    "        # * Get the output of the layer\n",
    "        # * Compute delta using the output of the layer and the error.\n",
    "        #      (Use the derivative of the sigmoid activation function)\n",
    "        #      (The error for the last layer is computed above)\n",
    "        # * Compute the error for the previous layer in the network\n",
    "        #      using the weight matrix and delta\n",
    "        # * Adapt the layer using the input of the layer, delta and the learning rate\n",
    "        # YOUR CODE HERE"
   ]
  },
  {
   "cell_type": "markdown",
   "id": "8ba892a6",
   "metadata": {
    "deletable": false,
    "editable": false,
    "nbgrader": {
     "cell_type": "markdown",
     "checksum": "152a3c61e96dc5165054dea4632beeec",
     "grade": false,
     "grade_id": "ex1d",
     "locked": true,
     "schema_version": 3,
     "solution": false
    }
   },
   "source": [
    "### Classification"
   ]
  },
  {
   "cell_type": "markdown",
   "id": "58ae4bb9",
   "metadata": {
    "deletable": false,
    "editable": false,
    "nbgrader": {
     "cell_type": "markdown",
     "checksum": "e7199689bad8e1fa8f9fa93e33e3e603",
     "grade": false,
     "grade_id": "ex1d_intro",
     "locked": true,
     "schema_version": 3,
     "solution": false
    }
   },
   "source": [
    "#### Problem Definition\n",
    "Before we start, we need a problem to solve. In the following cell we first generate some two dimensional data (= $\\text{input\\_dim}$) between 0 and 1 and label all data according to a binary classification: If the data is close to the center (radius < 2.5), it belongs to one class, if it is further away from the center it belongs to the other class.\n",
    "\n",
    "In the cell below we visualize the data set."
   ]
  },
  {
   "cell_type": "code",
   "execution_count": null,
   "id": "09c2b655",
   "metadata": {},
   "outputs": [],
   "source": [
    "def uniform(a, b, n=1):\n",
    "    \"\"\"Returns n floats uniformly distributed between a and b.\"\"\"\n",
    "    return (b - a) * np.random.random_sample(n) + a\n",
    "\n",
    "\n",
    "n = 1000\n",
    "radius = 5\n",
    "r = np.append(uniform(0, radius * .5, n // 2),\n",
    "              uniform(radius * .7, radius, n // 2))\n",
    "angle = uniform(0, 2 * np.pi, n)\n",
    "x = r * np.sin(angle) + uniform(-radius, radius, n)\n",
    "y = r * np.cos(angle) + uniform(-radius, radius, n)\n",
    "inputs = np.vstack((x, y)).T\n",
    "targets = np.less(np.linalg.norm(inputs, axis=1), radius * .5)"
   ]
  },
  {
   "cell_type": "code",
   "execution_count": null,
   "id": "7eaa1219",
   "metadata": {
    "deletable": false,
    "editable": false,
    "nbgrader": {
     "cell_type": "code",
     "checksum": "43bae99f366875747b57b08aee63495b",
     "grade": false,
     "grade_id": "ex1d_demo1",
     "locked": true,
     "schema_version": 3,
     "solution": false
    }
   },
   "outputs": [],
   "source": [
    "%matplotlib ipympl\n",
    "import matplotlib.pyplot as plt\n",
    "\n",
    "fig, ax = plt.subplots(num='Data')\n",
    "ax.set(title='Labeled Data')\n",
    "ax.scatter(*inputs.T, 2, c=targets, cmap='RdYlBu')\n",
    "plt.show()"
   ]
  },
  {
   "cell_type": "markdown",
   "id": "6530a1e6",
   "metadata": {
    "deletable": false,
    "editable": false,
    "nbgrader": {
     "cell_type": "markdown",
     "checksum": "c6f21cca2778921b273204b8a4d84e2f",
     "grade": false,
     "grade_id": "ex1d_intro2",
     "locked": true,
     "schema_version": 3,
     "solution": false
    }
   },
   "source": [
    "### Model Design\n",
    "The following cell already contains a simple model with a single layer. Play around with some different configurations!"
   ]
  },
  {
   "cell_type": "code",
   "execution_count": null,
   "id": "3d3f0ab0",
   "metadata": {
    "deletable": false,
    "nbgrader": {
     "cell_type": "code",
     "checksum": "dfaeffae61bc519a129b8ab7becd5e02",
     "grade": true,
     "grade_id": "ex1d_solution1",
     "locked": false,
     "points": 0,
     "schema_version": 3,
     "solution": true
    }
   },
   "outputs": [],
   "source": [
    "MLP = MultilayerPerceptron(\n",
    "    PerceptronLayer(2, 1),\n",
    ")\n",
    "# Adapt this MLP\n",
    "# YOUR CODE HERE"
   ]
  },
  {
   "cell_type": "markdown",
   "id": "50421d82",
   "metadata": {
    "deletable": false,
    "editable": false,
    "nbgrader": {
     "cell_type": "markdown",
     "checksum": "5a6f6361b876ec8e0d7ea4317c04e23e",
     "grade": false,
     "grade_id": "ex1d_intro3",
     "locked": true,
     "schema_version": 3,
     "solution": false
    }
   },
   "source": [
    "### Training\n",
    "Train the network on random samples from the data. Try adjusting the epochs and watch the training performance closely using different models."
   ]
  },
  {
   "cell_type": "code",
   "execution_count": null,
   "id": "a3085aa9",
   "metadata": {
    "deletable": false,
    "editable": false,
    "nbgrader": {
     "cell_type": "code",
     "checksum": "87feb440331173ba39f173885b35c364",
     "grade": false,
     "grade_id": "ex1d_demo2",
     "locked": true,
     "schema_version": 3,
     "solution": false
    }
   },
   "outputs": [],
   "source": [
    "%matplotlib ipympl\n",
    "from matplotlib import cm\n",
    "\n",
    "EPOCHS = 200000\n",
    "\n",
    "max_accuracy = 0\n",
    "\n",
    "fig, ax = plt.subplots(num='Training')\n",
    "scatter = ax.scatter(*inputs.T, 2)\n",
    "plt.show()\n",
    "\n",
    "for epoch in range(1, EPOCHS + 1):\n",
    "    sample_index = np.random.randint(0, len(targets))\n",
    "    MLP.adapt(inputs[sample_index], targets[sample_index])\n",
    "\n",
    "    if (epoch % 2500) == 0:\n",
    "        outputs = np.squeeze([MLP.activate(x) for x in inputs])\n",
    "        predictions = np.round(outputs)\n",
    "        accuracy = np.sum(predictions == targets) / len(targets) * 100\n",
    "        if accuracy > max_accuracy:\n",
    "            max_accuracy = accuracy\n",
    "        scatter.set_color(cm.RdYlBu(outputs))\n",
    "        ax.set(title=f'Training {epoch / EPOCHS * 100:.0f}%: {accuracy:.2f}%. Best accuracy: {max_accuracy:.2f}%')\n",
    "        fig.canvas.draw()"
   ]
  },
  {
   "cell_type": "markdown",
   "id": "394eb05c",
   "metadata": {
    "deletable": false,
    "editable": false,
    "nbgrader": {
     "cell_type": "markdown",
     "checksum": "294283d3bfe026b36a873684a5a202ee",
     "grade": false,
     "grade_id": "ex1d_intro4",
     "locked": true,
     "schema_version": 3,
     "solution": false
    }
   },
   "source": [
    "### Evaluation"
   ]
  },
  {
   "cell_type": "code",
   "execution_count": null,
   "id": "0fc94dff",
   "metadata": {
    "deletable": false,
    "editable": false,
    "nbgrader": {
     "cell_type": "code",
     "checksum": "964cf9e880b24c98cd28fc0f4506684a",
     "grade": false,
     "grade_id": "ex1d_demo3",
     "locked": true,
     "schema_version": 3,
     "solution": false
    }
   },
   "outputs": [],
   "source": [
    "%matplotlib ipympl\n",
    "fig, ax = plt.subplots(nrows=2, ncols=2)\n",
    "ax[0, 0].scatter(*inputs.T, 2, c=outputs, cmap='RdYlBu')\n",
    "ax[0, 0].set_title('Continuous Classification')\n",
    "ax[0, 1].set_title('Discretized Classification')\n",
    "ax[0, 1].scatter(*inputs.T, 2, c=np.round(outputs), cmap='RdYlBu')\n",
    "ax[1, 0].set_title('Original Labels')\n",
    "ax[1, 0].scatter(*inputs.T, 2, c=targets, cmap='RdYlBu')\n",
    "ax[1, 1].set_title('Wrong Classifications')\n",
    "ax[1, 1].scatter(*inputs.T, 2, c=(targets != np.round(outputs)), cmap='OrRd')\n",
    "fig.tight_layout()\n",
    "plt.show()"
   ]
  },
  {
   "cell_type": "markdown",
   "id": "b03fd351",
   "metadata": {
    "deletable": false,
    "editable": false,
    "nbgrader": {
     "cell_type": "markdown",
     "checksum": "e406fdc32f76877a082446b2d973d299",
     "grade": false,
     "grade_id": "ex1d_intro5",
     "locked": true,
     "schema_version": 3,
     "solution": false
    }
   },
   "source": [
    "### Results\n",
    "Document your results in the following cell. We are interested in which network configurations you tried and what accuracies they resulted in. Did you run into problems during training? Was it steady or did it get stuck? Did you recognize anything about the training process? How could we get better results? Tell us!"
   ]
  },
  {
   "cell_type": "markdown",
   "id": "1f055c12",
   "metadata": {
    "deletable": false,
    "nbgrader": {
     "cell_type": "markdown",
     "checksum": "9c0b30174d983f56bb737c2d54e2bfa0",
     "grade": true,
     "grade_id": "ex1d_solution",
     "locked": false,
     "points": 4,
     "schema_version": 3,
     "solution": true
    }
   },
   "source": [
    "YOUR ANSWER HERE"
   ]
  },
  {
   "cell_type": "markdown",
   "id": "2012edea",
   "metadata": {
    "deletable": false,
    "editable": false,
    "nbgrader": {
     "cell_type": "markdown",
     "checksum": "9ef920c67ba505176c8029837a2fdf6d",
     "grade": false,
     "grade_id": "ex-nn1",
     "locked": true,
     "schema_version": 3,
     "solution": false
    }
   },
   "source": [
    "## Assignment 3: Nearest Neighbor Theory (5 points)\n",
    "\n",
    "In this exercise you will examine some aspects of the nearest neighbor algorithm in more detail. Not all questions have been answered in the lecture, so you may refer to literature for a deeper understanding."
   ]
  },
  {
   "cell_type": "markdown",
   "id": "8d5df96c",
   "metadata": {
    "deletable": false,
    "editable": false,
    "nbgrader": {
     "cell_type": "markdown",
     "checksum": "2c2d18647d05c625497010e5122b400b",
     "grade": false,
     "grade_id": "ex-nn1a",
     "locked": true,
     "schema_version": 3,
     "solution": false
    }
   },
   "source": [
    "### a) The nearest neighbor algorithm\n",
    "\n",
    "Explain in your own words the nearest neighbor algorithm.  What prerequisites have to be fulfilled to apply the algorithm? To what kind of tasks can it be applied? What additional problem arises when considering multiple nearest neighbors instead of only one?"
   ]
  },
  {
   "cell_type": "markdown",
   "id": "bc9b77c8",
   "metadata": {
    "deletable": false,
    "nbgrader": {
     "cell_type": "markdown",
     "checksum": "b9507c9cfe4f19031ba4700fc89574b5",
     "grade": true,
     "grade_id": "ex-nn1a_solution",
     "locked": false,
     "points": 1,
     "schema_version": 3,
     "solution": true
    }
   },
   "source": [
    "YOUR ANSWER HERE"
   ]
  },
  {
   "cell_type": "markdown",
   "id": "62df8b86",
   "metadata": {
    "deletable": false,
    "editable": false,
    "nbgrader": {
     "cell_type": "markdown",
     "checksum": "90f57a501681742e974e0741d54f6245",
     "grade": false,
     "grade_id": "ex-nn1-bias",
     "locked": true,
     "schema_version": 3,
     "solution": false
    }
   },
   "source": [
    "### b) Inductive bias\n",
    "\n",
    "What is the inductive bias of nearest neighbor learning? In what sense is it a local method?"
   ]
  },
  {
   "cell_type": "markdown",
   "id": "71a2ef64",
   "metadata": {
    "deletable": false,
    "nbgrader": {
     "cell_type": "markdown",
     "checksum": "358859a495ad1a035cc6d486c794b2a0",
     "grade": true,
     "grade_id": "ex-nn1-bias-solution",
     "locked": false,
     "points": 1,
     "schema_version": 3,
     "solution": true
    }
   },
   "source": [
    "YOUR ANSWER HERE"
   ]
  },
  {
   "cell_type": "markdown",
   "id": "7f724bfd",
   "metadata": {
    "deletable": false,
    "editable": false,
    "nbgrader": {
     "cell_type": "markdown",
     "checksum": "205cf0dbc2cf81282d70c8ea26057719",
     "grade": false,
     "grade_id": "ex-nn1-dimensionality",
     "locked": true,
     "schema_version": 3,
     "solution": false,
     "task": false
    }
   },
   "source": [
    "### c) Curse of dimensionality\n",
    "\n",
    "What problems do you anticipate when applying the nearest neighbor algorithm in high dimensional spaces? How would you mitigate those problems?"
   ]
  },
  {
   "cell_type": "markdown",
   "id": "5417b64c",
   "metadata": {
    "deletable": false,
    "nbgrader": {
     "cell_type": "markdown",
     "checksum": "4bc92f3984775a57afb937644222a4f2",
     "grade": true,
     "grade_id": "ex-nn1-dimensionality_solution",
     "locked": false,
     "points": 0,
     "schema_version": 3,
     "solution": true,
     "task": false
    }
   },
   "source": [
    "YOUR ANSWER HERE"
   ]
  },
  {
   "cell_type": "markdown",
   "id": "bd83dd2c",
   "metadata": {
    "deletable": false,
    "editable": false,
    "nbgrader": {
     "cell_type": "markdown",
     "checksum": "e281963ed152f9109d55588c3f9d2163",
     "grade": false,
     "grade_id": "ex-nn1-search",
     "locked": true,
     "schema_version": 3,
     "solution": false,
     "task": false
    }
   },
   "source": [
    "### d) Nearest neighbor search\n",
    "\n",
    "The lecture slides claim that application of the nearest neighbor approach may be slow (for many stored examples). Explain this statement: what is the complexity?  What methods could be applied to improve the situation?"
   ]
  },
  {
   "cell_type": "markdown",
   "id": "e53b36b0",
   "metadata": {
    "deletable": false,
    "nbgrader": {
     "cell_type": "markdown",
     "checksum": "a19213bdb0a3ceaa83a53ff326e160f7",
     "grade": true,
     "grade_id": "ex-nn1-search-solution",
     "locked": false,
     "points": 0,
     "schema_version": 3,
     "solution": true,
     "task": false
    }
   },
   "source": [
    "YOUR ANSWER HERE"
   ]
  },
  {
   "cell_type": "markdown",
   "id": "85222eca",
   "metadata": {
    "deletable": false,
    "editable": false,
    "nbgrader": {
     "cell_type": "markdown",
     "checksum": "03d10a6261934e0c3d608b740ada2ee9",
     "grade": false,
     "grade_id": "ex-nn1-noise",
     "locked": true,
     "schema_version": 3,
     "solution": false,
     "task": false
    }
   },
   "source": [
    "### e) Sensitivity to noise\n",
    "\n",
    "Why is the nearest neighbor approach sensitive to noise? What is the essential difference to other learning approaches, that are less sensitive to noise? How could the nearest neighbor approach be made less noise sensitive?"
   ]
  },
  {
   "cell_type": "markdown",
   "id": "8de98959",
   "metadata": {
    "deletable": false,
    "nbgrader": {
     "cell_type": "markdown",
     "checksum": "94fc7f6fd742f0f832719531dc471de7",
     "grade": true,
     "grade_id": "ex-nn1-noise-solution",
     "locked": false,
     "points": 0,
     "schema_version": 3,
     "solution": true,
     "task": false
    }
   },
   "source": [
    "YOUR ANSWER HERE"
   ]
  }
 ],
 "metadata": {
  "kernelspec": {
   "display_name": "Python 3 (ipykernel)",
   "language": "python",
   "name": "python3"
  }
 },
 "nbformat": 4,
 "nbformat_minor": 5
}
